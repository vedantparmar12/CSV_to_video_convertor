{
  "nbformat": 4,
  "nbformat_minor": 0,
  "metadata": {
    "colab": {
      "provenance": [],
      "authorship_tag": "ABX9TyMggDVKoKjtjoowc9ot+2DA"
    },
    "kernelspec": {
      "name": "python3",
      "display_name": "Python 3"
    },
    "language_info": {
      "name": "python"
    }
  },
  "cells": [
    {
      "cell_type": "code",
      "execution_count": 31,
      "metadata": {
        "colab": {
          "base_uri": "https://localhost:8080/"
        },
        "id": "HXGkJRz_HGzp",
        "outputId": "ea1ee29d-c2ff-4ee7-b4be-a3ae72846ea4"
      },
      "outputs": [
        {
          "output_type": "stream",
          "name": "stdout",
          "text": [
            "\u001b[31mERROR: pip's dependency resolver does not currently take into account all the packages that are installed. This behaviour is the source of the following dependency conflicts.\n",
            "imageio 2.31.6 requires pillow<10.1.0,>=8.3.2, but you have pillow 10.1.0 which is incompatible.\u001b[0m\u001b[31m\n",
            "\u001b[0m"
          ]
        }
      ],
      "source": [
        "!pip install opencv-python --upgrade --quiet\n",
        "!pip install Pillow --upgrade --quiet\n",
        "!pip install moviepy --upgrade --quiet\n",
        "!pip install gTTS --upgrade --quiet"
      ]
    },
    {
      "cell_type": "code",
      "source": [
        "import pandas as pd\n",
        "# Replace 'your_file.csv' with the actual path to your CSV file\n",
        "file_path = '/content/Talati Quiz - Sheet1 (1).csv'\n",
        "data_frame = pd.read_csv(file_path)\n",
        "data_list = data_frame.values.tolist()\n",
        "print(data_list[0])"
      ],
      "metadata": {
        "colab": {
          "base_uri": "https://localhost:8080/"
        },
        "id": "yU53QpjMHVzZ",
        "outputId": "338d4a82-cc23-4a60-87bc-f61a0473638b"
      },
      "execution_count": 38,
      "outputs": [
        {
          "output_type": "stream",
          "name": "stdout",
          "text": [
            "['What is the goal of Hypothesis testing?', 'A. To test whether the null hypothesis can be rejected or approved.', 'B. To test whether the alternate hypothesis can be rejected or approved.', 'C. To test whether the alternate and the null hypothesis can be approved or not.', 'D. None of the above.', 'Ans :- To test whether the null hypothesis can be rejected or approved.']\n"
          ]
        }
      ]
    },
    {
      "cell_type": "code",
      "source": [
        "from PIL import Image, ImageDraw, ImageFont\n",
        "import textwrap\n",
        "\n",
        "def create_image_with_text(data_list, image_size=(1080, 1920), text_color=(229, 0, 135),\n",
        "                           background_color=(255, 229, 244), font_size=72, margin=18):\n",
        "    for index, item in enumerate(data_list):\n",
        "        image = Image.new('RGB', image_size, background_color)\n",
        "        draw = ImageDraw.Draw(image)\n",
        "        font = ImageFont.truetype(\"/content/Roboto-Medium.ttf\", font_size)\n",
        "        line_height = font_size + 5\n",
        "        padding = 10\n",
        "        y = padding + 1 * line_height + margin\n",
        "        for col, text in enumerate(item):\n",
        "            x = padding + 1 * (image_size[0] // len(item))\n",
        "            # Wrap text if it exceeds the available space\n",
        "            wrapped_text = textwrap.fill(text, width=25)\n",
        "            lines = wrapped_text.split('\\n')\n",
        "\n",
        "            for line in lines:\n",
        "                if col==1:\n",
        "                    y=y+100\n",
        "                    text_color=(0,100,0)\n",
        "                if col==5:\n",
        "                    y=y+100\n",
        "                    text_color=(255, 0, 244)\n",
        "                draw.text((x, y), line, text_color, font=font)\n",
        "                y += line_height\n",
        "        image.save(f\"imageans0_{index + 1}.png\")\n",
        "        print(\"Image \",index+1 ,\"successfully Created \")\n"
      ],
      "metadata": {
        "id": "_WnOwDqmTLIR"
      },
      "execution_count": 62,
      "outputs": []
    },
    {
      "cell_type": "code",
      "source": [
        "\n",
        "create_image(data_list)\n",
        "create_image_with_text(data_list)\n"
      ],
      "metadata": {
        "colab": {
          "base_uri": "https://localhost:8080/"
        },
        "id": "4zUhCwOYTPf7",
        "outputId": "f4945e3a-cfd5-4d72-afdc-e3db09f3b39d"
      },
      "execution_count": 63,
      "outputs": [
        {
          "output_type": "stream",
          "name": "stdout",
          "text": [
            "Image  1 successfully Created \n",
            "Image  2 successfully Created \n",
            "Image  3 successfully Created \n",
            "Image  1 successfully Created \n",
            "Image  2 successfully Created \n",
            "Image  3 successfully Created \n"
          ]
        }
      ]
    },
    {
      "cell_type": "code",
      "source": [],
      "metadata": {
        "id": "-oaTTE36TSPu"
      },
      "execution_count": null,
      "outputs": []
    }
  ]
}