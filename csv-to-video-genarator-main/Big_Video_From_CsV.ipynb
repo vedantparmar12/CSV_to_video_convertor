{
  "cells": [
    {
      "cell_type": "markdown",
      "metadata": {
        "id": "view-in-github",
        "colab_type": "text"
      },
      "source": [
        "<a href=\"https://colab.research.google.com/github/Yash-Kavaiya/csv-to-video-genarator/blob/main/Big_Video_From_CsV.ipynb\" target=\"_parent\"><img src=\"https://colab.research.google.com/assets/colab-badge.svg\" alt=\"Open In Colab\"/></a>"
      ]
    },
    {
      "cell_type": "code",
      "execution_count": null,
      "metadata": {
        "id": "Eeg9UvROUoa6"
      },
      "outputs": [],
      "source": [
        "!pip install opencv-python --upgrade --quiet\n",
        "!pip install Pillow --upgrade --quiet\n",
        "!pip install moviepy --upgrade --quiet\n",
        "!pip install gTTS --upgrade --quiet"
      ]
    },
    {
      "cell_type": "code",
      "execution_count": null,
      "metadata": {
        "colab": {
          "base_uri": "https://localhost:8080/"
        },
        "id": "poKnQW8N0yTx",
        "outputId": "b9e17899-0a2e-4cd0-d3e3-60ac5bc6450d"
      },
      "outputs": [
        {
          "name": "stdout",
          "output_type": "stream",
          "text": [
            "['ગ્રીસના લોકો સિંધુ નદીને શું કહેતા હતા.?', 'A. ગંગેય', 'B. ઇન્ડસ', 'C. હીંડોસ', 'D. ઇન્ડીયા', 'જવાબ :D. ઇન્ડીયા']\n"
          ]
        }
      ],
      "source": [
        "import pandas as pd\n",
        "# Replace 'your_file.csv' with the actual path to your CSV file\n",
        "file_path = '/content/તલાટી અને જુનિયર કલાર્ક મોડેલ પેપર -2 - તલાટી અને જુનિયર કલાર્ક મોડેલ પેપર -2(1).csv'\n",
        "data_frame = pd.read_csv(file_path)\n",
        "data_list = data_frame.values.tolist()\n",
        "print(data_list[0])"
      ]
    },
    {
      "cell_type": "code",
      "execution_count": null,
      "metadata": {
        "colab": {
          "base_uri": "https://localhost:8080/",
          "height": 391
        },
        "id": "vfZXZutUbaZA",
        "outputId": "964c631d-4e1f-47fb-8b39-a72f24b4e4ae"
      },
      "outputs": [
        {
          "ename": "OSError",
          "evalue": "ignored",
          "output_type": "error",
          "traceback": [
            "\u001b[0;31m---------------------------------------------------------------------------\u001b[0m",
            "\u001b[0;31mOSError\u001b[0m                                   Traceback (most recent call last)",
            "\u001b[0;32m<ipython-input-9-5cb845b50f73>\u001b[0m in \u001b[0;36m<cell line: 17>\u001b[0;34m()\u001b[0m\n\u001b[1;32m     18\u001b[0m     \u001b[0mimage\u001b[0m \u001b[0;34m=\u001b[0m \u001b[0mImage\u001b[0m\u001b[0;34m.\u001b[0m\u001b[0mnew\u001b[0m\u001b[0;34m(\u001b[0m\u001b[0;34m\"RGB\"\u001b[0m\u001b[0;34m,\u001b[0m \u001b[0;34m(\u001b[0m\u001b[0mimage_width\u001b[0m\u001b[0;34m,\u001b[0m \u001b[0mimage_height\u001b[0m\u001b[0;34m)\u001b[0m\u001b[0;34m,\u001b[0m \u001b[0mbackground_color\u001b[0m\u001b[0;34m)\u001b[0m\u001b[0;34m\u001b[0m\u001b[0;34m\u001b[0m\u001b[0m\n\u001b[1;32m     19\u001b[0m     \u001b[0mdraw\u001b[0m \u001b[0;34m=\u001b[0m \u001b[0mImageDraw\u001b[0m\u001b[0;34m.\u001b[0m\u001b[0mDraw\u001b[0m\u001b[0;34m(\u001b[0m\u001b[0mimage\u001b[0m\u001b[0;34m)\u001b[0m\u001b[0;34m\u001b[0m\u001b[0;34m\u001b[0m\u001b[0m\n\u001b[0;32m---> 20\u001b[0;31m     \u001b[0mfont\u001b[0m \u001b[0;34m=\u001b[0m \u001b[0mImageFont\u001b[0m\u001b[0;34m.\u001b[0m\u001b[0mtruetype\u001b[0m\u001b[0;34m(\u001b[0m\u001b[0;34m\"/content/HindVadodara-Bold.ttf\"\u001b[0m\u001b[0;34m,\u001b[0m \u001b[0mfont_size\u001b[0m\u001b[0;34m)\u001b[0m\u001b[0;34m\u001b[0m\u001b[0;34m\u001b[0m\u001b[0m\n\u001b[0m\u001b[1;32m     21\u001b[0m     \u001b[0my_position\u001b[0m \u001b[0;34m=\u001b[0m \u001b[0mmargin\u001b[0m\u001b[0;34m\u001b[0m\u001b[0;34m\u001b[0m\u001b[0m\n\u001b[1;32m     22\u001b[0m \u001b[0;34m\u001b[0m\u001b[0m\n",
            "\u001b[0;32m/usr/local/lib/python3.10/dist-packages/PIL/ImageFont.py\u001b[0m in \u001b[0;36mtruetype\u001b[0;34m(font, size, index, encoding, layout_engine)\u001b[0m\n\u001b[1;32m    789\u001b[0m \u001b[0;34m\u001b[0m\u001b[0m\n\u001b[1;32m    790\u001b[0m     \u001b[0;32mtry\u001b[0m\u001b[0;34m:\u001b[0m\u001b[0;34m\u001b[0m\u001b[0;34m\u001b[0m\u001b[0m\n\u001b[0;32m--> 791\u001b[0;31m         \u001b[0;32mreturn\u001b[0m \u001b[0mfreetype\u001b[0m\u001b[0;34m(\u001b[0m\u001b[0mfont\u001b[0m\u001b[0;34m)\u001b[0m\u001b[0;34m\u001b[0m\u001b[0;34m\u001b[0m\u001b[0m\n\u001b[0m\u001b[1;32m    792\u001b[0m     \u001b[0;32mexcept\u001b[0m \u001b[0mOSError\u001b[0m\u001b[0;34m:\u001b[0m\u001b[0;34m\u001b[0m\u001b[0;34m\u001b[0m\u001b[0m\n\u001b[1;32m    793\u001b[0m         \u001b[0;32mif\u001b[0m \u001b[0;32mnot\u001b[0m \u001b[0mis_path\u001b[0m\u001b[0;34m(\u001b[0m\u001b[0mfont\u001b[0m\u001b[0;34m)\u001b[0m\u001b[0;34m:\u001b[0m\u001b[0;34m\u001b[0m\u001b[0;34m\u001b[0m\u001b[0m\n",
            "\u001b[0;32m/usr/local/lib/python3.10/dist-packages/PIL/ImageFont.py\u001b[0m in \u001b[0;36mfreetype\u001b[0;34m(font)\u001b[0m\n\u001b[1;32m    786\u001b[0m \u001b[0;34m\u001b[0m\u001b[0m\n\u001b[1;32m    787\u001b[0m     \u001b[0;32mdef\u001b[0m \u001b[0mfreetype\u001b[0m\u001b[0;34m(\u001b[0m\u001b[0mfont\u001b[0m\u001b[0;34m)\u001b[0m\u001b[0;34m:\u001b[0m\u001b[0;34m\u001b[0m\u001b[0;34m\u001b[0m\u001b[0m\n\u001b[0;32m--> 788\u001b[0;31m         \u001b[0;32mreturn\u001b[0m \u001b[0mFreeTypeFont\u001b[0m\u001b[0;34m(\u001b[0m\u001b[0mfont\u001b[0m\u001b[0;34m,\u001b[0m \u001b[0msize\u001b[0m\u001b[0;34m,\u001b[0m \u001b[0mindex\u001b[0m\u001b[0;34m,\u001b[0m \u001b[0mencoding\u001b[0m\u001b[0;34m,\u001b[0m \u001b[0mlayout_engine\u001b[0m\u001b[0;34m)\u001b[0m\u001b[0;34m\u001b[0m\u001b[0;34m\u001b[0m\u001b[0m\n\u001b[0m\u001b[1;32m    789\u001b[0m \u001b[0;34m\u001b[0m\u001b[0m\n\u001b[1;32m    790\u001b[0m     \u001b[0;32mtry\u001b[0m\u001b[0;34m:\u001b[0m\u001b[0;34m\u001b[0m\u001b[0;34m\u001b[0m\u001b[0m\n",
            "\u001b[0;32m/usr/local/lib/python3.10/dist-packages/PIL/ImageFont.py\u001b[0m in \u001b[0;36m__init__\u001b[0;34m(self, font, size, index, encoding, layout_engine)\u001b[0m\n\u001b[1;32m    224\u001b[0m                         \u001b[0mload_from_bytes\u001b[0m\u001b[0;34m(\u001b[0m\u001b[0mf\u001b[0m\u001b[0;34m)\u001b[0m\u001b[0;34m\u001b[0m\u001b[0;34m\u001b[0m\u001b[0m\n\u001b[1;32m    225\u001b[0m                     \u001b[0;32mreturn\u001b[0m\u001b[0;34m\u001b[0m\u001b[0;34m\u001b[0m\u001b[0m\n\u001b[0;32m--> 226\u001b[0;31m             self.font = core.getfont(\n\u001b[0m\u001b[1;32m    227\u001b[0m                 \u001b[0mfont\u001b[0m\u001b[0;34m,\u001b[0m \u001b[0msize\u001b[0m\u001b[0;34m,\u001b[0m \u001b[0mindex\u001b[0m\u001b[0;34m,\u001b[0m \u001b[0mencoding\u001b[0m\u001b[0;34m,\u001b[0m \u001b[0mlayout_engine\u001b[0m\u001b[0;34m=\u001b[0m\u001b[0mlayout_engine\u001b[0m\u001b[0;34m\u001b[0m\u001b[0;34m\u001b[0m\u001b[0m\n\u001b[1;32m    228\u001b[0m             )\n",
            "\u001b[0;31mOSError\u001b[0m: cannot open resource"
          ]
        }
      ],
      "source": [
        "from PIL import Image, ImageDraw, ImageFont\n",
        "import textwrap\n",
        "\n",
        "# data_list = [\n",
        "#     [\"કલકત્તામાં એશિયાટિક સોસાયટીની સ્થાપના સમયે બંગાળના ગવર્નર જનરલ કોણ હતા ?\", \"A. કોનૅવોલીસ\", \"B. વિલિયમ બેન્ટિક\", \"C. વોરન હેસ્ટીંગ્સ\", \"D. વેલેસ્લી\", \"જવાબ :- વોરન હેસ્ટીંગ્સ\", \"\"],\n",
        "#     [\"સ્વામી વિવેકાનંદ નું મૂળ નામ શું હતું ?\", \"A. સુરેન્દ્રનાથ\", \"B. રવીન્દ્રનાથ\", \"C. રામકૃષ્ણ\", \"D. નરેન્દ્રનાથ\", \"જવાબ  નરેન્દ્રનાથ\", \"\"]\n",
        "#     # Add more data here for a total of 7 objects]\n",
        "\n",
        "image_width = 1080\n",
        "image_height = 1920\n",
        "background_color = (255, 229, 244)\n",
        "font_color = (229, 0, 135)\n",
        "font_size = 90\n",
        "line_spacing = 10\n",
        "margin = 80\n",
        "\n",
        "for idx, data in enumerate(data_list):\n",
        "    image = Image.new(\"RGB\", (image_width, image_height), background_color)\n",
        "    draw = ImageDraw.Draw(image)\n",
        "    font = ImageFont.truetype(\"/content/HindVadodara-Bold.ttf\", font_size)\n",
        "    y_position = margin\n",
        "\n",
        "    for text in data:\n",
        "        wrapped_text = textwrap.fill(text, width=40)  # Adjust width as needed\n",
        "        lines = wrapped_text.split('\\n')\n",
        "\n",
        "        for line in lines:\n",
        "\n",
        "            draw.text((margin, y_position), line, font=font, fill=font_color)\n",
        "            y_position += font_size + line_spacing\n",
        "\n",
        "        y_position += line_spacing  # Add extra spacing between wrapped lines\n",
        "    image.save(f\"Gyan_Dariyo_image_{idx+1}.png\")\n",
        "    image.show()\n"
      ]
    },
    {
      "cell_type": "code",
      "execution_count": null,
      "metadata": {
        "colab": {
          "base_uri": "https://localhost:8080/",
          "height": 280
        },
        "id": "V-3RGMughiCE",
        "outputId": "4e207d53-d90f-4357-ca6d-3f32224ba510"
      },
      "outputs": [
        {
          "data": {
            "text/html": [
              "\n",
              "                <audio  controls=\"controls\" autoplay=\"autoplay\">\n",
              "                    <source src=\"data:audio/mpeg;base64,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\" type=\"audio/mpeg\" />\n",
              "                    Your browser does not support the audio element.\n",
              "                </audio>\n",
              "              "
            ],
            "text/plain": [
              "<IPython.lib.display.Audio object>"
            ]
          },
          "metadata": {},
          "output_type": "display_data"
        },
        {
          "data": {
            "text/html": [
              "\n",
              "                <audio  controls=\"controls\" autoplay=\"autoplay\">\n",
              "                    <source src=\"data:audio/mpeg;base64,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\" type=\"audio/mpeg\" />\n",
              "                    Your browser does not support the audio element.\n",
              "                </audio>\n",
              "              "
            ],
            "text/plain": [
              "<IPython.lib.display.Audio object>"
            ]
          },
          "metadata": {},
          "output_type": "display_data"
        },
        {
          "data": {
            "text/html": [
              "\n",
              "                <audio  controls=\"controls\" autoplay=\"autoplay\">\n",
              "                    <source src=\"data:audio/mpeg;base64,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\" type=\"audio/mpeg\" />\n",
              "                    Your browser does not support the audio element.\n",
              "                </audio>\n",
              "              "
            ],
            "text/plain": [
              "<IPython.lib.display.Audio object>"
            ]
          },
          "metadata": {},
          "output_type": "display_data"
        },
        {
          "data": {
            "text/html": [
              "\n",
              "                <audio  controls=\"controls\" autoplay=\"autoplay\">\n",
              "                    <source src=\"data:audio/mpeg;base64,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\" type=\"audio/mpeg\" />\n",
              "                    Your browser does not support the audio element.\n",
              "                </audio>\n",
              "              "
            ],
            "text/plain": [
              "<IPython.lib.display.Audio object>"
            ]
          },
          "metadata": {},
          "output_type": "display_data"
        },
        {
          "data": {
            "text/html": [
              "\n",
              "                <audio  controls=\"controls\" autoplay=\"autoplay\">\n",
              "                    <source src=\"data:audio/mpeg;base64,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\" type=\"audio/mpeg\" />\n",
              "                    Your browser does not support the audio element.\n",
              "                </audio>\n",
              "              "
            ],
            "text/plain": [
              "<IPython.lib.display.Audio object>"
            ]
          },
          "metadata": {},
          "output_type": "display_data"
        },
        {
          "data": {
            "text/html": [
              "\n",
              "                <audio  controls=\"controls\" autoplay=\"autoplay\">\n",
              "                    <source src=\"data:audio/mpeg;base64,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\" type=\"audio/mpeg\" />\n",
              "                    Your browser does not support the audio element.\n",
              "                </audio>\n",
              "              "
            ],
            "text/plain": [
              "<IPython.lib.display.Audio object>"
            ]
          },
          "metadata": {},
          "output_type": "display_data"
        }
      ],
      "source": [
        "from PIL import Image, ImageDraw, ImageFont\n",
        "import textwrap\n",
        "from gtts import gTTS\n",
        "import os\n",
        "\n",
        "# data_list = [\n",
        "#     [\"કલકત્તામાં એશિયાટિક સોસાયટીની સ્થાપના સમયે બંગાળના ગવર્નર જનરલ કોણ હતા ?\", \"A. કોનૅવોલીસ\", \"B. વિલિયમ બેન્ટિક\", \"C. વોરન હેસ્ટીંગ્સ\", \"D. વેલેસ્લી\", \"જવાબ :- વોરન હેસ્ટીંગ્સ\", \"\"],\n",
        "#     [\"સ્વામી વિવેકાનંદ નું મૂળ નામ શું હતું ?\", \"A. સુરેન્દ્રનાથ\", \"B. રવીન્દ્રનાથ\", \"C. રામકૃષ્ણ\", \"D. નરેન્દ્રનાથ\", \"જવાબ  નરેન્દ્રનાથ\", \"\"]\n",
        "#     # Add more data here for a total of 7 objects\n",
        "# ]\n",
        "\n",
        "image_width = 1920\n",
        "image_height = 1080\n",
        "background_color = (238, 164, 127)\n",
        "font_color = (1, 83, 157)\n",
        "font_size = 90\n",
        "line_spacing = 10\n",
        "margin = 80\n",
        "\n",
        "for idx, data in enumerate(data_list):\n",
        "    image = Image.new(\"RGB\", (image_width, image_height), background_color)\n",
        "    draw = ImageDraw.Draw(image)\n",
        "    font = ImageFont.truetype(\"/content/HindVadodara-SemiBold.ttf\", font_size)\n",
        "    y_position = margin\n",
        "\n",
        "    text_to_speak = \"\"\n",
        "\n",
        "    for text in data:\n",
        "        wrapped_text = textwrap.fill(text, width=40)  # Adjust width as needed\n",
        "        lines = wrapped_text.split('\\n')\n",
        "\n",
        "        for line in lines:\n",
        "            draw.text((margin, y_position), line, font=font, fill=font_color)\n",
        "            y_position += font_size + line_spacing\n",
        "            text_to_speak += line + \"\\n\"\n",
        "\n",
        "        y_position += line_spacing  # Add extra spacing between wrapped lines\n",
        "\n",
        "    image.save(f\"Gyan_Dariyo_image_{idx+1}.png\")\n",
        "    image.show()\n",
        "\n",
        "    # Convert text to speech and create an audio file\n",
        "    tts = gTTS(text=text_to_speak, lang='gu')\n",
        "    audio_file_path = f\"Gyan_Dariyo_audio_{idx+1}.mp3\"\n",
        "    tts.save(audio_file_path)\n",
        "\n",
        "    # Play the audio (you may need additional setup for audio playback)\n",
        "    # For example, on Google Colab, you can use the IPython display module\n",
        "    from IPython.display import Audio, display\n",
        "    display(Audio(audio_file_path, autoplay=True))\n"
      ]
    },
    {
      "cell_type": "code",
      "execution_count": null,
      "metadata": {
        "colab": {
          "base_uri": "https://localhost:8080/"
        },
        "id": "BXXksij-i2e4",
        "outputId": "04060496-a35a-4d4a-db81-ce8724351958"
      },
      "outputs": [
        {
          "name": "stdout",
          "output_type": "stream",
          "text": [
            "Moviepy - Building video Gyan_Dariyo_video_1.mp4.\n",
            "MoviePy - Writing audio in Gyan_Dariyo_video_1TEMP_MPY_wvf_snd.mp4\n"
          ]
        },
        {
          "name": "stderr",
          "output_type": "stream",
          "text": [
            ""
          ]
        },
        {
          "name": "stdout",
          "output_type": "stream",
          "text": [
            "MoviePy - Done.\n",
            "Moviepy - Writing video Gyan_Dariyo_video_1.mp4\n",
            "\n"
          ]
        },
        {
          "name": "stderr",
          "output_type": "stream",
          "text": [
            ""
          ]
        },
        {
          "name": "stdout",
          "output_type": "stream",
          "text": [
            "Moviepy - Done !\n",
            "Moviepy - video ready Gyan_Dariyo_video_1.mp4\n",
            "Video 1 created: Gyan_Dariyo_video_1.mp4\n",
            "Moviepy - Building video Gyan_Dariyo_video_2.mp4.\n",
            "MoviePy - Writing audio in Gyan_Dariyo_video_2TEMP_MPY_wvf_snd.mp4\n"
          ]
        },
        {
          "name": "stderr",
          "output_type": "stream",
          "text": [
            ""
          ]
        },
        {
          "name": "stdout",
          "output_type": "stream",
          "text": [
            "MoviePy - Done.\n",
            "Moviepy - Writing video Gyan_Dariyo_video_2.mp4\n",
            "\n"
          ]
        },
        {
          "name": "stderr",
          "output_type": "stream",
          "text": [
            ""
          ]
        },
        {
          "name": "stdout",
          "output_type": "stream",
          "text": [
            "Moviepy - Done !\n",
            "Moviepy - video ready Gyan_Dariyo_video_2.mp4\n",
            "Video 2 created: Gyan_Dariyo_video_2.mp4\n",
            "Moviepy - Building video Gyan_Dariyo_video_3.mp4.\n",
            "MoviePy - Writing audio in Gyan_Dariyo_video_3TEMP_MPY_wvf_snd.mp4\n"
          ]
        },
        {
          "name": "stderr",
          "output_type": "stream",
          "text": [
            ""
          ]
        },
        {
          "name": "stdout",
          "output_type": "stream",
          "text": [
            "MoviePy - Done.\n",
            "Moviepy - Writing video Gyan_Dariyo_video_3.mp4\n",
            "\n"
          ]
        },
        {
          "name": "stderr",
          "output_type": "stream",
          "text": [
            ""
          ]
        },
        {
          "name": "stdout",
          "output_type": "stream",
          "text": [
            "Moviepy - Done !\n",
            "Moviepy - video ready Gyan_Dariyo_video_3.mp4\n",
            "Video 3 created: Gyan_Dariyo_video_3.mp4\n",
            "Moviepy - Building video Gyan_Dariyo_video_4.mp4.\n",
            "MoviePy - Writing audio in Gyan_Dariyo_video_4TEMP_MPY_wvf_snd.mp4\n"
          ]
        },
        {
          "name": "stderr",
          "output_type": "stream",
          "text": [
            ""
          ]
        },
        {
          "name": "stdout",
          "output_type": "stream",
          "text": [
            "MoviePy - Done.\n",
            "Moviepy - Writing video Gyan_Dariyo_video_4.mp4\n",
            "\n"
          ]
        },
        {
          "name": "stderr",
          "output_type": "stream",
          "text": [
            ""
          ]
        },
        {
          "name": "stdout",
          "output_type": "stream",
          "text": [
            "Moviepy - Done !\n",
            "Moviepy - video ready Gyan_Dariyo_video_4.mp4\n",
            "Video 4 created: Gyan_Dariyo_video_4.mp4\n",
            "Moviepy - Building video Gyan_Dariyo_video_5.mp4.\n",
            "MoviePy - Writing audio in Gyan_Dariyo_video_5TEMP_MPY_wvf_snd.mp4\n"
          ]
        },
        {
          "name": "stderr",
          "output_type": "stream",
          "text": [
            ""
          ]
        },
        {
          "name": "stdout",
          "output_type": "stream",
          "text": [
            "MoviePy - Done.\n",
            "Moviepy - Writing video Gyan_Dariyo_video_5.mp4\n",
            "\n"
          ]
        },
        {
          "name": "stderr",
          "output_type": "stream",
          "text": [
            ""
          ]
        },
        {
          "name": "stdout",
          "output_type": "stream",
          "text": [
            "Moviepy - Done !\n",
            "Moviepy - video ready Gyan_Dariyo_video_5.mp4\n",
            "Video 5 created: Gyan_Dariyo_video_5.mp4\n",
            "Moviepy - Building video Gyan_Dariyo_video_6.mp4.\n",
            "MoviePy - Writing audio in Gyan_Dariyo_video_6TEMP_MPY_wvf_snd.mp4\n"
          ]
        },
        {
          "name": "stderr",
          "output_type": "stream",
          "text": [
            ""
          ]
        },
        {
          "name": "stdout",
          "output_type": "stream",
          "text": [
            "MoviePy - Done.\n",
            "Moviepy - Writing video Gyan_Dariyo_video_6.mp4\n",
            "\n"
          ]
        },
        {
          "name": "stderr",
          "output_type": "stream",
          "text": [
            ""
          ]
        },
        {
          "name": "stdout",
          "output_type": "stream",
          "text": [
            "Moviepy - Done !\n",
            "Moviepy - video ready Gyan_Dariyo_video_6.mp4\n",
            "Video 6 created: Gyan_Dariyo_video_6.mp4\n",
            "Moviepy - Building video Gyan_Dariyo_video_7.mp4.\n",
            "MoviePy - Writing audio in Gyan_Dariyo_video_7TEMP_MPY_wvf_snd.mp4\n"
          ]
        },
        {
          "name": "stderr",
          "output_type": "stream",
          "text": [
            ""
          ]
        },
        {
          "name": "stdout",
          "output_type": "stream",
          "text": [
            "MoviePy - Done.\n",
            "Moviepy - Writing video Gyan_Dariyo_video_7.mp4\n",
            "\n"
          ]
        },
        {
          "name": "stderr",
          "output_type": "stream",
          "text": [
            ""
          ]
        },
        {
          "name": "stdout",
          "output_type": "stream",
          "text": [
            "Moviepy - Done !\n",
            "Moviepy - video ready Gyan_Dariyo_video_7.mp4\n",
            "Video 7 created: Gyan_Dariyo_video_7.mp4\n",
            "Moviepy - Building video Gyan_Dariyo_video_8.mp4.\n",
            "MoviePy - Writing audio in Gyan_Dariyo_video_8TEMP_MPY_wvf_snd.mp4\n"
          ]
        },
        {
          "name": "stderr",
          "output_type": "stream",
          "text": [
            ""
          ]
        },
        {
          "name": "stdout",
          "output_type": "stream",
          "text": [
            "MoviePy - Done.\n",
            "Moviepy - Writing video Gyan_Dariyo_video_8.mp4\n",
            "\n"
          ]
        },
        {
          "name": "stderr",
          "output_type": "stream",
          "text": [
            ""
          ]
        },
        {
          "name": "stdout",
          "output_type": "stream",
          "text": [
            "Moviepy - Done !\n",
            "Moviepy - video ready Gyan_Dariyo_video_8.mp4\n",
            "Video 8 created: Gyan_Dariyo_video_8.mp4\n",
            "Moviepy - Building video Gyan_Dariyo_video_9.mp4.\n",
            "MoviePy - Writing audio in Gyan_Dariyo_video_9TEMP_MPY_wvf_snd.mp4\n"
          ]
        },
        {
          "name": "stderr",
          "output_type": "stream",
          "text": [
            ""
          ]
        },
        {
          "name": "stdout",
          "output_type": "stream",
          "text": [
            "MoviePy - Done.\n",
            "Moviepy - Writing video Gyan_Dariyo_video_9.mp4\n",
            "\n"
          ]
        },
        {
          "name": "stderr",
          "output_type": "stream",
          "text": [
            ""
          ]
        },
        {
          "name": "stdout",
          "output_type": "stream",
          "text": [
            "Moviepy - Done !\n",
            "Moviepy - video ready Gyan_Dariyo_video_9.mp4\n",
            "Video 9 created: Gyan_Dariyo_video_9.mp4\n",
            "Moviepy - Building video Gyan_Dariyo_video_10.mp4.\n",
            "MoviePy - Writing audio in Gyan_Dariyo_video_10TEMP_MPY_wvf_snd.mp4\n"
          ]
        },
        {
          "name": "stderr",
          "output_type": "stream",
          "text": [
            ""
          ]
        },
        {
          "name": "stdout",
          "output_type": "stream",
          "text": [
            "MoviePy - Done.\n",
            "Moviepy - Writing video Gyan_Dariyo_video_10.mp4\n",
            "\n"
          ]
        },
        {
          "name": "stderr",
          "output_type": "stream",
          "text": [
            ""
          ]
        },
        {
          "name": "stdout",
          "output_type": "stream",
          "text": [
            "Moviepy - Done !\n",
            "Moviepy - video ready Gyan_Dariyo_video_10.mp4\n",
            "Video 10 created: Gyan_Dariyo_video_10.mp4\n",
            "Moviepy - Building video Gyan_Dariyo_video_11.mp4.\n",
            "MoviePy - Writing audio in Gyan_Dariyo_video_11TEMP_MPY_wvf_snd.mp4\n"
          ]
        },
        {
          "name": "stderr",
          "output_type": "stream",
          "text": [
            ""
          ]
        },
        {
          "name": "stdout",
          "output_type": "stream",
          "text": [
            "MoviePy - Done.\n",
            "Moviepy - Writing video Gyan_Dariyo_video_11.mp4\n",
            "\n"
          ]
        },
        {
          "name": "stderr",
          "output_type": "stream",
          "text": [
            ""
          ]
        },
        {
          "name": "stdout",
          "output_type": "stream",
          "text": [
            "Moviepy - Done !\n",
            "Moviepy - video ready Gyan_Dariyo_video_11.mp4\n",
            "Video 11 created: Gyan_Dariyo_video_11.mp4\n",
            "Moviepy - Building video Gyan_Dariyo_video_12.mp4.\n",
            "MoviePy - Writing audio in Gyan_Dariyo_video_12TEMP_MPY_wvf_snd.mp4\n"
          ]
        },
        {
          "name": "stderr",
          "output_type": "stream",
          "text": [
            ""
          ]
        },
        {
          "name": "stdout",
          "output_type": "stream",
          "text": [
            "MoviePy - Done.\n",
            "Moviepy - Writing video Gyan_Dariyo_video_12.mp4\n",
            "\n"
          ]
        },
        {
          "name": "stderr",
          "output_type": "stream",
          "text": [
            ""
          ]
        },
        {
          "name": "stdout",
          "output_type": "stream",
          "text": [
            "Moviepy - Done !\n",
            "Moviepy - video ready Gyan_Dariyo_video_12.mp4\n",
            "Video 12 created: Gyan_Dariyo_video_12.mp4\n",
            "Moviepy - Building video Gyan_Dariyo_video_13.mp4.\n",
            "MoviePy - Writing audio in Gyan_Dariyo_video_13TEMP_MPY_wvf_snd.mp4\n"
          ]
        },
        {
          "name": "stderr",
          "output_type": "stream",
          "text": [
            ""
          ]
        },
        {
          "name": "stdout",
          "output_type": "stream",
          "text": [
            "MoviePy - Done.\n",
            "Moviepy - Writing video Gyan_Dariyo_video_13.mp4\n",
            "\n"
          ]
        },
        {
          "name": "stderr",
          "output_type": "stream",
          "text": [
            ""
          ]
        },
        {
          "name": "stdout",
          "output_type": "stream",
          "text": [
            "Moviepy - Done !\n",
            "Moviepy - video ready Gyan_Dariyo_video_13.mp4\n",
            "Video 13 created: Gyan_Dariyo_video_13.mp4\n",
            "Moviepy - Building video Gyan_Dariyo_video_14.mp4.\n",
            "MoviePy - Writing audio in Gyan_Dariyo_video_14TEMP_MPY_wvf_snd.mp4\n"
          ]
        },
        {
          "name": "stderr",
          "output_type": "stream",
          "text": [
            ""
          ]
        },
        {
          "name": "stdout",
          "output_type": "stream",
          "text": [
            "MoviePy - Done.\n",
            "Moviepy - Writing video Gyan_Dariyo_video_14.mp4\n",
            "\n"
          ]
        },
        {
          "name": "stderr",
          "output_type": "stream",
          "text": [
            ""
          ]
        },
        {
          "name": "stdout",
          "output_type": "stream",
          "text": [
            "Moviepy - Done !\n",
            "Moviepy - video ready Gyan_Dariyo_video_14.mp4\n",
            "Video 14 created: Gyan_Dariyo_video_14.mp4\n",
            "Moviepy - Building video Gyan_Dariyo_video_15.mp4.\n",
            "MoviePy - Writing audio in Gyan_Dariyo_video_15TEMP_MPY_wvf_snd.mp4\n"
          ]
        },
        {
          "name": "stderr",
          "output_type": "stream",
          "text": [
            ""
          ]
        },
        {
          "name": "stdout",
          "output_type": "stream",
          "text": [
            "MoviePy - Done.\n",
            "Moviepy - Writing video Gyan_Dariyo_video_15.mp4\n",
            "\n"
          ]
        },
        {
          "name": "stderr",
          "output_type": "stream",
          "text": [
            ""
          ]
        },
        {
          "name": "stdout",
          "output_type": "stream",
          "text": [
            "Moviepy - Done !\n",
            "Moviepy - video ready Gyan_Dariyo_video_15.mp4\n",
            "Video 15 created: Gyan_Dariyo_video_15.mp4\n",
            "Moviepy - Building video Gyan_Dariyo_video_16.mp4.\n",
            "MoviePy - Writing audio in Gyan_Dariyo_video_16TEMP_MPY_wvf_snd.mp4\n"
          ]
        },
        {
          "name": "stderr",
          "output_type": "stream",
          "text": [
            ""
          ]
        },
        {
          "name": "stdout",
          "output_type": "stream",
          "text": [
            "MoviePy - Done.\n",
            "Moviepy - Writing video Gyan_Dariyo_video_16.mp4\n",
            "\n"
          ]
        },
        {
          "name": "stderr",
          "output_type": "stream",
          "text": [
            ""
          ]
        },
        {
          "name": "stdout",
          "output_type": "stream",
          "text": [
            "Moviepy - Done !\n",
            "Moviepy - video ready Gyan_Dariyo_video_16.mp4\n",
            "Video 16 created: Gyan_Dariyo_video_16.mp4\n",
            "Moviepy - Building video Gyan_Dariyo_video_17.mp4.\n",
            "MoviePy - Writing audio in Gyan_Dariyo_video_17TEMP_MPY_wvf_snd.mp4\n"
          ]
        },
        {
          "name": "stderr",
          "output_type": "stream",
          "text": [
            ""
          ]
        },
        {
          "name": "stdout",
          "output_type": "stream",
          "text": [
            "MoviePy - Done.\n",
            "Moviepy - Writing video Gyan_Dariyo_video_17.mp4\n",
            "\n"
          ]
        },
        {
          "name": "stderr",
          "output_type": "stream",
          "text": [
            ""
          ]
        },
        {
          "name": "stdout",
          "output_type": "stream",
          "text": [
            "Moviepy - Done !\n",
            "Moviepy - video ready Gyan_Dariyo_video_17.mp4\n",
            "Video 17 created: Gyan_Dariyo_video_17.mp4\n",
            "Moviepy - Building video Gyan_Dariyo_video_18.mp4.\n",
            "MoviePy - Writing audio in Gyan_Dariyo_video_18TEMP_MPY_wvf_snd.mp4\n"
          ]
        },
        {
          "name": "stderr",
          "output_type": "stream",
          "text": [
            ""
          ]
        },
        {
          "name": "stdout",
          "output_type": "stream",
          "text": [
            "MoviePy - Done.\n",
            "Moviepy - Writing video Gyan_Dariyo_video_18.mp4\n",
            "\n"
          ]
        },
        {
          "name": "stderr",
          "output_type": "stream",
          "text": [
            ""
          ]
        },
        {
          "name": "stdout",
          "output_type": "stream",
          "text": [
            "Moviepy - Done !\n",
            "Moviepy - video ready Gyan_Dariyo_video_18.mp4\n",
            "Video 18 created: Gyan_Dariyo_video_18.mp4\n",
            "Moviepy - Building video Gyan_Dariyo_video_19.mp4.\n",
            "MoviePy - Writing audio in Gyan_Dariyo_video_19TEMP_MPY_wvf_snd.mp4\n"
          ]
        },
        {
          "name": "stderr",
          "output_type": "stream",
          "text": [
            ""
          ]
        },
        {
          "name": "stdout",
          "output_type": "stream",
          "text": [
            "MoviePy - Done.\n",
            "Moviepy - Writing video Gyan_Dariyo_video_19.mp4\n",
            "\n"
          ]
        },
        {
          "name": "stderr",
          "output_type": "stream",
          "text": [
            ""
          ]
        },
        {
          "name": "stdout",
          "output_type": "stream",
          "text": [
            "Moviepy - Done !\n",
            "Moviepy - video ready Gyan_Dariyo_video_19.mp4\n",
            "Video 19 created: Gyan_Dariyo_video_19.mp4\n",
            "Moviepy - Building video Gyan_Dariyo_video_20.mp4.\n",
            "MoviePy - Writing audio in Gyan_Dariyo_video_20TEMP_MPY_wvf_snd.mp4\n"
          ]
        },
        {
          "name": "stderr",
          "output_type": "stream",
          "text": [
            ""
          ]
        },
        {
          "name": "stdout",
          "output_type": "stream",
          "text": [
            "MoviePy - Done.\n",
            "Moviepy - Writing video Gyan_Dariyo_video_20.mp4\n",
            "\n"
          ]
        },
        {
          "name": "stderr",
          "output_type": "stream",
          "text": [
            ""
          ]
        },
        {
          "name": "stdout",
          "output_type": "stream",
          "text": [
            "Moviepy - Done !\n",
            "Moviepy - video ready Gyan_Dariyo_video_20.mp4\n",
            "Video 20 created: Gyan_Dariyo_video_20.mp4\n",
            "Moviepy - Building video Gyan_Dariyo_video_21.mp4.\n",
            "MoviePy - Writing audio in Gyan_Dariyo_video_21TEMP_MPY_wvf_snd.mp4\n"
          ]
        },
        {
          "name": "stderr",
          "output_type": "stream",
          "text": [
            ""
          ]
        },
        {
          "name": "stdout",
          "output_type": "stream",
          "text": [
            "MoviePy - Done.\n",
            "Moviepy - Writing video Gyan_Dariyo_video_21.mp4\n",
            "\n"
          ]
        },
        {
          "name": "stderr",
          "output_type": "stream",
          "text": [
            ""
          ]
        },
        {
          "name": "stdout",
          "output_type": "stream",
          "text": [
            "Moviepy - Done !\n",
            "Moviepy - video ready Gyan_Dariyo_video_21.mp4\n",
            "Video 21 created: Gyan_Dariyo_video_21.mp4\n",
            "Moviepy - Building video Gyan_Dariyo_video_22.mp4.\n",
            "MoviePy - Writing audio in Gyan_Dariyo_video_22TEMP_MPY_wvf_snd.mp4\n"
          ]
        },
        {
          "name": "stderr",
          "output_type": "stream",
          "text": [
            ""
          ]
        },
        {
          "name": "stdout",
          "output_type": "stream",
          "text": [
            "MoviePy - Done.\n",
            "Moviepy - Writing video Gyan_Dariyo_video_22.mp4\n",
            "\n"
          ]
        },
        {
          "name": "stderr",
          "output_type": "stream",
          "text": [
            ""
          ]
        },
        {
          "name": "stdout",
          "output_type": "stream",
          "text": [
            "Moviepy - Done !\n",
            "Moviepy - video ready Gyan_Dariyo_video_22.mp4\n",
            "Video 22 created: Gyan_Dariyo_video_22.mp4\n",
            "Moviepy - Building video Gyan_Dariyo_video_23.mp4.\n",
            "MoviePy - Writing audio in Gyan_Dariyo_video_23TEMP_MPY_wvf_snd.mp4\n"
          ]
        },
        {
          "name": "stderr",
          "output_type": "stream",
          "text": [
            ""
          ]
        },
        {
          "name": "stdout",
          "output_type": "stream",
          "text": [
            "MoviePy - Done.\n",
            "Moviepy - Writing video Gyan_Dariyo_video_23.mp4\n",
            "\n"
          ]
        },
        {
          "name": "stderr",
          "output_type": "stream",
          "text": [
            ""
          ]
        },
        {
          "name": "stdout",
          "output_type": "stream",
          "text": [
            "Moviepy - Done !\n",
            "Moviepy - video ready Gyan_Dariyo_video_23.mp4\n",
            "Video 23 created: Gyan_Dariyo_video_23.mp4\n",
            "Moviepy - Building video Gyan_Dariyo_video_24.mp4.\n",
            "MoviePy - Writing audio in Gyan_Dariyo_video_24TEMP_MPY_wvf_snd.mp4\n"
          ]
        },
        {
          "name": "stderr",
          "output_type": "stream",
          "text": [
            ""
          ]
        },
        {
          "name": "stdout",
          "output_type": "stream",
          "text": [
            "MoviePy - Done.\n",
            "Moviepy - Writing video Gyan_Dariyo_video_24.mp4\n",
            "\n"
          ]
        },
        {
          "name": "stderr",
          "output_type": "stream",
          "text": [
            ""
          ]
        },
        {
          "name": "stdout",
          "output_type": "stream",
          "text": [
            "Moviepy - Done !\n",
            "Moviepy - video ready Gyan_Dariyo_video_24.mp4\n",
            "Video 24 created: Gyan_Dariyo_video_24.mp4\n",
            "Moviepy - Building video Gyan_Dariyo_video_25.mp4.\n",
            "MoviePy - Writing audio in Gyan_Dariyo_video_25TEMP_MPY_wvf_snd.mp4\n"
          ]
        },
        {
          "name": "stderr",
          "output_type": "stream",
          "text": [
            ""
          ]
        },
        {
          "name": "stdout",
          "output_type": "stream",
          "text": [
            "MoviePy - Done.\n",
            "Moviepy - Writing video Gyan_Dariyo_video_25.mp4\n",
            "\n"
          ]
        },
        {
          "name": "stderr",
          "output_type": "stream",
          "text": [
            ""
          ]
        },
        {
          "name": "stdout",
          "output_type": "stream",
          "text": [
            "Moviepy - Done !\n",
            "Moviepy - video ready Gyan_Dariyo_video_25.mp4\n",
            "Video 25 created: Gyan_Dariyo_video_25.mp4\n",
            "Moviepy - Building video Gyan_Dariyo_video_26.mp4.\n",
            "MoviePy - Writing audio in Gyan_Dariyo_video_26TEMP_MPY_wvf_snd.mp4\n"
          ]
        },
        {
          "name": "stderr",
          "output_type": "stream",
          "text": [
            ""
          ]
        },
        {
          "name": "stdout",
          "output_type": "stream",
          "text": [
            "MoviePy - Done.\n",
            "Moviepy - Writing video Gyan_Dariyo_video_26.mp4\n",
            "\n"
          ]
        },
        {
          "name": "stderr",
          "output_type": "stream",
          "text": [
            ""
          ]
        },
        {
          "name": "stdout",
          "output_type": "stream",
          "text": [
            "Moviepy - Done !\n",
            "Moviepy - video ready Gyan_Dariyo_video_26.mp4\n",
            "Video 26 created: Gyan_Dariyo_video_26.mp4\n",
            "Moviepy - Building video Gyan_Dariyo_video_27.mp4.\n",
            "MoviePy - Writing audio in Gyan_Dariyo_video_27TEMP_MPY_wvf_snd.mp4\n"
          ]
        },
        {
          "name": "stderr",
          "output_type": "stream",
          "text": [
            ""
          ]
        },
        {
          "name": "stdout",
          "output_type": "stream",
          "text": [
            "MoviePy - Done.\n",
            "Moviepy - Writing video Gyan_Dariyo_video_27.mp4\n",
            "\n"
          ]
        },
        {
          "name": "stderr",
          "output_type": "stream",
          "text": [
            ""
          ]
        },
        {
          "name": "stdout",
          "output_type": "stream",
          "text": [
            "Moviepy - Done !\n",
            "Moviepy - video ready Gyan_Dariyo_video_27.mp4\n",
            "Video 27 created: Gyan_Dariyo_video_27.mp4\n",
            "Moviepy - Building video Gyan_Dariyo_video_28.mp4.\n",
            "MoviePy - Writing audio in Gyan_Dariyo_video_28TEMP_MPY_wvf_snd.mp4\n"
          ]
        },
        {
          "name": "stderr",
          "output_type": "stream",
          "text": [
            ""
          ]
        },
        {
          "name": "stdout",
          "output_type": "stream",
          "text": [
            "MoviePy - Done.\n",
            "Moviepy - Writing video Gyan_Dariyo_video_28.mp4\n",
            "\n"
          ]
        },
        {
          "name": "stderr",
          "output_type": "stream",
          "text": [
            ""
          ]
        },
        {
          "name": "stdout",
          "output_type": "stream",
          "text": [
            "Moviepy - Done !\n",
            "Moviepy - video ready Gyan_Dariyo_video_28.mp4\n",
            "Video 28 created: Gyan_Dariyo_video_28.mp4\n",
            "Moviepy - Building video Gyan_Dariyo_video_29.mp4.\n",
            "MoviePy - Writing audio in Gyan_Dariyo_video_29TEMP_MPY_wvf_snd.mp4\n"
          ]
        },
        {
          "name": "stderr",
          "output_type": "stream",
          "text": [
            ""
          ]
        },
        {
          "name": "stdout",
          "output_type": "stream",
          "text": [
            "MoviePy - Done.\n",
            "Moviepy - Writing video Gyan_Dariyo_video_29.mp4\n",
            "\n"
          ]
        },
        {
          "name": "stderr",
          "output_type": "stream",
          "text": [
            ""
          ]
        },
        {
          "name": "stdout",
          "output_type": "stream",
          "text": [
            "Moviepy - Done !\n",
            "Moviepy - video ready Gyan_Dariyo_video_29.mp4\n",
            "Video 29 created: Gyan_Dariyo_video_29.mp4\n",
            "Moviepy - Building video Gyan_Dariyo_video_30.mp4.\n",
            "MoviePy - Writing audio in Gyan_Dariyo_video_30TEMP_MPY_wvf_snd.mp4\n"
          ]
        },
        {
          "name": "stderr",
          "output_type": "stream",
          "text": [
            ""
          ]
        },
        {
          "name": "stdout",
          "output_type": "stream",
          "text": [
            "MoviePy - Done.\n",
            "Moviepy - Writing video Gyan_Dariyo_video_30.mp4\n",
            "\n"
          ]
        },
        {
          "name": "stderr",
          "output_type": "stream",
          "text": [
            ""
          ]
        },
        {
          "name": "stdout",
          "output_type": "stream",
          "text": [
            "Moviepy - Done !\n",
            "Moviepy - video ready Gyan_Dariyo_video_30.mp4\n",
            "Video 30 created: Gyan_Dariyo_video_30.mp4\n",
            "Moviepy - Building video Gyan_Dariyo_video_31.mp4.\n",
            "MoviePy - Writing audio in Gyan_Dariyo_video_31TEMP_MPY_wvf_snd.mp4\n"
          ]
        },
        {
          "name": "stderr",
          "output_type": "stream",
          "text": [
            ""
          ]
        },
        {
          "name": "stdout",
          "output_type": "stream",
          "text": [
            "MoviePy - Done.\n",
            "Moviepy - Writing video Gyan_Dariyo_video_31.mp4\n",
            "\n"
          ]
        },
        {
          "name": "stderr",
          "output_type": "stream",
          "text": [
            ""
          ]
        },
        {
          "name": "stdout",
          "output_type": "stream",
          "text": [
            "Moviepy - Done !\n",
            "Moviepy - video ready Gyan_Dariyo_video_31.mp4\n",
            "Video 31 created: Gyan_Dariyo_video_31.mp4\n",
            "Moviepy - Building video Gyan_Dariyo_video_32.mp4.\n",
            "MoviePy - Writing audio in Gyan_Dariyo_video_32TEMP_MPY_wvf_snd.mp4\n"
          ]
        },
        {
          "name": "stderr",
          "output_type": "stream",
          "text": [
            ""
          ]
        },
        {
          "name": "stdout",
          "output_type": "stream",
          "text": [
            "MoviePy - Done.\n",
            "Moviepy - Writing video Gyan_Dariyo_video_32.mp4\n",
            "\n"
          ]
        },
        {
          "name": "stderr",
          "output_type": "stream",
          "text": [
            ""
          ]
        },
        {
          "name": "stdout",
          "output_type": "stream",
          "text": [
            "Moviepy - Done !\n",
            "Moviepy - video ready Gyan_Dariyo_video_32.mp4\n",
            "Video 32 created: Gyan_Dariyo_video_32.mp4\n",
            "Moviepy - Building video Gyan_Dariyo_video_33.mp4.\n",
            "MoviePy - Writing audio in Gyan_Dariyo_video_33TEMP_MPY_wvf_snd.mp4\n"
          ]
        },
        {
          "name": "stderr",
          "output_type": "stream",
          "text": [
            ""
          ]
        },
        {
          "name": "stdout",
          "output_type": "stream",
          "text": [
            "MoviePy - Done.\n",
            "Moviepy - Writing video Gyan_Dariyo_video_33.mp4\n",
            "\n"
          ]
        },
        {
          "name": "stderr",
          "output_type": "stream",
          "text": [
            ""
          ]
        },
        {
          "name": "stdout",
          "output_type": "stream",
          "text": [
            "Moviepy - Done !\n",
            "Moviepy - video ready Gyan_Dariyo_video_33.mp4\n",
            "Video 33 created: Gyan_Dariyo_video_33.mp4\n",
            "Moviepy - Building video Gyan_Dariyo_video_34.mp4.\n",
            "MoviePy - Writing audio in Gyan_Dariyo_video_34TEMP_MPY_wvf_snd.mp4\n"
          ]
        },
        {
          "name": "stderr",
          "output_type": "stream",
          "text": [
            ""
          ]
        },
        {
          "name": "stdout",
          "output_type": "stream",
          "text": [
            "MoviePy - Done.\n",
            "Moviepy - Writing video Gyan_Dariyo_video_34.mp4\n",
            "\n"
          ]
        },
        {
          "name": "stderr",
          "output_type": "stream",
          "text": [
            ""
          ]
        },
        {
          "name": "stdout",
          "output_type": "stream",
          "text": [
            "Moviepy - Done !\n",
            "Moviepy - video ready Gyan_Dariyo_video_34.mp4\n",
            "Video 34 created: Gyan_Dariyo_video_34.mp4\n",
            "Moviepy - Building video Gyan_Dariyo_video_35.mp4.\n",
            "MoviePy - Writing audio in Gyan_Dariyo_video_35TEMP_MPY_wvf_snd.mp4\n"
          ]
        },
        {
          "name": "stderr",
          "output_type": "stream",
          "text": [
            ""
          ]
        },
        {
          "name": "stdout",
          "output_type": "stream",
          "text": [
            "MoviePy - Done.\n",
            "Moviepy - Writing video Gyan_Dariyo_video_35.mp4\n",
            "\n"
          ]
        },
        {
          "name": "stderr",
          "output_type": "stream",
          "text": [
            ""
          ]
        },
        {
          "name": "stdout",
          "output_type": "stream",
          "text": [
            "Moviepy - Done !\n",
            "Moviepy - video ready Gyan_Dariyo_video_35.mp4\n",
            "Video 35 created: Gyan_Dariyo_video_35.mp4\n",
            "Moviepy - Building video Gyan_Dariyo_video_36.mp4.\n",
            "MoviePy - Writing audio in Gyan_Dariyo_video_36TEMP_MPY_wvf_snd.mp4\n"
          ]
        },
        {
          "name": "stderr",
          "output_type": "stream",
          "text": [
            ""
          ]
        },
        {
          "name": "stdout",
          "output_type": "stream",
          "text": [
            "MoviePy - Done.\n",
            "Moviepy - Writing video Gyan_Dariyo_video_36.mp4\n",
            "\n"
          ]
        },
        {
          "name": "stderr",
          "output_type": "stream",
          "text": [
            ""
          ]
        },
        {
          "name": "stdout",
          "output_type": "stream",
          "text": [
            "Moviepy - Done !\n",
            "Moviepy - video ready Gyan_Dariyo_video_36.mp4\n",
            "Video 36 created: Gyan_Dariyo_video_36.mp4\n",
            "Moviepy - Building video Gyan_Dariyo_video_37.mp4.\n",
            "MoviePy - Writing audio in Gyan_Dariyo_video_37TEMP_MPY_wvf_snd.mp4\n"
          ]
        },
        {
          "name": "stderr",
          "output_type": "stream",
          "text": [
            ""
          ]
        },
        {
          "name": "stdout",
          "output_type": "stream",
          "text": [
            "MoviePy - Done.\n",
            "Moviepy - Writing video Gyan_Dariyo_video_37.mp4\n",
            "\n"
          ]
        },
        {
          "name": "stderr",
          "output_type": "stream",
          "text": [
            ""
          ]
        },
        {
          "name": "stdout",
          "output_type": "stream",
          "text": [
            "Moviepy - Done !\n",
            "Moviepy - video ready Gyan_Dariyo_video_37.mp4\n",
            "Video 37 created: Gyan_Dariyo_video_37.mp4\n",
            "Moviepy - Building video Gyan_Dariyo_video_38.mp4.\n",
            "MoviePy - Writing audio in Gyan_Dariyo_video_38TEMP_MPY_wvf_snd.mp4\n"
          ]
        },
        {
          "name": "stderr",
          "output_type": "stream",
          "text": [
            ""
          ]
        },
        {
          "name": "stdout",
          "output_type": "stream",
          "text": [
            "MoviePy - Done.\n",
            "Moviepy - Writing video Gyan_Dariyo_video_38.mp4\n",
            "\n"
          ]
        },
        {
          "name": "stderr",
          "output_type": "stream",
          "text": [
            ""
          ]
        },
        {
          "name": "stdout",
          "output_type": "stream",
          "text": [
            "Moviepy - Done !\n",
            "Moviepy - video ready Gyan_Dariyo_video_38.mp4\n",
            "Video 38 created: Gyan_Dariyo_video_38.mp4\n",
            "Moviepy - Building video Gyan_Dariyo_video_39.mp4.\n",
            "MoviePy - Writing audio in Gyan_Dariyo_video_39TEMP_MPY_wvf_snd.mp4\n"
          ]
        },
        {
          "name": "stderr",
          "output_type": "stream",
          "text": [
            ""
          ]
        },
        {
          "name": "stdout",
          "output_type": "stream",
          "text": [
            "MoviePy - Done.\n",
            "Moviepy - Writing video Gyan_Dariyo_video_39.mp4\n",
            "\n"
          ]
        },
        {
          "name": "stderr",
          "output_type": "stream",
          "text": [
            ""
          ]
        },
        {
          "name": "stdout",
          "output_type": "stream",
          "text": [
            "Moviepy - Done !\n",
            "Moviepy - video ready Gyan_Dariyo_video_39.mp4\n",
            "Video 39 created: Gyan_Dariyo_video_39.mp4\n",
            "Moviepy - Building video Gyan_Dariyo_video_40.mp4.\n",
            "MoviePy - Writing audio in Gyan_Dariyo_video_40TEMP_MPY_wvf_snd.mp4\n"
          ]
        },
        {
          "name": "stderr",
          "output_type": "stream",
          "text": [
            ""
          ]
        },
        {
          "name": "stdout",
          "output_type": "stream",
          "text": [
            "MoviePy - Done.\n",
            "Moviepy - Writing video Gyan_Dariyo_video_40.mp4\n",
            "\n"
          ]
        },
        {
          "name": "stderr",
          "output_type": "stream",
          "text": [
            ""
          ]
        },
        {
          "name": "stdout",
          "output_type": "stream",
          "text": [
            "Moviepy - Done !\n",
            "Moviepy - video ready Gyan_Dariyo_video_40.mp4\n",
            "Video 40 created: Gyan_Dariyo_video_40.mp4\n",
            "Moviepy - Building video Gyan_Dariyo_video_41.mp4.\n",
            "MoviePy - Writing audio in Gyan_Dariyo_video_41TEMP_MPY_wvf_snd.mp4\n"
          ]
        },
        {
          "name": "stderr",
          "output_type": "stream",
          "text": [
            ""
          ]
        },
        {
          "name": "stdout",
          "output_type": "stream",
          "text": [
            "MoviePy - Done.\n",
            "Moviepy - Writing video Gyan_Dariyo_video_41.mp4\n",
            "\n"
          ]
        },
        {
          "name": "stderr",
          "output_type": "stream",
          "text": [
            ""
          ]
        },
        {
          "name": "stdout",
          "output_type": "stream",
          "text": [
            "Moviepy - Done !\n",
            "Moviepy - video ready Gyan_Dariyo_video_41.mp4\n",
            "Video 41 created: Gyan_Dariyo_video_41.mp4\n",
            "Moviepy - Building video Gyan_Dariyo_video_42.mp4.\n",
            "MoviePy - Writing audio in Gyan_Dariyo_video_42TEMP_MPY_wvf_snd.mp4\n"
          ]
        },
        {
          "name": "stderr",
          "output_type": "stream",
          "text": [
            ""
          ]
        },
        {
          "name": "stdout",
          "output_type": "stream",
          "text": [
            "MoviePy - Done.\n",
            "Moviepy - Writing video Gyan_Dariyo_video_42.mp4\n",
            "\n"
          ]
        },
        {
          "name": "stderr",
          "output_type": "stream",
          "text": [
            ""
          ]
        },
        {
          "name": "stdout",
          "output_type": "stream",
          "text": [
            "Moviepy - Done !\n",
            "Moviepy - video ready Gyan_Dariyo_video_42.mp4\n",
            "Video 42 created: Gyan_Dariyo_video_42.mp4\n",
            "Moviepy - Building video Gyan_Dariyo_video_43.mp4.\n",
            "MoviePy - Writing audio in Gyan_Dariyo_video_43TEMP_MPY_wvf_snd.mp4\n"
          ]
        },
        {
          "name": "stderr",
          "output_type": "stream",
          "text": [
            ""
          ]
        },
        {
          "name": "stdout",
          "output_type": "stream",
          "text": [
            "MoviePy - Done.\n",
            "Moviepy - Writing video Gyan_Dariyo_video_43.mp4\n",
            "\n"
          ]
        },
        {
          "name": "stderr",
          "output_type": "stream",
          "text": [
            ""
          ]
        },
        {
          "name": "stdout",
          "output_type": "stream",
          "text": [
            "Moviepy - Done !\n",
            "Moviepy - video ready Gyan_Dariyo_video_43.mp4\n",
            "Video 43 created: Gyan_Dariyo_video_43.mp4\n",
            "Moviepy - Building video Gyan_Dariyo_video_44.mp4.\n",
            "MoviePy - Writing audio in Gyan_Dariyo_video_44TEMP_MPY_wvf_snd.mp4\n"
          ]
        },
        {
          "name": "stderr",
          "output_type": "stream",
          "text": [
            ""
          ]
        },
        {
          "name": "stdout",
          "output_type": "stream",
          "text": [
            "MoviePy - Done.\n",
            "Moviepy - Writing video Gyan_Dariyo_video_44.mp4\n",
            "\n"
          ]
        },
        {
          "name": "stderr",
          "output_type": "stream",
          "text": [
            ""
          ]
        },
        {
          "name": "stdout",
          "output_type": "stream",
          "text": [
            "Moviepy - Done !\n",
            "Moviepy - video ready Gyan_Dariyo_video_44.mp4\n",
            "Video 44 created: Gyan_Dariyo_video_44.mp4\n",
            "Moviepy - Building video Gyan_Dariyo_video_45.mp4.\n",
            "MoviePy - Writing audio in Gyan_Dariyo_video_45TEMP_MPY_wvf_snd.mp4\n"
          ]
        },
        {
          "name": "stderr",
          "output_type": "stream",
          "text": [
            ""
          ]
        },
        {
          "name": "stdout",
          "output_type": "stream",
          "text": [
            "MoviePy - Done.\n",
            "Moviepy - Writing video Gyan_Dariyo_video_45.mp4\n",
            "\n"
          ]
        },
        {
          "name": "stderr",
          "output_type": "stream",
          "text": [
            ""
          ]
        },
        {
          "name": "stdout",
          "output_type": "stream",
          "text": [
            "Moviepy - Done !\n",
            "Moviepy - video ready Gyan_Dariyo_video_45.mp4\n",
            "Video 45 created: Gyan_Dariyo_video_45.mp4\n",
            "Moviepy - Building video Gyan_Dariyo_video_46.mp4.\n",
            "MoviePy - Writing audio in Gyan_Dariyo_video_46TEMP_MPY_wvf_snd.mp4\n"
          ]
        },
        {
          "name": "stderr",
          "output_type": "stream",
          "text": [
            ""
          ]
        },
        {
          "name": "stdout",
          "output_type": "stream",
          "text": [
            "MoviePy - Done.\n",
            "Moviepy - Writing video Gyan_Dariyo_video_46.mp4\n",
            "\n"
          ]
        },
        {
          "name": "stderr",
          "output_type": "stream",
          "text": [
            ""
          ]
        },
        {
          "name": "stdout",
          "output_type": "stream",
          "text": [
            "Moviepy - Done !\n",
            "Moviepy - video ready Gyan_Dariyo_video_46.mp4\n",
            "Video 46 created: Gyan_Dariyo_video_46.mp4\n",
            "Moviepy - Building video Gyan_Dariyo_video_47.mp4.\n",
            "MoviePy - Writing audio in Gyan_Dariyo_video_47TEMP_MPY_wvf_snd.mp4\n"
          ]
        },
        {
          "name": "stderr",
          "output_type": "stream",
          "text": [
            ""
          ]
        },
        {
          "name": "stdout",
          "output_type": "stream",
          "text": [
            "MoviePy - Done.\n",
            "Moviepy - Writing video Gyan_Dariyo_video_47.mp4\n",
            "\n"
          ]
        },
        {
          "name": "stderr",
          "output_type": "stream",
          "text": [
            ""
          ]
        },
        {
          "name": "stdout",
          "output_type": "stream",
          "text": [
            "Moviepy - Done !\n",
            "Moviepy - video ready Gyan_Dariyo_video_47.mp4\n",
            "Video 47 created: Gyan_Dariyo_video_47.mp4\n",
            "Moviepy - Building video Gyan_Dariyo_video_48.mp4.\n",
            "MoviePy - Writing audio in Gyan_Dariyo_video_48TEMP_MPY_wvf_snd.mp4\n"
          ]
        },
        {
          "name": "stderr",
          "output_type": "stream",
          "text": [
            ""
          ]
        },
        {
          "name": "stdout",
          "output_type": "stream",
          "text": [
            "MoviePy - Done.\n",
            "Moviepy - Writing video Gyan_Dariyo_video_48.mp4\n",
            "\n"
          ]
        },
        {
          "name": "stderr",
          "output_type": "stream",
          "text": [
            ""
          ]
        },
        {
          "name": "stdout",
          "output_type": "stream",
          "text": [
            "Moviepy - Done !\n",
            "Moviepy - video ready Gyan_Dariyo_video_48.mp4\n",
            "Video 48 created: Gyan_Dariyo_video_48.mp4\n",
            "Moviepy - Building video Gyan_Dariyo_video_49.mp4.\n",
            "MoviePy - Writing audio in Gyan_Dariyo_video_49TEMP_MPY_wvf_snd.mp4\n"
          ]
        },
        {
          "name": "stderr",
          "output_type": "stream",
          "text": [
            ""
          ]
        },
        {
          "name": "stdout",
          "output_type": "stream",
          "text": [
            "MoviePy - Done.\n",
            "Moviepy - Writing video Gyan_Dariyo_video_49.mp4\n",
            "\n"
          ]
        },
        {
          "name": "stderr",
          "output_type": "stream",
          "text": [
            ""
          ]
        },
        {
          "name": "stdout",
          "output_type": "stream",
          "text": [
            "Moviepy - Done !\n",
            "Moviepy - video ready Gyan_Dariyo_video_49.mp4\n",
            "Video 49 created: Gyan_Dariyo_video_49.mp4\n",
            "Moviepy - Building video Gyan_Dariyo_video_50.mp4.\n",
            "MoviePy - Writing audio in Gyan_Dariyo_video_50TEMP_MPY_wvf_snd.mp4\n"
          ]
        },
        {
          "name": "stderr",
          "output_type": "stream",
          "text": [
            ""
          ]
        },
        {
          "name": "stdout",
          "output_type": "stream",
          "text": [
            "MoviePy - Done.\n",
            "Moviepy - Writing video Gyan_Dariyo_video_50.mp4\n",
            "\n"
          ]
        },
        {
          "name": "stderr",
          "output_type": "stream",
          "text": [
            ""
          ]
        },
        {
          "name": "stdout",
          "output_type": "stream",
          "text": [
            "Moviepy - Done !\n",
            "Moviepy - video ready Gyan_Dariyo_video_50.mp4\n",
            "Video 50 created: Gyan_Dariyo_video_50.mp4\n",
            "Moviepy - Building video Gyan_Dariyo_video_51.mp4.\n",
            "MoviePy - Writing audio in Gyan_Dariyo_video_51TEMP_MPY_wvf_snd.mp4\n"
          ]
        },
        {
          "name": "stderr",
          "output_type": "stream",
          "text": [
            ""
          ]
        },
        {
          "name": "stdout",
          "output_type": "stream",
          "text": [
            "MoviePy - Done.\n",
            "Moviepy - Writing video Gyan_Dariyo_video_51.mp4\n",
            "\n"
          ]
        },
        {
          "name": "stderr",
          "output_type": "stream",
          "text": [
            ""
          ]
        },
        {
          "name": "stdout",
          "output_type": "stream",
          "text": [
            "Moviepy - Done !\n",
            "Moviepy - video ready Gyan_Dariyo_video_51.mp4\n",
            "Video 51 created: Gyan_Dariyo_video_51.mp4\n",
            "Moviepy - Building video Gyan_Dariyo_video_52.mp4.\n",
            "MoviePy - Writing audio in Gyan_Dariyo_video_52TEMP_MPY_wvf_snd.mp4\n"
          ]
        },
        {
          "name": "stderr",
          "output_type": "stream",
          "text": [
            ""
          ]
        },
        {
          "name": "stdout",
          "output_type": "stream",
          "text": [
            "MoviePy - Done.\n",
            "Moviepy - Writing video Gyan_Dariyo_video_52.mp4\n",
            "\n"
          ]
        },
        {
          "name": "stderr",
          "output_type": "stream",
          "text": [
            ""
          ]
        },
        {
          "name": "stdout",
          "output_type": "stream",
          "text": [
            "Moviepy - Done !\n",
            "Moviepy - video ready Gyan_Dariyo_video_52.mp4\n",
            "Video 52 created: Gyan_Dariyo_video_52.mp4\n",
            "Moviepy - Building video Gyan_Dariyo_video_53.mp4.\n",
            "MoviePy - Writing audio in Gyan_Dariyo_video_53TEMP_MPY_wvf_snd.mp4\n"
          ]
        },
        {
          "name": "stderr",
          "output_type": "stream",
          "text": [
            ""
          ]
        },
        {
          "name": "stdout",
          "output_type": "stream",
          "text": [
            "MoviePy - Done.\n",
            "Moviepy - Writing video Gyan_Dariyo_video_53.mp4\n",
            "\n"
          ]
        },
        {
          "name": "stderr",
          "output_type": "stream",
          "text": [
            ""
          ]
        },
        {
          "name": "stdout",
          "output_type": "stream",
          "text": [
            "Moviepy - Done !\n",
            "Moviepy - video ready Gyan_Dariyo_video_53.mp4\n",
            "Video 53 created: Gyan_Dariyo_video_53.mp4\n",
            "Moviepy - Building video Gyan_Dariyo_video_54.mp4.\n",
            "MoviePy - Writing audio in Gyan_Dariyo_video_54TEMP_MPY_wvf_snd.mp4\n"
          ]
        },
        {
          "name": "stderr",
          "output_type": "stream",
          "text": [
            ""
          ]
        },
        {
          "name": "stdout",
          "output_type": "stream",
          "text": [
            "MoviePy - Done.\n",
            "Moviepy - Writing video Gyan_Dariyo_video_54.mp4\n",
            "\n"
          ]
        },
        {
          "name": "stderr",
          "output_type": "stream",
          "text": [
            ""
          ]
        },
        {
          "name": "stdout",
          "output_type": "stream",
          "text": [
            "Moviepy - Done !\n",
            "Moviepy - video ready Gyan_Dariyo_video_54.mp4\n",
            "Video 54 created: Gyan_Dariyo_video_54.mp4\n",
            "Moviepy - Building video Gyan_Dariyo_video_55.mp4.\n",
            "MoviePy - Writing audio in Gyan_Dariyo_video_55TEMP_MPY_wvf_snd.mp4\n"
          ]
        },
        {
          "name": "stderr",
          "output_type": "stream",
          "text": [
            ""
          ]
        },
        {
          "name": "stdout",
          "output_type": "stream",
          "text": [
            "MoviePy - Done.\n",
            "Moviepy - Writing video Gyan_Dariyo_video_55.mp4\n",
            "\n"
          ]
        },
        {
          "name": "stderr",
          "output_type": "stream",
          "text": [
            ""
          ]
        },
        {
          "name": "stdout",
          "output_type": "stream",
          "text": [
            "Moviepy - Done !\n",
            "Moviepy - video ready Gyan_Dariyo_video_55.mp4\n",
            "Video 55 created: Gyan_Dariyo_video_55.mp4\n",
            "Moviepy - Building video Gyan_Dariyo_video_56.mp4.\n",
            "MoviePy - Writing audio in Gyan_Dariyo_video_56TEMP_MPY_wvf_snd.mp4\n"
          ]
        },
        {
          "name": "stderr",
          "output_type": "stream",
          "text": [
            ""
          ]
        },
        {
          "name": "stdout",
          "output_type": "stream",
          "text": [
            "MoviePy - Done.\n",
            "Moviepy - Writing video Gyan_Dariyo_video_56.mp4\n",
            "\n"
          ]
        },
        {
          "name": "stderr",
          "output_type": "stream",
          "text": [
            ""
          ]
        },
        {
          "name": "stdout",
          "output_type": "stream",
          "text": [
            "Moviepy - Done !\n",
            "Moviepy - video ready Gyan_Dariyo_video_56.mp4\n",
            "Video 56 created: Gyan_Dariyo_video_56.mp4\n",
            "Moviepy - Building video Gyan_Dariyo_video_57.mp4.\n",
            "MoviePy - Writing audio in Gyan_Dariyo_video_57TEMP_MPY_wvf_snd.mp4\n"
          ]
        },
        {
          "name": "stderr",
          "output_type": "stream",
          "text": [
            ""
          ]
        },
        {
          "name": "stdout",
          "output_type": "stream",
          "text": [
            "MoviePy - Done.\n",
            "Moviepy - Writing video Gyan_Dariyo_video_57.mp4\n",
            "\n"
          ]
        },
        {
          "name": "stderr",
          "output_type": "stream",
          "text": [
            ""
          ]
        },
        {
          "name": "stdout",
          "output_type": "stream",
          "text": [
            "Moviepy - Done !\n",
            "Moviepy - video ready Gyan_Dariyo_video_57.mp4\n",
            "Video 57 created: Gyan_Dariyo_video_57.mp4\n",
            "Moviepy - Building video Gyan_Dariyo_video_58.mp4.\n",
            "MoviePy - Writing audio in Gyan_Dariyo_video_58TEMP_MPY_wvf_snd.mp4\n"
          ]
        },
        {
          "name": "stderr",
          "output_type": "stream",
          "text": [
            ""
          ]
        },
        {
          "name": "stdout",
          "output_type": "stream",
          "text": [
            "MoviePy - Done.\n",
            "Moviepy - Writing video Gyan_Dariyo_video_58.mp4\n",
            "\n"
          ]
        },
        {
          "name": "stderr",
          "output_type": "stream",
          "text": [
            ""
          ]
        },
        {
          "name": "stdout",
          "output_type": "stream",
          "text": [
            "Moviepy - Done !\n",
            "Moviepy - video ready Gyan_Dariyo_video_58.mp4\n",
            "Video 58 created: Gyan_Dariyo_video_58.mp4\n",
            "Moviepy - Building video Gyan_Dariyo_video_59.mp4.\n",
            "MoviePy - Writing audio in Gyan_Dariyo_video_59TEMP_MPY_wvf_snd.mp4\n"
          ]
        },
        {
          "name": "stderr",
          "output_type": "stream",
          "text": [
            ""
          ]
        },
        {
          "name": "stdout",
          "output_type": "stream",
          "text": [
            "MoviePy - Done.\n",
            "Moviepy - Writing video Gyan_Dariyo_video_59.mp4\n",
            "\n"
          ]
        },
        {
          "name": "stderr",
          "output_type": "stream",
          "text": [
            ""
          ]
        },
        {
          "name": "stdout",
          "output_type": "stream",
          "text": [
            "Moviepy - Done !\n",
            "Moviepy - video ready Gyan_Dariyo_video_59.mp4\n",
            "Video 59 created: Gyan_Dariyo_video_59.mp4\n",
            "Moviepy - Building video Gyan_Dariyo_video_60.mp4.\n",
            "MoviePy - Writing audio in Gyan_Dariyo_video_60TEMP_MPY_wvf_snd.mp4\n"
          ]
        },
        {
          "name": "stderr",
          "output_type": "stream",
          "text": [
            ""
          ]
        },
        {
          "name": "stdout",
          "output_type": "stream",
          "text": [
            "MoviePy - Done.\n",
            "Moviepy - Writing video Gyan_Dariyo_video_60.mp4\n",
            "\n"
          ]
        },
        {
          "name": "stderr",
          "output_type": "stream",
          "text": [
            ""
          ]
        },
        {
          "name": "stdout",
          "output_type": "stream",
          "text": [
            "Moviepy - Done !\n",
            "Moviepy - video ready Gyan_Dariyo_video_60.mp4\n",
            "Video 60 created: Gyan_Dariyo_video_60.mp4\n",
            "Moviepy - Building video Gyan_Dariyo_video_61.mp4.\n",
            "MoviePy - Writing audio in Gyan_Dariyo_video_61TEMP_MPY_wvf_snd.mp4\n"
          ]
        },
        {
          "name": "stderr",
          "output_type": "stream",
          "text": [
            ""
          ]
        },
        {
          "name": "stdout",
          "output_type": "stream",
          "text": [
            "MoviePy - Done.\n",
            "Moviepy - Writing video Gyan_Dariyo_video_61.mp4\n",
            "\n"
          ]
        },
        {
          "name": "stderr",
          "output_type": "stream",
          "text": [
            ""
          ]
        },
        {
          "name": "stdout",
          "output_type": "stream",
          "text": [
            "Moviepy - Done !\n",
            "Moviepy - video ready Gyan_Dariyo_video_61.mp4\n",
            "Video 61 created: Gyan_Dariyo_video_61.mp4\n",
            "Moviepy - Building video Gyan_Dariyo_video_62.mp4.\n",
            "MoviePy - Writing audio in Gyan_Dariyo_video_62TEMP_MPY_wvf_snd.mp4\n"
          ]
        },
        {
          "name": "stderr",
          "output_type": "stream",
          "text": [
            ""
          ]
        },
        {
          "name": "stdout",
          "output_type": "stream",
          "text": [
            "MoviePy - Done.\n",
            "Moviepy - Writing video Gyan_Dariyo_video_62.mp4\n",
            "\n"
          ]
        },
        {
          "name": "stderr",
          "output_type": "stream",
          "text": [
            ""
          ]
        },
        {
          "name": "stdout",
          "output_type": "stream",
          "text": [
            "Moviepy - Done !\n",
            "Moviepy - video ready Gyan_Dariyo_video_62.mp4\n",
            "Video 62 created: Gyan_Dariyo_video_62.mp4\n",
            "Moviepy - Building video Gyan_Dariyo_video_63.mp4.\n",
            "MoviePy - Writing audio in Gyan_Dariyo_video_63TEMP_MPY_wvf_snd.mp4\n"
          ]
        },
        {
          "name": "stderr",
          "output_type": "stream",
          "text": [
            ""
          ]
        },
        {
          "name": "stdout",
          "output_type": "stream",
          "text": [
            "MoviePy - Done.\n",
            "Moviepy - Writing video Gyan_Dariyo_video_63.mp4\n",
            "\n"
          ]
        },
        {
          "name": "stderr",
          "output_type": "stream",
          "text": [
            ""
          ]
        },
        {
          "name": "stdout",
          "output_type": "stream",
          "text": [
            "Moviepy - Done !\n",
            "Moviepy - video ready Gyan_Dariyo_video_63.mp4\n",
            "Video 63 created: Gyan_Dariyo_video_63.mp4\n",
            "Moviepy - Building video Gyan_Dariyo_video_64.mp4.\n",
            "MoviePy - Writing audio in Gyan_Dariyo_video_64TEMP_MPY_wvf_snd.mp4\n"
          ]
        },
        {
          "name": "stderr",
          "output_type": "stream",
          "text": [
            ""
          ]
        },
        {
          "name": "stdout",
          "output_type": "stream",
          "text": [
            "MoviePy - Done.\n",
            "Moviepy - Writing video Gyan_Dariyo_video_64.mp4\n",
            "\n"
          ]
        },
        {
          "name": "stderr",
          "output_type": "stream",
          "text": [
            ""
          ]
        },
        {
          "name": "stdout",
          "output_type": "stream",
          "text": [
            "Moviepy - Done !\n",
            "Moviepy - video ready Gyan_Dariyo_video_64.mp4\n",
            "Video 64 created: Gyan_Dariyo_video_64.mp4\n",
            "Moviepy - Building video Gyan_Dariyo_video_65.mp4.\n",
            "MoviePy - Writing audio in Gyan_Dariyo_video_65TEMP_MPY_wvf_snd.mp4\n"
          ]
        },
        {
          "name": "stderr",
          "output_type": "stream",
          "text": [
            ""
          ]
        },
        {
          "name": "stdout",
          "output_type": "stream",
          "text": [
            "MoviePy - Done.\n",
            "Moviepy - Writing video Gyan_Dariyo_video_65.mp4\n",
            "\n"
          ]
        },
        {
          "name": "stderr",
          "output_type": "stream",
          "text": [
            ""
          ]
        },
        {
          "name": "stdout",
          "output_type": "stream",
          "text": [
            "Moviepy - Done !\n",
            "Moviepy - video ready Gyan_Dariyo_video_65.mp4\n",
            "Video 65 created: Gyan_Dariyo_video_65.mp4\n",
            "Moviepy - Building video Gyan_Dariyo_video_66.mp4.\n",
            "MoviePy - Writing audio in Gyan_Dariyo_video_66TEMP_MPY_wvf_snd.mp4\n"
          ]
        },
        {
          "name": "stderr",
          "output_type": "stream",
          "text": [
            ""
          ]
        },
        {
          "name": "stdout",
          "output_type": "stream",
          "text": [
            "MoviePy - Done.\n",
            "Moviepy - Writing video Gyan_Dariyo_video_66.mp4\n",
            "\n"
          ]
        },
        {
          "name": "stderr",
          "output_type": "stream",
          "text": [
            ""
          ]
        },
        {
          "name": "stdout",
          "output_type": "stream",
          "text": [
            "Moviepy - Done !\n",
            "Moviepy - video ready Gyan_Dariyo_video_66.mp4\n",
            "Video 66 created: Gyan_Dariyo_video_66.mp4\n",
            "Moviepy - Building video Gyan_Dariyo_video_67.mp4.\n",
            "MoviePy - Writing audio in Gyan_Dariyo_video_67TEMP_MPY_wvf_snd.mp4\n"
          ]
        },
        {
          "name": "stderr",
          "output_type": "stream",
          "text": [
            ""
          ]
        },
        {
          "name": "stdout",
          "output_type": "stream",
          "text": [
            "MoviePy - Done.\n",
            "Moviepy - Writing video Gyan_Dariyo_video_67.mp4\n",
            "\n"
          ]
        },
        {
          "name": "stderr",
          "output_type": "stream",
          "text": [
            ""
          ]
        },
        {
          "name": "stdout",
          "output_type": "stream",
          "text": [
            "Moviepy - Done !\n",
            "Moviepy - video ready Gyan_Dariyo_video_67.mp4\n",
            "Video 67 created: Gyan_Dariyo_video_67.mp4\n",
            "Moviepy - Building video Gyan_Dariyo_video_68.mp4.\n",
            "MoviePy - Writing audio in Gyan_Dariyo_video_68TEMP_MPY_wvf_snd.mp4\n"
          ]
        },
        {
          "name": "stderr",
          "output_type": "stream",
          "text": [
            ""
          ]
        },
        {
          "name": "stdout",
          "output_type": "stream",
          "text": [
            "MoviePy - Done.\n",
            "Moviepy - Writing video Gyan_Dariyo_video_68.mp4\n",
            "\n"
          ]
        },
        {
          "name": "stderr",
          "output_type": "stream",
          "text": []
        },
        {
          "name": "stdout",
          "output_type": "stream",
          "text": [
            "Moviepy - Done !\n",
            "Moviepy - video ready Gyan_Dariyo_video_68.mp4\n",
            "Video 68 created: Gyan_Dariyo_video_68.mp4\n",
            "Moviepy - Building video Gyan_Dariyo_video_69.mp4.\n",
            "MoviePy - Writing audio in Gyan_Dariyo_video_69TEMP_MPY_wvf_snd.mp4\n"
          ]
        },
        {
          "name": "stderr",
          "output_type": "stream",
          "text": []
        },
        {
          "name": "stdout",
          "output_type": "stream",
          "text": [
            "MoviePy - Done.\n",
            "Moviepy - Writing video Gyan_Dariyo_video_69.mp4\n",
            "\n"
          ]
        },
        {
          "name": "stderr",
          "output_type": "stream",
          "text": []
        },
        {
          "name": "stdout",
          "output_type": "stream",
          "text": [
            "Moviepy - Done !\n",
            "Moviepy - video ready Gyan_Dariyo_video_69.mp4\n",
            "Video 69 created: Gyan_Dariyo_video_69.mp4\n",
            "Moviepy - Building video Gyan_Dariyo_video_70.mp4.\n",
            "MoviePy - Writing audio in Gyan_Dariyo_video_70TEMP_MPY_wvf_snd.mp4\n"
          ]
        },
        {
          "name": "stderr",
          "output_type": "stream",
          "text": []
        },
        {
          "name": "stdout",
          "output_type": "stream",
          "text": [
            "MoviePy - Done.\n",
            "Moviepy - Writing video Gyan_Dariyo_video_70.mp4\n",
            "\n"
          ]
        },
        {
          "name": "stderr",
          "output_type": "stream",
          "text": []
        },
        {
          "name": "stdout",
          "output_type": "stream",
          "text": [
            "Moviepy - Done !\n",
            "Moviepy - video ready Gyan_Dariyo_video_70.mp4\n",
            "Video 70 created: Gyan_Dariyo_video_70.mp4\n",
            "Moviepy - Building video Gyan_Dariyo_video_71.mp4.\n",
            "MoviePy - Writing audio in Gyan_Dariyo_video_71TEMP_MPY_wvf_snd.mp4\n"
          ]
        },
        {
          "name": "stderr",
          "output_type": "stream",
          "text": []
        },
        {
          "name": "stdout",
          "output_type": "stream",
          "text": [
            "MoviePy - Done.\n",
            "Moviepy - Writing video Gyan_Dariyo_video_71.mp4\n",
            "\n"
          ]
        },
        {
          "name": "stderr",
          "output_type": "stream",
          "text": []
        },
        {
          "name": "stdout",
          "output_type": "stream",
          "text": [
            "Moviepy - Done !\n",
            "Moviepy - video ready Gyan_Dariyo_video_71.mp4\n",
            "Video 71 created: Gyan_Dariyo_video_71.mp4\n",
            "Moviepy - Building video Gyan_Dariyo_video_72.mp4.\n",
            "MoviePy - Writing audio in Gyan_Dariyo_video_72TEMP_MPY_wvf_snd.mp4\n"
          ]
        },
        {
          "name": "stderr",
          "output_type": "stream",
          "text": []
        },
        {
          "name": "stdout",
          "output_type": "stream",
          "text": [
            "MoviePy - Done.\n",
            "Moviepy - Writing video Gyan_Dariyo_video_72.mp4\n",
            "\n"
          ]
        },
        {
          "name": "stderr",
          "output_type": "stream",
          "text": []
        },
        {
          "name": "stdout",
          "output_type": "stream",
          "text": [
            "Moviepy - Done !\n",
            "Moviepy - video ready Gyan_Dariyo_video_72.mp4\n",
            "Video 72 created: Gyan_Dariyo_video_72.mp4\n",
            "Moviepy - Building video Gyan_Dariyo_video_73.mp4.\n",
            "MoviePy - Writing audio in Gyan_Dariyo_video_73TEMP_MPY_wvf_snd.mp4\n"
          ]
        },
        {
          "name": "stderr",
          "output_type": "stream",
          "text": []
        },
        {
          "name": "stdout",
          "output_type": "stream",
          "text": [
            "MoviePy - Done.\n",
            "Moviepy - Writing video Gyan_Dariyo_video_73.mp4\n",
            "\n"
          ]
        },
        {
          "name": "stderr",
          "output_type": "stream",
          "text": []
        },
        {
          "name": "stdout",
          "output_type": "stream",
          "text": [
            "Moviepy - Done !\n",
            "Moviepy - video ready Gyan_Dariyo_video_73.mp4\n",
            "Video 73 created: Gyan_Dariyo_video_73.mp4\n",
            "Moviepy - Building video Gyan_Dariyo_video_74.mp4.\n",
            "MoviePy - Writing audio in Gyan_Dariyo_video_74TEMP_MPY_wvf_snd.mp4\n"
          ]
        },
        {
          "name": "stderr",
          "output_type": "stream",
          "text": []
        },
        {
          "name": "stdout",
          "output_type": "stream",
          "text": [
            "MoviePy - Done.\n",
            "Moviepy - Writing video Gyan_Dariyo_video_74.mp4\n",
            "\n"
          ]
        },
        {
          "name": "stderr",
          "output_type": "stream",
          "text": []
        },
        {
          "name": "stdout",
          "output_type": "stream",
          "text": [
            "Moviepy - Done !\n",
            "Moviepy - video ready Gyan_Dariyo_video_74.mp4\n",
            "Video 74 created: Gyan_Dariyo_video_74.mp4\n",
            "Moviepy - Building video Gyan_Dariyo_video_75.mp4.\n",
            "MoviePy - Writing audio in Gyan_Dariyo_video_75TEMP_MPY_wvf_snd.mp4\n"
          ]
        },
        {
          "name": "stderr",
          "output_type": "stream",
          "text": []
        },
        {
          "name": "stdout",
          "output_type": "stream",
          "text": [
            "MoviePy - Done.\n",
            "Moviepy - Writing video Gyan_Dariyo_video_75.mp4\n",
            "\n"
          ]
        },
        {
          "name": "stderr",
          "output_type": "stream",
          "text": []
        },
        {
          "name": "stdout",
          "output_type": "stream",
          "text": [
            "Moviepy - Done !\n",
            "Moviepy - video ready Gyan_Dariyo_video_75.mp4\n",
            "Video 75 created: Gyan_Dariyo_video_75.mp4\n",
            "Moviepy - Building video Gyan_Dariyo_video_76.mp4.\n",
            "MoviePy - Writing audio in Gyan_Dariyo_video_76TEMP_MPY_wvf_snd.mp4\n"
          ]
        },
        {
          "name": "stderr",
          "output_type": "stream",
          "text": []
        },
        {
          "name": "stdout",
          "output_type": "stream",
          "text": [
            "MoviePy - Done.\n",
            "Moviepy - Writing video Gyan_Dariyo_video_76.mp4\n",
            "\n"
          ]
        },
        {
          "name": "stderr",
          "output_type": "stream",
          "text": []
        },
        {
          "name": "stdout",
          "output_type": "stream",
          "text": [
            "Moviepy - Done !\n",
            "Moviepy - video ready Gyan_Dariyo_video_76.mp4\n",
            "Video 76 created: Gyan_Dariyo_video_76.mp4\n",
            "Moviepy - Building video Gyan_Dariyo_video_77.mp4.\n",
            "MoviePy - Writing audio in Gyan_Dariyo_video_77TEMP_MPY_wvf_snd.mp4\n"
          ]
        },
        {
          "name": "stderr",
          "output_type": "stream",
          "text": []
        },
        {
          "name": "stdout",
          "output_type": "stream",
          "text": [
            "MoviePy - Done.\n",
            "Moviepy - Writing video Gyan_Dariyo_video_77.mp4\n",
            "\n"
          ]
        },
        {
          "name": "stderr",
          "output_type": "stream",
          "text": []
        },
        {
          "name": "stdout",
          "output_type": "stream",
          "text": [
            "Moviepy - Done !\n",
            "Moviepy - video ready Gyan_Dariyo_video_77.mp4\n",
            "Video 77 created: Gyan_Dariyo_video_77.mp4\n",
            "Moviepy - Building video Gyan_Dariyo_video_78.mp4.\n",
            "MoviePy - Writing audio in Gyan_Dariyo_video_78TEMP_MPY_wvf_snd.mp4\n"
          ]
        },
        {
          "name": "stderr",
          "output_type": "stream",
          "text": []
        },
        {
          "name": "stdout",
          "output_type": "stream",
          "text": [
            "MoviePy - Done.\n",
            "Moviepy - Writing video Gyan_Dariyo_video_78.mp4\n",
            "\n"
          ]
        },
        {
          "name": "stderr",
          "output_type": "stream",
          "text": []
        },
        {
          "name": "stdout",
          "output_type": "stream",
          "text": [
            "Moviepy - Done !\n",
            "Moviepy - video ready Gyan_Dariyo_video_78.mp4\n",
            "Video 78 created: Gyan_Dariyo_video_78.mp4\n",
            "Moviepy - Building video Gyan_Dariyo_video_79.mp4.\n",
            "MoviePy - Writing audio in Gyan_Dariyo_video_79TEMP_MPY_wvf_snd.mp4\n"
          ]
        },
        {
          "name": "stderr",
          "output_type": "stream",
          "text": []
        },
        {
          "name": "stdout",
          "output_type": "stream",
          "text": [
            "MoviePy - Done.\n",
            "Moviepy - Writing video Gyan_Dariyo_video_79.mp4\n",
            "\n"
          ]
        },
        {
          "name": "stderr",
          "output_type": "stream",
          "text": []
        },
        {
          "name": "stdout",
          "output_type": "stream",
          "text": [
            "Moviepy - Done !\n",
            "Moviepy - video ready Gyan_Dariyo_video_79.mp4\n",
            "Video 79 created: Gyan_Dariyo_video_79.mp4\n",
            "Moviepy - Building video Gyan_Dariyo_video_80.mp4.\n",
            "MoviePy - Writing audio in Gyan_Dariyo_video_80TEMP_MPY_wvf_snd.mp4\n"
          ]
        },
        {
          "name": "stderr",
          "output_type": "stream",
          "text": []
        },
        {
          "name": "stdout",
          "output_type": "stream",
          "text": [
            "MoviePy - Done.\n",
            "Moviepy - Writing video Gyan_Dariyo_video_80.mp4\n",
            "\n"
          ]
        },
        {
          "name": "stderr",
          "output_type": "stream",
          "text": []
        },
        {
          "name": "stdout",
          "output_type": "stream",
          "text": [
            "Moviepy - Done !\n",
            "Moviepy - video ready Gyan_Dariyo_video_80.mp4\n",
            "Video 80 created: Gyan_Dariyo_video_80.mp4\n",
            "Moviepy - Building video Gyan_Dariyo_video_81.mp4.\n",
            "MoviePy - Writing audio in Gyan_Dariyo_video_81TEMP_MPY_wvf_snd.mp4\n"
          ]
        },
        {
          "name": "stderr",
          "output_type": "stream",
          "text": []
        },
        {
          "name": "stdout",
          "output_type": "stream",
          "text": [
            "MoviePy - Done.\n",
            "Moviepy - Writing video Gyan_Dariyo_video_81.mp4\n",
            "\n"
          ]
        },
        {
          "name": "stderr",
          "output_type": "stream",
          "text": []
        },
        {
          "name": "stdout",
          "output_type": "stream",
          "text": [
            "Moviepy - Done !\n",
            "Moviepy - video ready Gyan_Dariyo_video_81.mp4\n",
            "Video 81 created: Gyan_Dariyo_video_81.mp4\n",
            "Moviepy - Building video Gyan_Dariyo_video_82.mp4.\n",
            "MoviePy - Writing audio in Gyan_Dariyo_video_82TEMP_MPY_wvf_snd.mp4\n"
          ]
        },
        {
          "name": "stderr",
          "output_type": "stream",
          "text": []
        },
        {
          "name": "stdout",
          "output_type": "stream",
          "text": [
            "MoviePy - Done.\n",
            "Moviepy - Writing video Gyan_Dariyo_video_82.mp4\n",
            "\n"
          ]
        },
        {
          "name": "stderr",
          "output_type": "stream",
          "text": []
        },
        {
          "name": "stdout",
          "output_type": "stream",
          "text": [
            "Moviepy - Done !\n",
            "Moviepy - video ready Gyan_Dariyo_video_82.mp4\n",
            "Video 82 created: Gyan_Dariyo_video_82.mp4\n",
            "Moviepy - Building video Gyan_Dariyo_video_83.mp4.\n",
            "MoviePy - Writing audio in Gyan_Dariyo_video_83TEMP_MPY_wvf_snd.mp4\n"
          ]
        },
        {
          "name": "stderr",
          "output_type": "stream",
          "text": []
        },
        {
          "name": "stdout",
          "output_type": "stream",
          "text": [
            "MoviePy - Done.\n",
            "Moviepy - Writing video Gyan_Dariyo_video_83.mp4\n",
            "\n"
          ]
        },
        {
          "name": "stderr",
          "output_type": "stream",
          "text": []
        },
        {
          "name": "stdout",
          "output_type": "stream",
          "text": [
            "Moviepy - Done !\n",
            "Moviepy - video ready Gyan_Dariyo_video_83.mp4\n",
            "Video 83 created: Gyan_Dariyo_video_83.mp4\n",
            "Moviepy - Building video Gyan_Dariyo_video_84.mp4.\n",
            "MoviePy - Writing audio in Gyan_Dariyo_video_84TEMP_MPY_wvf_snd.mp4\n"
          ]
        },
        {
          "name": "stderr",
          "output_type": "stream",
          "text": []
        },
        {
          "name": "stdout",
          "output_type": "stream",
          "text": [
            "MoviePy - Done.\n",
            "Moviepy - Writing video Gyan_Dariyo_video_84.mp4\n",
            "\n"
          ]
        },
        {
          "name": "stderr",
          "output_type": "stream",
          "text": []
        },
        {
          "name": "stdout",
          "output_type": "stream",
          "text": [
            "Moviepy - Done !\n",
            "Moviepy - video ready Gyan_Dariyo_video_84.mp4\n",
            "Video 84 created: Gyan_Dariyo_video_84.mp4\n",
            "Moviepy - Building video Gyan_Dariyo_video_85.mp4.\n",
            "MoviePy - Writing audio in Gyan_Dariyo_video_85TEMP_MPY_wvf_snd.mp4\n"
          ]
        },
        {
          "name": "stderr",
          "output_type": "stream",
          "text": []
        },
        {
          "name": "stdout",
          "output_type": "stream",
          "text": [
            "MoviePy - Done.\n",
            "Moviepy - Writing video Gyan_Dariyo_video_85.mp4\n",
            "\n"
          ]
        },
        {
          "name": "stderr",
          "output_type": "stream",
          "text": []
        },
        {
          "name": "stdout",
          "output_type": "stream",
          "text": [
            "Moviepy - Done !\n",
            "Moviepy - video ready Gyan_Dariyo_video_85.mp4\n",
            "Video 85 created: Gyan_Dariyo_video_85.mp4\n",
            "Moviepy - Building video Gyan_Dariyo_video_86.mp4.\n",
            "MoviePy - Writing audio in Gyan_Dariyo_video_86TEMP_MPY_wvf_snd.mp4\n"
          ]
        },
        {
          "name": "stderr",
          "output_type": "stream",
          "text": []
        },
        {
          "name": "stdout",
          "output_type": "stream",
          "text": [
            "MoviePy - Done.\n",
            "Moviepy - Writing video Gyan_Dariyo_video_86.mp4\n",
            "\n"
          ]
        },
        {
          "name": "stderr",
          "output_type": "stream",
          "text": []
        },
        {
          "name": "stdout",
          "output_type": "stream",
          "text": [
            "Moviepy - Done !\n",
            "Moviepy - video ready Gyan_Dariyo_video_86.mp4\n",
            "Video 86 created: Gyan_Dariyo_video_86.mp4\n",
            "Moviepy - Building video Gyan_Dariyo_video_87.mp4.\n",
            "MoviePy - Writing audio in Gyan_Dariyo_video_87TEMP_MPY_wvf_snd.mp4\n"
          ]
        },
        {
          "name": "stderr",
          "output_type": "stream",
          "text": []
        },
        {
          "name": "stdout",
          "output_type": "stream",
          "text": [
            "MoviePy - Done.\n",
            "Moviepy - Writing video Gyan_Dariyo_video_87.mp4\n",
            "\n"
          ]
        },
        {
          "name": "stderr",
          "output_type": "stream",
          "text": []
        },
        {
          "name": "stdout",
          "output_type": "stream",
          "text": [
            "Moviepy - Done !\n",
            "Moviepy - video ready Gyan_Dariyo_video_87.mp4\n",
            "Video 87 created: Gyan_Dariyo_video_87.mp4\n",
            "Moviepy - Building video Gyan_Dariyo_video_88.mp4.\n",
            "MoviePy - Writing audio in Gyan_Dariyo_video_88TEMP_MPY_wvf_snd.mp4\n"
          ]
        },
        {
          "name": "stderr",
          "output_type": "stream",
          "text": []
        },
        {
          "name": "stdout",
          "output_type": "stream",
          "text": [
            "MoviePy - Done.\n",
            "Moviepy - Writing video Gyan_Dariyo_video_88.mp4\n",
            "\n"
          ]
        },
        {
          "name": "stderr",
          "output_type": "stream",
          "text": []
        },
        {
          "name": "stdout",
          "output_type": "stream",
          "text": [
            "Moviepy - Done !\n",
            "Moviepy - video ready Gyan_Dariyo_video_88.mp4\n",
            "Video 88 created: Gyan_Dariyo_video_88.mp4\n",
            "Moviepy - Building video Gyan_Dariyo_video_89.mp4.\n",
            "MoviePy - Writing audio in Gyan_Dariyo_video_89TEMP_MPY_wvf_snd.mp4\n"
          ]
        },
        {
          "name": "stderr",
          "output_type": "stream",
          "text": []
        },
        {
          "name": "stdout",
          "output_type": "stream",
          "text": [
            "MoviePy - Done.\n",
            "Moviepy - Writing video Gyan_Dariyo_video_89.mp4\n",
            "\n"
          ]
        },
        {
          "name": "stderr",
          "output_type": "stream",
          "text": []
        },
        {
          "name": "stdout",
          "output_type": "stream",
          "text": [
            "Moviepy - Done !\n",
            "Moviepy - video ready Gyan_Dariyo_video_89.mp4\n",
            "Video 89 created: Gyan_Dariyo_video_89.mp4\n",
            "Moviepy - Building video Gyan_Dariyo_video_90.mp4.\n",
            "MoviePy - Writing audio in Gyan_Dariyo_video_90TEMP_MPY_wvf_snd.mp4\n"
          ]
        },
        {
          "name": "stderr",
          "output_type": "stream",
          "text": []
        },
        {
          "name": "stdout",
          "output_type": "stream",
          "text": [
            "MoviePy - Done.\n",
            "Moviepy - Writing video Gyan_Dariyo_video_90.mp4\n",
            "\n"
          ]
        },
        {
          "name": "stderr",
          "output_type": "stream",
          "text": []
        },
        {
          "name": "stdout",
          "output_type": "stream",
          "text": [
            "Moviepy - Done !\n",
            "Moviepy - video ready Gyan_Dariyo_video_90.mp4\n",
            "Video 90 created: Gyan_Dariyo_video_90.mp4\n",
            "Moviepy - Building video Gyan_Dariyo_video_91.mp4.\n",
            "MoviePy - Writing audio in Gyan_Dariyo_video_91TEMP_MPY_wvf_snd.mp4\n"
          ]
        },
        {
          "name": "stderr",
          "output_type": "stream",
          "text": []
        },
        {
          "name": "stdout",
          "output_type": "stream",
          "text": [
            "MoviePy - Done.\n",
            "Moviepy - Writing video Gyan_Dariyo_video_91.mp4\n",
            "\n"
          ]
        },
        {
          "name": "stderr",
          "output_type": "stream",
          "text": []
        },
        {
          "name": "stdout",
          "output_type": "stream",
          "text": [
            "Moviepy - Done !\n",
            "Moviepy - video ready Gyan_Dariyo_video_91.mp4\n",
            "Video 91 created: Gyan_Dariyo_video_91.mp4\n",
            "Moviepy - Building video Gyan_Dariyo_video_92.mp4.\n",
            "MoviePy - Writing audio in Gyan_Dariyo_video_92TEMP_MPY_wvf_snd.mp4\n"
          ]
        },
        {
          "name": "stderr",
          "output_type": "stream",
          "text": []
        },
        {
          "name": "stdout",
          "output_type": "stream",
          "text": [
            "MoviePy - Done.\n",
            "Moviepy - Writing video Gyan_Dariyo_video_92.mp4\n",
            "\n"
          ]
        },
        {
          "name": "stderr",
          "output_type": "stream",
          "text": []
        },
        {
          "name": "stdout",
          "output_type": "stream",
          "text": [
            "Moviepy - Done !\n",
            "Moviepy - video ready Gyan_Dariyo_video_92.mp4\n",
            "Video 92 created: Gyan_Dariyo_video_92.mp4\n",
            "Moviepy - Building video Gyan_Dariyo_video_93.mp4.\n",
            "MoviePy - Writing audio in Gyan_Dariyo_video_93TEMP_MPY_wvf_snd.mp4\n"
          ]
        },
        {
          "name": "stderr",
          "output_type": "stream",
          "text": []
        },
        {
          "name": "stdout",
          "output_type": "stream",
          "text": [
            "MoviePy - Done.\n",
            "Moviepy - Writing video Gyan_Dariyo_video_93.mp4\n",
            "\n"
          ]
        },
        {
          "name": "stderr",
          "output_type": "stream",
          "text": []
        },
        {
          "name": "stdout",
          "output_type": "stream",
          "text": [
            "Moviepy - Done !\n",
            "Moviepy - video ready Gyan_Dariyo_video_93.mp4\n",
            "Video 93 created: Gyan_Dariyo_video_93.mp4\n",
            "Moviepy - Building video Gyan_Dariyo_video_94.mp4.\n",
            "MoviePy - Writing audio in Gyan_Dariyo_video_94TEMP_MPY_wvf_snd.mp4\n"
          ]
        },
        {
          "name": "stderr",
          "output_type": "stream",
          "text": []
        },
        {
          "name": "stdout",
          "output_type": "stream",
          "text": [
            "MoviePy - Done.\n",
            "Moviepy - Writing video Gyan_Dariyo_video_94.mp4\n",
            "\n"
          ]
        },
        {
          "name": "stderr",
          "output_type": "stream",
          "text": []
        },
        {
          "name": "stdout",
          "output_type": "stream",
          "text": [
            "Moviepy - Done !\n",
            "Moviepy - video ready Gyan_Dariyo_video_94.mp4\n",
            "Video 94 created: Gyan_Dariyo_video_94.mp4\n",
            "Moviepy - Building video Gyan_Dariyo_video_95.mp4.\n",
            "MoviePy - Writing audio in Gyan_Dariyo_video_95TEMP_MPY_wvf_snd.mp4\n"
          ]
        },
        {
          "name": "stderr",
          "output_type": "stream",
          "text": []
        },
        {
          "name": "stdout",
          "output_type": "stream",
          "text": [
            "MoviePy - Done.\n",
            "Moviepy - Writing video Gyan_Dariyo_video_95.mp4\n",
            "\n"
          ]
        },
        {
          "name": "stderr",
          "output_type": "stream",
          "text": []
        },
        {
          "name": "stdout",
          "output_type": "stream",
          "text": [
            "Moviepy - Done !\n",
            "Moviepy - video ready Gyan_Dariyo_video_95.mp4\n",
            "Video 95 created: Gyan_Dariyo_video_95.mp4\n",
            "Moviepy - Building video Gyan_Dariyo_video_96.mp4.\n",
            "MoviePy - Writing audio in Gyan_Dariyo_video_96TEMP_MPY_wvf_snd.mp4\n"
          ]
        },
        {
          "name": "stderr",
          "output_type": "stream",
          "text": []
        },
        {
          "name": "stdout",
          "output_type": "stream",
          "text": [
            "MoviePy - Done.\n",
            "Moviepy - Writing video Gyan_Dariyo_video_96.mp4\n",
            "\n"
          ]
        },
        {
          "name": "stderr",
          "output_type": "stream",
          "text": []
        },
        {
          "name": "stdout",
          "output_type": "stream",
          "text": [
            "Moviepy - Done !\n",
            "Moviepy - video ready Gyan_Dariyo_video_96.mp4\n",
            "Video 96 created: Gyan_Dariyo_video_96.mp4\n",
            "Moviepy - Building video Gyan_Dariyo_video_97.mp4.\n",
            "MoviePy - Writing audio in Gyan_Dariyo_video_97TEMP_MPY_wvf_snd.mp4\n"
          ]
        },
        {
          "name": "stderr",
          "output_type": "stream",
          "text": []
        },
        {
          "name": "stdout",
          "output_type": "stream",
          "text": [
            "MoviePy - Done.\n",
            "Moviepy - Writing video Gyan_Dariyo_video_97.mp4\n",
            "\n"
          ]
        },
        {
          "name": "stderr",
          "output_type": "stream",
          "text": []
        },
        {
          "name": "stdout",
          "output_type": "stream",
          "text": [
            "Moviepy - Done !\n",
            "Moviepy - video ready Gyan_Dariyo_video_97.mp4\n",
            "Video 97 created: Gyan_Dariyo_video_97.mp4\n",
            "Moviepy - Building video Gyan_Dariyo_video_98.mp4.\n",
            "MoviePy - Writing audio in Gyan_Dariyo_video_98TEMP_MPY_wvf_snd.mp4\n"
          ]
        },
        {
          "name": "stderr",
          "output_type": "stream",
          "text": []
        },
        {
          "name": "stdout",
          "output_type": "stream",
          "text": [
            "MoviePy - Done.\n",
            "Moviepy - Writing video Gyan_Dariyo_video_98.mp4\n",
            "\n"
          ]
        },
        {
          "name": "stderr",
          "output_type": "stream",
          "text": []
        },
        {
          "name": "stdout",
          "output_type": "stream",
          "text": [
            "Moviepy - Done !\n",
            "Moviepy - video ready Gyan_Dariyo_video_98.mp4\n",
            "Video 98 created: Gyan_Dariyo_video_98.mp4\n",
            "Moviepy - Building video Gyan_Dariyo_video_99.mp4.\n",
            "MoviePy - Writing audio in Gyan_Dariyo_video_99TEMP_MPY_wvf_snd.mp4\n"
          ]
        },
        {
          "name": "stderr",
          "output_type": "stream",
          "text": []
        },
        {
          "name": "stdout",
          "output_type": "stream",
          "text": [
            "MoviePy - Done.\n",
            "Moviepy - Writing video Gyan_Dariyo_video_99.mp4\n",
            "\n"
          ]
        },
        {
          "name": "stderr",
          "output_type": "stream",
          "text": []
        },
        {
          "name": "stdout",
          "output_type": "stream",
          "text": [
            "Moviepy - Done !\n",
            "Moviepy - video ready Gyan_Dariyo_video_99.mp4\n",
            "Video 99 created: Gyan_Dariyo_video_99.mp4\n",
            "Moviepy - Building video Gyan_Dariyo_video_100.mp4.\n",
            "MoviePy - Writing audio in Gyan_Dariyo_video_100TEMP_MPY_wvf_snd.mp4\n"
          ]
        },
        {
          "name": "stderr",
          "output_type": "stream",
          "text": []
        },
        {
          "name": "stdout",
          "output_type": "stream",
          "text": [
            "MoviePy - Done.\n",
            "Moviepy - Writing video Gyan_Dariyo_video_100.mp4\n",
            "\n"
          ]
        },
        {
          "name": "stderr",
          "output_type": "stream",
          "text": []
        },
        {
          "name": "stdout",
          "output_type": "stream",
          "text": [
            "Moviepy - Done !\n",
            "Moviepy - video ready Gyan_Dariyo_video_100.mp4\n",
            "Video 100 created: Gyan_Dariyo_video_100.mp4\n"
          ]
        }
      ],
      "source": [
        "from moviepy.editor import ImageClip, AudioFileClip\n",
        "from gtts import gTTS\n",
        "import textwrap\n",
        "video_list = []\n",
        "default_fps = 24  # Default frames per second for the video clips\n",
        "\n",
        "for idx, data in enumerate(data_list):\n",
        "    text_to_speak = \"\\n\".join(data)\n",
        "\n",
        "    # Convert text to speech and create an audio file\n",
        "    tts = gTTS(text=text_to_speak, lang='gu')\n",
        "    audio_file_path = f\"Gyan_Dariyo_audio_{idx+1}.mp3\"\n",
        "    tts.save(audio_file_path)\n",
        "\n",
        "    # Load the audio clip\n",
        "    audio_clip = AudioFileClip(audio_file_path)\n",
        "\n",
        "    # Get the audio duration\n",
        "    audio_duration = audio_clip.duration\n",
        "\n",
        "    # Create an image clip\n",
        "    image_path = f\"Gyan_Dariyo_image_{idx+1}.png\"\n",
        "    image_clip = ImageClip(image_path)\n",
        "\n",
        "    # Set the audio of the image clip\n",
        "    video_clip = image_clip.set_audio(audio_clip)\n",
        "\n",
        "    # Set the duration of the video clip to match the audio duration\n",
        "    video_clip = video_clip.set_duration(audio_duration)\n",
        "\n",
        "    # Set the fps for the video clip\n",
        "    video_clip = video_clip.set_fps(default_fps)\n",
        "\n",
        "    # Write the final video\n",
        "    video_file_path = f\"Gyan_Dariyo_video_{idx+1}.mp4\"\n",
        "    video_list.append(f\"Gyan_Dariyo_video_{idx+1}.mp4\")\n",
        "    video_clip.write_videofile(video_file_path, codec=\"libx264\", audio_codec=\"aac\")\n",
        "\n",
        "    # Print a message to indicate completion\n",
        "    print(f\"Video {idx+1} created: {video_file_path}\")\n"
      ]
    },
    {
      "cell_type": "code",
      "execution_count": null,
      "metadata": {
        "colab": {
          "background_save": true,
          "base_uri": "https://localhost:8080/"
        },
        "id": "EhS6YUVWkhsJ",
        "outputId": "e688e1bf-158d-4748-ef7b-4455362d7d6f"
      },
      "outputs": [
        {
          "name": "stdout",
          "output_type": "stream",
          "text": [
            "Moviepy - Building video Gyan_Dariyo_final_video.mp4.\n",
            "MoviePy - Writing audio in Gyan_Dariyo_final_videoTEMP_MPY_wvf_snd.mp4\n"
          ]
        },
        {
          "name": "stderr",
          "output_type": "stream",
          "text": [
            ""
          ]
        },
        {
          "name": "stdout",
          "output_type": "stream",
          "text": [
            "MoviePy - Done.\n",
            "Moviepy - Writing video Gyan_Dariyo_final_video.mp4\n",
            "\n"
          ]
        },
        {
          "name": "stderr",
          "output_type": "stream",
          "text": [
            ""
          ]
        },
        {
          "name": "stdout",
          "output_type": "stream",
          "text": [
            "Moviepy - Done !\n",
            "Moviepy - video ready Gyan_Dariyo_final_video.mp4\n",
            "Final video created: Gyan_Dariyo_final_video.mp4\n"
          ]
        }
      ],
      "source": [
        "from moviepy.editor import VideoFileClip, concatenate_videoclips\n",
        "\n",
        "video_list = []\n",
        "\n",
        "for idx, data in enumerate(data_list):\n",
        "    video_file_path = f\"Gyan_Dariyo_video_{idx+1}.mp4\"\n",
        "    video_clip = VideoFileClip(video_file_path)\n",
        "    video_list.append(video_clip)\n",
        "\n",
        "final_video = concatenate_videoclips(video_list)\n",
        "\n",
        "final_video_file_path = \"Gyan_Dariyo_final_video.mp4\"\n",
        "final_video.write_videofile(final_video_file_path, codec=\"libx264\", audio_codec=\"aac\")\n",
        "\n",
        "print(f\"Final video created: {final_video_file_path}\")\n"
      ]
    },
    {
      "cell_type": "code",
      "execution_count": null,
      "metadata": {
        "id": "tCm__utRcvrr"
      },
      "outputs": [],
      "source": [
        "%%time\n",
        "import time\n",
        "from gtts import gTTS\n",
        "\n",
        "def create_combined_mp3(data_list, output_file):\n",
        "    combined_text = \" \".join(data_list)\n",
        "    tts = gTTS(text=combined_text, lang='gu')\n",
        "    tts.save(output_file)\n",
        "    time.sleep(10)\n",
        "    print(f\"Created combined MP3: {output_file}\")\n",
        "\n",
        "for i in range(len(data_list)):\n",
        "    output_file = f\"combined_output_{i+1}.mp3\"\n",
        "    create_combined_mp3([str(data_list[i])], output_file)"
      ]
    },
    {
      "cell_type": "code",
      "execution_count": null,
      "metadata": {
        "id": "9hfEp28rUpQ6"
      },
      "outputs": [],
      "source": [
        "%%time\n",
        "from PIL import Image, ImageDraw, ImageFont\n",
        "import textwrap\n",
        "\n",
        "def create_image_with_text(data_list, image_size=(1920, 1080), text_color=(229, 0, 135),\n",
        "                           background_color=(255, 229, 244), font_size=110, margin=0):\n",
        "    image = Image.new('RGB', image_size, background_color)\n",
        "    draw = ImageDraw.Draw(image)\n",
        "    font = ImageFont.truetype(\"/content/HindVadodara-Medium.ttf\", font_size)\n",
        "    line_height = font_size + 5\n",
        "    padding = 0\n",
        "\n",
        "    for index, item in enumerate(data_list):\n",
        "        y = padding + 1 * line_height + margin\n",
        "        for col, text in enumerate(item):\n",
        "            x = padding + 1 * (image_size[0] // len(item))\n",
        "            # Wrap text if it exceeds the available space\n",
        "            wrapped_text = textwrap.fill(text, width=80)\n",
        "            lines = wrapped_text.split('\\n')\n",
        "\n",
        "            for line in lines:\n",
        "                if col==1:\n",
        "                    y=y+100\n",
        "                    text_color=(0, 0, 255)\n",
        "                if col==5 or col==6:\n",
        "                    y=y+100\n",
        "                    text_color=(0, 0 ,0)\n",
        "                draw.text((x, y), line, text_color, font=font)\n",
        "                # Move to the next line for the next item\n",
        "                y += line_height\n",
        "                image.save(f\"withanswer_image_{index + 1}.png\")\n",
        "        print(\"withanswer_image \",index+1 ,\"Image successfully Created \")\n",
        "\n",
        "# Example data\n",
        "data_list = [\n",
        "       [\"કલકત્તામાં એશિયાટિક સોસાયટીની સ્થાપના સમયે બંગાળના ગવર્નર જનરલ કોણ હતા ? \", \"A. કોનૅવોલીસ\", \"B. વિલિયમ બેન્ટિક\", \"C. વોરન હેસ્ટીંગ્સ\", \"D. વેલેસ્લી\", \"જવાબ :- વોરન હેસ્ટીંગ્સ\", \"\"],\n",
        "        [\"સ્વામી વિવેકાનંદ નું મૂળ નામ શું હતું ?\", \"A. સુરેન્દ્રનાથ\", \"B. રવીન્દ્રનાથ\", \"C. રામકૃષ્ણ\", \"D. નરેન્દ્રનાથ\", \"જવાબ  નરેન્દ્રનાથ\", \"\"]\n",
        "\n",
        "    # Add more data here for a total of 7 objects\n",
        "]\n",
        "\n",
        "# Create the image\n",
        "image = create_image_with_text(data_list, margin=0)\n",
        "\n"
      ]
    },
    {
      "cell_type": "code",
      "execution_count": null,
      "metadata": {
        "id": "sEvQ7gJBVyWK"
      },
      "outputs": [],
      "source": []
    }
  ],
  "metadata": {
    "colab": {
      "provenance": [],
      "mount_file_id": "10laYFgCPDcbXyFnihFyH1fB50O0TvZ6c",
      "authorship_tag": "ABX9TyOMdQdBZxAHJkJUrLcvGG4N",
      "include_colab_link": true
    },
    "kernelspec": {
      "display_name": "Python 3",
      "name": "python3"
    },
    "language_info": {
      "name": "python"
    }
  },
  "nbformat": 4,
  "nbformat_minor": 0
}