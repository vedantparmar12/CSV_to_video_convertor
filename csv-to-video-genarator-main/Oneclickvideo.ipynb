{
  "nbformat": 4,
  "nbformat_minor": 0,
  "metadata": {
    "colab": {
      "provenance": [],
      "include_colab_link": true
    },
    "kernelspec": {
      "name": "python3",
      "display_name": "Python 3"
    },
    "language_info": {
      "name": "python"
    }
  },
  "cells": [
    {
      "cell_type": "markdown",
      "metadata": {
        "id": "view-in-github",
        "colab_type": "text"
      },
      "source": [
        "<a href=\"https://colab.research.google.com/github/Yash-Kavaiya/csv-to-video-genarator/blob/main/Oneclickvideo.ipynb\" target=\"_parent\"><img src=\"https://colab.research.google.com/assets/colab-badge.svg\" alt=\"Open In Colab\"/></a>"
      ]
    },
    {
      "cell_type": "code",
      "execution_count": null,
      "metadata": {
        "colab": {
          "base_uri": "https://localhost:8080/"
        },
        "id": "BPTH6iV_mxLC",
        "outputId": "dae111a8-875a-42b1-8fb3-5aafdf99db63"
      },
      "outputs": [
        {
          "output_type": "stream",
          "name": "stdout",
          "text": [
            "\u001b[31mERROR: pip's dependency resolver does not currently take into account all the packages that are installed. This behaviour is the source of the following dependency conflicts.\n",
            "imageio 2.31.6 requires pillow<10.1.0,>=8.3.2, but you have pillow 10.1.0 which is incompatible.\u001b[0m\u001b[31m\n",
            "\u001b[0m['ભારતના કયા પ્રાચીન ગ્રંથમાં ભારત માટે ભારત વર્ષ નામ આપવામાં આવ્યું ?', 'A.ભાગવત પુરાણ', 'B.વરાહ પુરાણ', 'C.નારાદિય પુરાણ', 'D.વિષ્ણુપુરાણ', 'જવાબ- વિષ્ણુપુરાણ']\n",
            "Moviepy - Building video Gyan_Dariyo_video_1.mp4.\n",
            "MoviePy - Writing audio in Gyan_Dariyo_video_1TEMP_MPY_wvf_snd.mp4\n"
          ]
        },
        {
          "output_type": "stream",
          "name": "stderr",
          "text": []
        },
        {
          "output_type": "stream",
          "name": "stdout",
          "text": [
            "MoviePy - Done.\n",
            "Moviepy - Writing video Gyan_Dariyo_video_1.mp4\n",
            "\n"
          ]
        },
        {
          "output_type": "stream",
          "name": "stderr",
          "text": []
        },
        {
          "output_type": "stream",
          "name": "stdout",
          "text": [
            "Moviepy - Done !\n",
            "Moviepy - video ready Gyan_Dariyo_video_1.mp4\n",
            "Video 1 created: Gyan_Dariyo_video_1.mp4\n",
            "Moviepy - Building video Gyan_Dariyo_video_2.mp4.\n",
            "MoviePy - Writing audio in Gyan_Dariyo_video_2TEMP_MPY_wvf_snd.mp4\n"
          ]
        },
        {
          "output_type": "stream",
          "name": "stderr",
          "text": []
        },
        {
          "output_type": "stream",
          "name": "stdout",
          "text": [
            "MoviePy - Done.\n",
            "Moviepy - Writing video Gyan_Dariyo_video_2.mp4\n",
            "\n"
          ]
        },
        {
          "output_type": "stream",
          "name": "stderr",
          "text": []
        },
        {
          "output_type": "stream",
          "name": "stdout",
          "text": [
            "Moviepy - Done !\n",
            "Moviepy - video ready Gyan_Dariyo_video_2.mp4\n",
            "Video 2 created: Gyan_Dariyo_video_2.mp4\n",
            "Moviepy - Building video Gyan_Dariyo_video_3.mp4.\n",
            "MoviePy - Writing audio in Gyan_Dariyo_video_3TEMP_MPY_wvf_snd.mp4\n"
          ]
        },
        {
          "output_type": "stream",
          "name": "stderr",
          "text": []
        },
        {
          "output_type": "stream",
          "name": "stdout",
          "text": [
            "MoviePy - Done.\n",
            "Moviepy - Writing video Gyan_Dariyo_video_3.mp4\n",
            "\n"
          ]
        },
        {
          "output_type": "stream",
          "name": "stderr",
          "text": []
        },
        {
          "output_type": "stream",
          "name": "stdout",
          "text": [
            "Moviepy - Done !\n",
            "Moviepy - video ready Gyan_Dariyo_video_3.mp4\n",
            "Video 3 created: Gyan_Dariyo_video_3.mp4\n",
            "Moviepy - Building video Gyan_Dariyo_video_4.mp4.\n",
            "MoviePy - Writing audio in Gyan_Dariyo_video_4TEMP_MPY_wvf_snd.mp4\n"
          ]
        },
        {
          "output_type": "stream",
          "name": "stderr",
          "text": []
        },
        {
          "output_type": "stream",
          "name": "stdout",
          "text": [
            "MoviePy - Done.\n",
            "Moviepy - Writing video Gyan_Dariyo_video_4.mp4\n",
            "\n"
          ]
        },
        {
          "output_type": "stream",
          "name": "stderr",
          "text": []
        },
        {
          "output_type": "stream",
          "name": "stdout",
          "text": [
            "Moviepy - Done !\n",
            "Moviepy - video ready Gyan_Dariyo_video_4.mp4\n",
            "Video 4 created: Gyan_Dariyo_video_4.mp4\n",
            "Moviepy - Building video Gyan_Dariyo_video_5.mp4.\n",
            "MoviePy - Writing audio in Gyan_Dariyo_video_5TEMP_MPY_wvf_snd.mp4\n"
          ]
        },
        {
          "output_type": "stream",
          "name": "stderr",
          "text": []
        },
        {
          "output_type": "stream",
          "name": "stdout",
          "text": [
            "MoviePy - Done.\n",
            "Moviepy - Writing video Gyan_Dariyo_video_5.mp4\n",
            "\n"
          ]
        },
        {
          "output_type": "stream",
          "name": "stderr",
          "text": []
        },
        {
          "output_type": "stream",
          "name": "stdout",
          "text": [
            "Moviepy - Done !\n",
            "Moviepy - video ready Gyan_Dariyo_video_5.mp4\n",
            "Video 5 created: Gyan_Dariyo_video_5.mp4\n",
            "Moviepy - Building video Gyan_Dariyo_video_6.mp4.\n",
            "MoviePy - Writing audio in Gyan_Dariyo_video_6TEMP_MPY_wvf_snd.mp4\n"
          ]
        },
        {
          "output_type": "stream",
          "name": "stderr",
          "text": []
        },
        {
          "output_type": "stream",
          "name": "stdout",
          "text": [
            "MoviePy - Done.\n",
            "Moviepy - Writing video Gyan_Dariyo_video_6.mp4\n",
            "\n"
          ]
        },
        {
          "output_type": "stream",
          "name": "stderr",
          "text": []
        },
        {
          "output_type": "stream",
          "name": "stdout",
          "text": [
            "Moviepy - Done !\n",
            "Moviepy - video ready Gyan_Dariyo_video_6.mp4\n",
            "Video 6 created: Gyan_Dariyo_video_6.mp4\n",
            "Moviepy - Building video Gyan_Dariyo_video_7.mp4.\n",
            "MoviePy - Writing audio in Gyan_Dariyo_video_7TEMP_MPY_wvf_snd.mp4\n"
          ]
        },
        {
          "output_type": "stream",
          "name": "stderr",
          "text": []
        },
        {
          "output_type": "stream",
          "name": "stdout",
          "text": [
            "MoviePy - Done.\n",
            "Moviepy - Writing video Gyan_Dariyo_video_7.mp4\n",
            "\n"
          ]
        },
        {
          "output_type": "stream",
          "name": "stderr",
          "text": []
        },
        {
          "output_type": "stream",
          "name": "stdout",
          "text": [
            "Moviepy - Done !\n",
            "Moviepy - video ready Gyan_Dariyo_video_7.mp4\n",
            "Video 7 created: Gyan_Dariyo_video_7.mp4\n",
            "Moviepy - Building video Gyan_Dariyo_video_8.mp4.\n",
            "MoviePy - Writing audio in Gyan_Dariyo_video_8TEMP_MPY_wvf_snd.mp4\n"
          ]
        },
        {
          "output_type": "stream",
          "name": "stderr",
          "text": []
        },
        {
          "output_type": "stream",
          "name": "stdout",
          "text": [
            "MoviePy - Done.\n",
            "Moviepy - Writing video Gyan_Dariyo_video_8.mp4\n",
            "\n"
          ]
        },
        {
          "output_type": "stream",
          "name": "stderr",
          "text": []
        },
        {
          "output_type": "stream",
          "name": "stdout",
          "text": [
            "Moviepy - Done !\n",
            "Moviepy - video ready Gyan_Dariyo_video_8.mp4\n",
            "Video 8 created: Gyan_Dariyo_video_8.mp4\n",
            "Moviepy - Building video Gyan_Dariyo_video_9.mp4.\n",
            "MoviePy - Writing audio in Gyan_Dariyo_video_9TEMP_MPY_wvf_snd.mp4\n"
          ]
        },
        {
          "output_type": "stream",
          "name": "stderr",
          "text": []
        },
        {
          "output_type": "stream",
          "name": "stdout",
          "text": [
            "MoviePy - Done.\n",
            "Moviepy - Writing video Gyan_Dariyo_video_9.mp4\n",
            "\n"
          ]
        },
        {
          "output_type": "stream",
          "name": "stderr",
          "text": []
        },
        {
          "output_type": "stream",
          "name": "stdout",
          "text": [
            "Moviepy - Done !\n",
            "Moviepy - video ready Gyan_Dariyo_video_9.mp4\n",
            "Video 9 created: Gyan_Dariyo_video_9.mp4\n",
            "Moviepy - Building video Gyan_Dariyo_video_10.mp4.\n",
            "MoviePy - Writing audio in Gyan_Dariyo_video_10TEMP_MPY_wvf_snd.mp4\n"
          ]
        },
        {
          "output_type": "stream",
          "name": "stderr",
          "text": []
        },
        {
          "output_type": "stream",
          "name": "stdout",
          "text": [
            "MoviePy - Done.\n",
            "Moviepy - Writing video Gyan_Dariyo_video_10.mp4\n",
            "\n"
          ]
        },
        {
          "output_type": "stream",
          "name": "stderr",
          "text": []
        },
        {
          "output_type": "stream",
          "name": "stdout",
          "text": [
            "Moviepy - Done !\n",
            "Moviepy - video ready Gyan_Dariyo_video_10.mp4\n",
            "Video 10 created: Gyan_Dariyo_video_10.mp4\n",
            "Moviepy - Building video Gyan_Dariyo_video_11.mp4.\n",
            "MoviePy - Writing audio in Gyan_Dariyo_video_11TEMP_MPY_wvf_snd.mp4\n"
          ]
        },
        {
          "output_type": "stream",
          "name": "stderr",
          "text": []
        },
        {
          "output_type": "stream",
          "name": "stdout",
          "text": [
            "MoviePy - Done.\n",
            "Moviepy - Writing video Gyan_Dariyo_video_11.mp4\n",
            "\n"
          ]
        },
        {
          "output_type": "stream",
          "name": "stderr",
          "text": []
        },
        {
          "output_type": "stream",
          "name": "stdout",
          "text": [
            "Moviepy - Done !\n",
            "Moviepy - video ready Gyan_Dariyo_video_11.mp4\n",
            "Video 11 created: Gyan_Dariyo_video_11.mp4\n",
            "Moviepy - Building video Gyan_Dariyo_video_12.mp4.\n",
            "MoviePy - Writing audio in Gyan_Dariyo_video_12TEMP_MPY_wvf_snd.mp4\n"
          ]
        },
        {
          "output_type": "stream",
          "name": "stderr",
          "text": []
        },
        {
          "output_type": "stream",
          "name": "stdout",
          "text": [
            "MoviePy - Done.\n",
            "Moviepy - Writing video Gyan_Dariyo_video_12.mp4\n",
            "\n"
          ]
        },
        {
          "output_type": "stream",
          "name": "stderr",
          "text": []
        },
        {
          "output_type": "stream",
          "name": "stdout",
          "text": [
            "Moviepy - Done !\n",
            "Moviepy - video ready Gyan_Dariyo_video_12.mp4\n",
            "Video 12 created: Gyan_Dariyo_video_12.mp4\n",
            "Moviepy - Building video Gyan_Dariyo_video_13.mp4.\n",
            "MoviePy - Writing audio in Gyan_Dariyo_video_13TEMP_MPY_wvf_snd.mp4\n"
          ]
        },
        {
          "output_type": "stream",
          "name": "stderr",
          "text": []
        },
        {
          "output_type": "stream",
          "name": "stdout",
          "text": [
            "MoviePy - Done.\n",
            "Moviepy - Writing video Gyan_Dariyo_video_13.mp4\n",
            "\n"
          ]
        },
        {
          "output_type": "stream",
          "name": "stderr",
          "text": []
        },
        {
          "output_type": "stream",
          "name": "stdout",
          "text": [
            "Moviepy - Done !\n",
            "Moviepy - video ready Gyan_Dariyo_video_13.mp4\n",
            "Video 13 created: Gyan_Dariyo_video_13.mp4\n",
            "Moviepy - Building video Gyan_Dariyo_video_14.mp4.\n",
            "MoviePy - Writing audio in Gyan_Dariyo_video_14TEMP_MPY_wvf_snd.mp4\n"
          ]
        },
        {
          "output_type": "stream",
          "name": "stderr",
          "text": []
        },
        {
          "output_type": "stream",
          "name": "stdout",
          "text": [
            "MoviePy - Done.\n",
            "Moviepy - Writing video Gyan_Dariyo_video_14.mp4\n",
            "\n"
          ]
        },
        {
          "output_type": "stream",
          "name": "stderr",
          "text": []
        },
        {
          "output_type": "stream",
          "name": "stdout",
          "text": [
            "Moviepy - Done !\n",
            "Moviepy - video ready Gyan_Dariyo_video_14.mp4\n",
            "Video 14 created: Gyan_Dariyo_video_14.mp4\n",
            "Moviepy - Building video Gyan_Dariyo_video_15.mp4.\n",
            "MoviePy - Writing audio in Gyan_Dariyo_video_15TEMP_MPY_wvf_snd.mp4\n"
          ]
        },
        {
          "output_type": "stream",
          "name": "stderr",
          "text": []
        },
        {
          "output_type": "stream",
          "name": "stdout",
          "text": [
            "MoviePy - Done.\n",
            "Moviepy - Writing video Gyan_Dariyo_video_15.mp4\n",
            "\n"
          ]
        },
        {
          "output_type": "stream",
          "name": "stderr",
          "text": []
        },
        {
          "output_type": "stream",
          "name": "stdout",
          "text": [
            "Moviepy - Done !\n",
            "Moviepy - video ready Gyan_Dariyo_video_15.mp4\n",
            "Video 15 created: Gyan_Dariyo_video_15.mp4\n",
            "Moviepy - Building video Gyan_Dariyo_video_16.mp4.\n",
            "MoviePy - Writing audio in Gyan_Dariyo_video_16TEMP_MPY_wvf_snd.mp4\n"
          ]
        },
        {
          "output_type": "stream",
          "name": "stderr",
          "text": []
        },
        {
          "output_type": "stream",
          "name": "stdout",
          "text": [
            "MoviePy - Done.\n",
            "Moviepy - Writing video Gyan_Dariyo_video_16.mp4\n",
            "\n"
          ]
        },
        {
          "output_type": "stream",
          "name": "stderr",
          "text": []
        },
        {
          "output_type": "stream",
          "name": "stdout",
          "text": [
            "Moviepy - Done !\n",
            "Moviepy - video ready Gyan_Dariyo_video_16.mp4\n",
            "Video 16 created: Gyan_Dariyo_video_16.mp4\n",
            "Moviepy - Building video Gyan_Dariyo_video_17.mp4.\n",
            "MoviePy - Writing audio in Gyan_Dariyo_video_17TEMP_MPY_wvf_snd.mp4\n"
          ]
        },
        {
          "output_type": "stream",
          "name": "stderr",
          "text": []
        },
        {
          "output_type": "stream",
          "name": "stdout",
          "text": [
            "MoviePy - Done.\n",
            "Moviepy - Writing video Gyan_Dariyo_video_17.mp4\n",
            "\n"
          ]
        },
        {
          "output_type": "stream",
          "name": "stderr",
          "text": []
        },
        {
          "output_type": "stream",
          "name": "stdout",
          "text": [
            "Moviepy - Done !\n",
            "Moviepy - video ready Gyan_Dariyo_video_17.mp4\n",
            "Video 17 created: Gyan_Dariyo_video_17.mp4\n",
            "Moviepy - Building video Gyan_Dariyo_video_18.mp4.\n",
            "MoviePy - Writing audio in Gyan_Dariyo_video_18TEMP_MPY_wvf_snd.mp4\n"
          ]
        },
        {
          "output_type": "stream",
          "name": "stderr",
          "text": []
        },
        {
          "output_type": "stream",
          "name": "stdout",
          "text": [
            "MoviePy - Done.\n",
            "Moviepy - Writing video Gyan_Dariyo_video_18.mp4\n",
            "\n"
          ]
        },
        {
          "output_type": "stream",
          "name": "stderr",
          "text": []
        },
        {
          "output_type": "stream",
          "name": "stdout",
          "text": [
            "Moviepy - Done !\n",
            "Moviepy - video ready Gyan_Dariyo_video_18.mp4\n",
            "Video 18 created: Gyan_Dariyo_video_18.mp4\n",
            "Moviepy - Building video Gyan_Dariyo_video_19.mp4.\n",
            "MoviePy - Writing audio in Gyan_Dariyo_video_19TEMP_MPY_wvf_snd.mp4\n"
          ]
        },
        {
          "output_type": "stream",
          "name": "stderr",
          "text": []
        },
        {
          "output_type": "stream",
          "name": "stdout",
          "text": [
            "MoviePy - Done.\n",
            "Moviepy - Writing video Gyan_Dariyo_video_19.mp4\n",
            "\n"
          ]
        },
        {
          "output_type": "stream",
          "name": "stderr",
          "text": []
        },
        {
          "output_type": "stream",
          "name": "stdout",
          "text": [
            "Moviepy - Done !\n",
            "Moviepy - video ready Gyan_Dariyo_video_19.mp4\n",
            "Video 19 created: Gyan_Dariyo_video_19.mp4\n",
            "Moviepy - Building video Gyan_Dariyo_video_20.mp4.\n",
            "MoviePy - Writing audio in Gyan_Dariyo_video_20TEMP_MPY_wvf_snd.mp4\n"
          ]
        },
        {
          "output_type": "stream",
          "name": "stderr",
          "text": []
        },
        {
          "output_type": "stream",
          "name": "stdout",
          "text": [
            "MoviePy - Done.\n",
            "Moviepy - Writing video Gyan_Dariyo_video_20.mp4\n",
            "\n"
          ]
        },
        {
          "output_type": "stream",
          "name": "stderr",
          "text": []
        },
        {
          "output_type": "stream",
          "name": "stdout",
          "text": [
            "Moviepy - Done !\n",
            "Moviepy - video ready Gyan_Dariyo_video_20.mp4\n",
            "Video 20 created: Gyan_Dariyo_video_20.mp4\n",
            "Moviepy - Building video Gyan_Dariyo_video_21.mp4.\n",
            "MoviePy - Writing audio in Gyan_Dariyo_video_21TEMP_MPY_wvf_snd.mp4\n"
          ]
        },
        {
          "output_type": "stream",
          "name": "stderr",
          "text": []
        },
        {
          "output_type": "stream",
          "name": "stdout",
          "text": [
            "MoviePy - Done.\n",
            "Moviepy - Writing video Gyan_Dariyo_video_21.mp4\n",
            "\n"
          ]
        },
        {
          "output_type": "stream",
          "name": "stderr",
          "text": []
        },
        {
          "output_type": "stream",
          "name": "stdout",
          "text": [
            "Moviepy - Done !\n",
            "Moviepy - video ready Gyan_Dariyo_video_21.mp4\n",
            "Video 21 created: Gyan_Dariyo_video_21.mp4\n",
            "Moviepy - Building video Gyan_Dariyo_video_22.mp4.\n",
            "MoviePy - Writing audio in Gyan_Dariyo_video_22TEMP_MPY_wvf_snd.mp4\n"
          ]
        },
        {
          "output_type": "stream",
          "name": "stderr",
          "text": []
        },
        {
          "output_type": "stream",
          "name": "stdout",
          "text": [
            "MoviePy - Done.\n",
            "Moviepy - Writing video Gyan_Dariyo_video_22.mp4\n",
            "\n"
          ]
        },
        {
          "output_type": "stream",
          "name": "stderr",
          "text": []
        },
        {
          "output_type": "stream",
          "name": "stdout",
          "text": [
            "Moviepy - Done !\n",
            "Moviepy - video ready Gyan_Dariyo_video_22.mp4\n",
            "Video 22 created: Gyan_Dariyo_video_22.mp4\n",
            "Moviepy - Building video Gyan_Dariyo_video_23.mp4.\n",
            "MoviePy - Writing audio in Gyan_Dariyo_video_23TEMP_MPY_wvf_snd.mp4\n"
          ]
        },
        {
          "output_type": "stream",
          "name": "stderr",
          "text": []
        },
        {
          "output_type": "stream",
          "name": "stdout",
          "text": [
            "MoviePy - Done.\n",
            "Moviepy - Writing video Gyan_Dariyo_video_23.mp4\n",
            "\n"
          ]
        },
        {
          "output_type": "stream",
          "name": "stderr",
          "text": []
        },
        {
          "output_type": "stream",
          "name": "stdout",
          "text": [
            "Moviepy - Done !\n",
            "Moviepy - video ready Gyan_Dariyo_video_23.mp4\n",
            "Video 23 created: Gyan_Dariyo_video_23.mp4\n",
            "Moviepy - Building video Gyan_Dariyo_video_24.mp4.\n",
            "MoviePy - Writing audio in Gyan_Dariyo_video_24TEMP_MPY_wvf_snd.mp4\n"
          ]
        },
        {
          "output_type": "stream",
          "name": "stderr",
          "text": []
        },
        {
          "output_type": "stream",
          "name": "stdout",
          "text": [
            "MoviePy - Done.\n",
            "Moviepy - Writing video Gyan_Dariyo_video_24.mp4\n",
            "\n"
          ]
        },
        {
          "output_type": "stream",
          "name": "stderr",
          "text": []
        },
        {
          "output_type": "stream",
          "name": "stdout",
          "text": [
            "Moviepy - Done !\n",
            "Moviepy - video ready Gyan_Dariyo_video_24.mp4\n",
            "Video 24 created: Gyan_Dariyo_video_24.mp4\n",
            "Moviepy - Building video Gyan_Dariyo_video_25.mp4.\n",
            "MoviePy - Writing audio in Gyan_Dariyo_video_25TEMP_MPY_wvf_snd.mp4\n"
          ]
        },
        {
          "output_type": "stream",
          "name": "stderr",
          "text": []
        },
        {
          "output_type": "stream",
          "name": "stdout",
          "text": [
            "MoviePy - Done.\n",
            "Moviepy - Writing video Gyan_Dariyo_video_25.mp4\n",
            "\n"
          ]
        },
        {
          "output_type": "stream",
          "name": "stderr",
          "text": []
        },
        {
          "output_type": "stream",
          "name": "stdout",
          "text": [
            "Moviepy - Done !\n",
            "Moviepy - video ready Gyan_Dariyo_video_25.mp4\n",
            "Video 25 created: Gyan_Dariyo_video_25.mp4\n",
            "Moviepy - Building video Gyan_Dariyo_video_26.mp4.\n",
            "MoviePy - Writing audio in Gyan_Dariyo_video_26TEMP_MPY_wvf_snd.mp4\n"
          ]
        },
        {
          "output_type": "stream",
          "name": "stderr",
          "text": []
        },
        {
          "output_type": "stream",
          "name": "stdout",
          "text": [
            "MoviePy - Done.\n",
            "Moviepy - Writing video Gyan_Dariyo_video_26.mp4\n",
            "\n"
          ]
        },
        {
          "output_type": "stream",
          "name": "stderr",
          "text": []
        },
        {
          "output_type": "stream",
          "name": "stdout",
          "text": [
            "Moviepy - Done !\n",
            "Moviepy - video ready Gyan_Dariyo_video_26.mp4\n",
            "Video 26 created: Gyan_Dariyo_video_26.mp4\n",
            "Moviepy - Building video Gyan_Dariyo_video_27.mp4.\n",
            "MoviePy - Writing audio in Gyan_Dariyo_video_27TEMP_MPY_wvf_snd.mp4\n"
          ]
        },
        {
          "output_type": "stream",
          "name": "stderr",
          "text": []
        },
        {
          "output_type": "stream",
          "name": "stdout",
          "text": [
            "MoviePy - Done.\n",
            "Moviepy - Writing video Gyan_Dariyo_video_27.mp4\n",
            "\n"
          ]
        },
        {
          "output_type": "stream",
          "name": "stderr",
          "text": []
        },
        {
          "output_type": "stream",
          "name": "stdout",
          "text": [
            "Moviepy - Done !\n",
            "Moviepy - video ready Gyan_Dariyo_video_27.mp4\n",
            "Video 27 created: Gyan_Dariyo_video_27.mp4\n",
            "Moviepy - Building video Gyan_Dariyo_video_28.mp4.\n",
            "MoviePy - Writing audio in Gyan_Dariyo_video_28TEMP_MPY_wvf_snd.mp4\n"
          ]
        },
        {
          "output_type": "stream",
          "name": "stderr",
          "text": []
        },
        {
          "output_type": "stream",
          "name": "stdout",
          "text": [
            "MoviePy - Done.\n",
            "Moviepy - Writing video Gyan_Dariyo_video_28.mp4\n",
            "\n"
          ]
        },
        {
          "output_type": "stream",
          "name": "stderr",
          "text": []
        },
        {
          "output_type": "stream",
          "name": "stdout",
          "text": [
            "Moviepy - Done !\n",
            "Moviepy - video ready Gyan_Dariyo_video_28.mp4\n",
            "Video 28 created: Gyan_Dariyo_video_28.mp4\n",
            "Moviepy - Building video Gyan_Dariyo_video_29.mp4.\n",
            "MoviePy - Writing audio in Gyan_Dariyo_video_29TEMP_MPY_wvf_snd.mp4\n"
          ]
        },
        {
          "output_type": "stream",
          "name": "stderr",
          "text": []
        },
        {
          "output_type": "stream",
          "name": "stdout",
          "text": [
            "MoviePy - Done.\n",
            "Moviepy - Writing video Gyan_Dariyo_video_29.mp4\n",
            "\n"
          ]
        },
        {
          "output_type": "stream",
          "name": "stderr",
          "text": []
        },
        {
          "output_type": "stream",
          "name": "stdout",
          "text": [
            "Moviepy - Done !\n",
            "Moviepy - video ready Gyan_Dariyo_video_29.mp4\n",
            "Video 29 created: Gyan_Dariyo_video_29.mp4\n",
            "Moviepy - Building video Gyan_Dariyo_video_30.mp4.\n",
            "MoviePy - Writing audio in Gyan_Dariyo_video_30TEMP_MPY_wvf_snd.mp4\n"
          ]
        },
        {
          "output_type": "stream",
          "name": "stderr",
          "text": []
        },
        {
          "output_type": "stream",
          "name": "stdout",
          "text": [
            "MoviePy - Done.\n",
            "Moviepy - Writing video Gyan_Dariyo_video_30.mp4\n",
            "\n"
          ]
        },
        {
          "output_type": "stream",
          "name": "stderr",
          "text": []
        },
        {
          "output_type": "stream",
          "name": "stdout",
          "text": [
            "Moviepy - Done !\n",
            "Moviepy - video ready Gyan_Dariyo_video_30.mp4\n",
            "Video 30 created: Gyan_Dariyo_video_30.mp4\n",
            "Moviepy - Building video Gyan_Dariyo_video_31.mp4.\n",
            "MoviePy - Writing audio in Gyan_Dariyo_video_31TEMP_MPY_wvf_snd.mp4\n"
          ]
        },
        {
          "output_type": "stream",
          "name": "stderr",
          "text": []
        },
        {
          "output_type": "stream",
          "name": "stdout",
          "text": [
            "MoviePy - Done.\n",
            "Moviepy - Writing video Gyan_Dariyo_video_31.mp4\n",
            "\n"
          ]
        },
        {
          "output_type": "stream",
          "name": "stderr",
          "text": []
        },
        {
          "output_type": "stream",
          "name": "stdout",
          "text": [
            "Moviepy - Done !\n",
            "Moviepy - video ready Gyan_Dariyo_video_31.mp4\n",
            "Video 31 created: Gyan_Dariyo_video_31.mp4\n",
            "Moviepy - Building video Gyan_Dariyo_video_32.mp4.\n",
            "MoviePy - Writing audio in Gyan_Dariyo_video_32TEMP_MPY_wvf_snd.mp4\n"
          ]
        },
        {
          "output_type": "stream",
          "name": "stderr",
          "text": []
        },
        {
          "output_type": "stream",
          "name": "stdout",
          "text": [
            "MoviePy - Done.\n",
            "Moviepy - Writing video Gyan_Dariyo_video_32.mp4\n",
            "\n"
          ]
        },
        {
          "output_type": "stream",
          "name": "stderr",
          "text": []
        },
        {
          "output_type": "stream",
          "name": "stdout",
          "text": [
            "Moviepy - Done !\n",
            "Moviepy - video ready Gyan_Dariyo_video_32.mp4\n",
            "Video 32 created: Gyan_Dariyo_video_32.mp4\n",
            "Moviepy - Building video Gyan_Dariyo_video_33.mp4.\n",
            "MoviePy - Writing audio in Gyan_Dariyo_video_33TEMP_MPY_wvf_snd.mp4\n"
          ]
        },
        {
          "output_type": "stream",
          "name": "stderr",
          "text": []
        },
        {
          "output_type": "stream",
          "name": "stdout",
          "text": [
            "MoviePy - Done.\n",
            "Moviepy - Writing video Gyan_Dariyo_video_33.mp4\n",
            "\n"
          ]
        },
        {
          "output_type": "stream",
          "name": "stderr",
          "text": []
        },
        {
          "output_type": "stream",
          "name": "stdout",
          "text": [
            "Moviepy - Done !\n",
            "Moviepy - video ready Gyan_Dariyo_video_33.mp4\n",
            "Video 33 created: Gyan_Dariyo_video_33.mp4\n",
            "Moviepy - Building video Gyan_Dariyo_video_34.mp4.\n",
            "MoviePy - Writing audio in Gyan_Dariyo_video_34TEMP_MPY_wvf_snd.mp4\n"
          ]
        },
        {
          "output_type": "stream",
          "name": "stderr",
          "text": []
        },
        {
          "output_type": "stream",
          "name": "stdout",
          "text": [
            "MoviePy - Done.\n",
            "Moviepy - Writing video Gyan_Dariyo_video_34.mp4\n",
            "\n"
          ]
        },
        {
          "output_type": "stream",
          "name": "stderr",
          "text": []
        },
        {
          "output_type": "stream",
          "name": "stdout",
          "text": [
            "Moviepy - Done !\n",
            "Moviepy - video ready Gyan_Dariyo_video_34.mp4\n",
            "Video 34 created: Gyan_Dariyo_video_34.mp4\n",
            "Moviepy - Building video Gyan_Dariyo_video_35.mp4.\n",
            "MoviePy - Writing audio in Gyan_Dariyo_video_35TEMP_MPY_wvf_snd.mp4\n"
          ]
        },
        {
          "output_type": "stream",
          "name": "stderr",
          "text": []
        },
        {
          "output_type": "stream",
          "name": "stdout",
          "text": [
            "MoviePy - Done.\n",
            "Moviepy - Writing video Gyan_Dariyo_video_35.mp4\n",
            "\n"
          ]
        },
        {
          "output_type": "stream",
          "name": "stderr",
          "text": []
        },
        {
          "output_type": "stream",
          "name": "stdout",
          "text": [
            "Moviepy - Done !\n",
            "Moviepy - video ready Gyan_Dariyo_video_35.mp4\n",
            "Video 35 created: Gyan_Dariyo_video_35.mp4\n",
            "Moviepy - Building video Gyan_Dariyo_video_36.mp4.\n",
            "MoviePy - Writing audio in Gyan_Dariyo_video_36TEMP_MPY_wvf_snd.mp4\n"
          ]
        },
        {
          "output_type": "stream",
          "name": "stderr",
          "text": []
        },
        {
          "output_type": "stream",
          "name": "stdout",
          "text": [
            "MoviePy - Done.\n",
            "Moviepy - Writing video Gyan_Dariyo_video_36.mp4\n",
            "\n"
          ]
        },
        {
          "output_type": "stream",
          "name": "stderr",
          "text": []
        },
        {
          "output_type": "stream",
          "name": "stdout",
          "text": [
            "Moviepy - Done !\n",
            "Moviepy - video ready Gyan_Dariyo_video_36.mp4\n",
            "Video 36 created: Gyan_Dariyo_video_36.mp4\n",
            "Moviepy - Building video Gyan_Dariyo_video_37.mp4.\n",
            "MoviePy - Writing audio in Gyan_Dariyo_video_37TEMP_MPY_wvf_snd.mp4\n"
          ]
        },
        {
          "output_type": "stream",
          "name": "stderr",
          "text": []
        },
        {
          "output_type": "stream",
          "name": "stdout",
          "text": [
            "MoviePy - Done.\n",
            "Moviepy - Writing video Gyan_Dariyo_video_37.mp4\n",
            "\n"
          ]
        },
        {
          "output_type": "stream",
          "name": "stderr",
          "text": []
        },
        {
          "output_type": "stream",
          "name": "stdout",
          "text": [
            "Moviepy - Done !\n",
            "Moviepy - video ready Gyan_Dariyo_video_37.mp4\n",
            "Video 37 created: Gyan_Dariyo_video_37.mp4\n",
            "Moviepy - Building video Gyan_Dariyo_video_38.mp4.\n",
            "MoviePy - Writing audio in Gyan_Dariyo_video_38TEMP_MPY_wvf_snd.mp4\n"
          ]
        },
        {
          "output_type": "stream",
          "name": "stderr",
          "text": []
        },
        {
          "output_type": "stream",
          "name": "stdout",
          "text": [
            "MoviePy - Done.\n",
            "Moviepy - Writing video Gyan_Dariyo_video_38.mp4\n",
            "\n"
          ]
        },
        {
          "output_type": "stream",
          "name": "stderr",
          "text": []
        },
        {
          "output_type": "stream",
          "name": "stdout",
          "text": [
            "Moviepy - Done !\n",
            "Moviepy - video ready Gyan_Dariyo_video_38.mp4\n",
            "Video 38 created: Gyan_Dariyo_video_38.mp4\n",
            "Moviepy - Building video Gyan_Dariyo_video_39.mp4.\n",
            "MoviePy - Writing audio in Gyan_Dariyo_video_39TEMP_MPY_wvf_snd.mp4\n"
          ]
        },
        {
          "output_type": "stream",
          "name": "stderr",
          "text": []
        },
        {
          "output_type": "stream",
          "name": "stdout",
          "text": [
            "MoviePy - Done.\n",
            "Moviepy - Writing video Gyan_Dariyo_video_39.mp4\n",
            "\n"
          ]
        },
        {
          "output_type": "stream",
          "name": "stderr",
          "text": []
        },
        {
          "output_type": "stream",
          "name": "stdout",
          "text": [
            "Moviepy - Done !\n",
            "Moviepy - video ready Gyan_Dariyo_video_39.mp4\n",
            "Video 39 created: Gyan_Dariyo_video_39.mp4\n",
            "Moviepy - Building video Gyan_Dariyo_video_40.mp4.\n",
            "MoviePy - Writing audio in Gyan_Dariyo_video_40TEMP_MPY_wvf_snd.mp4\n"
          ]
        },
        {
          "output_type": "stream",
          "name": "stderr",
          "text": []
        },
        {
          "output_type": "stream",
          "name": "stdout",
          "text": [
            "MoviePy - Done.\n",
            "Moviepy - Writing video Gyan_Dariyo_video_40.mp4\n",
            "\n"
          ]
        },
        {
          "output_type": "stream",
          "name": "stderr",
          "text": []
        },
        {
          "output_type": "stream",
          "name": "stdout",
          "text": [
            "Moviepy - Done !\n",
            "Moviepy - video ready Gyan_Dariyo_video_40.mp4\n",
            "Video 40 created: Gyan_Dariyo_video_40.mp4\n",
            "Moviepy - Building video Gyan_Dariyo_video_41.mp4.\n",
            "MoviePy - Writing audio in Gyan_Dariyo_video_41TEMP_MPY_wvf_snd.mp4\n"
          ]
        },
        {
          "output_type": "stream",
          "name": "stderr",
          "text": []
        },
        {
          "output_type": "stream",
          "name": "stdout",
          "text": [
            "MoviePy - Done.\n",
            "Moviepy - Writing video Gyan_Dariyo_video_41.mp4\n",
            "\n"
          ]
        },
        {
          "output_type": "stream",
          "name": "stderr",
          "text": []
        },
        {
          "output_type": "stream",
          "name": "stdout",
          "text": [
            "Moviepy - Done !\n",
            "Moviepy - video ready Gyan_Dariyo_video_41.mp4\n",
            "Video 41 created: Gyan_Dariyo_video_41.mp4\n",
            "Moviepy - Building video Gyan_Dariyo_video_42.mp4.\n",
            "MoviePy - Writing audio in Gyan_Dariyo_video_42TEMP_MPY_wvf_snd.mp4\n"
          ]
        },
        {
          "output_type": "stream",
          "name": "stderr",
          "text": []
        },
        {
          "output_type": "stream",
          "name": "stdout",
          "text": [
            "MoviePy - Done.\n",
            "Moviepy - Writing video Gyan_Dariyo_video_42.mp4\n",
            "\n"
          ]
        },
        {
          "output_type": "stream",
          "name": "stderr",
          "text": []
        },
        {
          "output_type": "stream",
          "name": "stdout",
          "text": [
            "Moviepy - Done !\n",
            "Moviepy - video ready Gyan_Dariyo_video_42.mp4\n",
            "Video 42 created: Gyan_Dariyo_video_42.mp4\n",
            "Moviepy - Building video Gyan_Dariyo_video_43.mp4.\n",
            "MoviePy - Writing audio in Gyan_Dariyo_video_43TEMP_MPY_wvf_snd.mp4\n"
          ]
        },
        {
          "output_type": "stream",
          "name": "stderr",
          "text": []
        },
        {
          "output_type": "stream",
          "name": "stdout",
          "text": [
            "MoviePy - Done.\n",
            "Moviepy - Writing video Gyan_Dariyo_video_43.mp4\n",
            "\n"
          ]
        },
        {
          "output_type": "stream",
          "name": "stderr",
          "text": []
        },
        {
          "output_type": "stream",
          "name": "stdout",
          "text": [
            "Moviepy - Done !\n",
            "Moviepy - video ready Gyan_Dariyo_video_43.mp4\n",
            "Video 43 created: Gyan_Dariyo_video_43.mp4\n",
            "Moviepy - Building video Gyan_Dariyo_video_44.mp4.\n",
            "MoviePy - Writing audio in Gyan_Dariyo_video_44TEMP_MPY_wvf_snd.mp4\n"
          ]
        },
        {
          "output_type": "stream",
          "name": "stderr",
          "text": []
        },
        {
          "output_type": "stream",
          "name": "stdout",
          "text": [
            "MoviePy - Done.\n",
            "Moviepy - Writing video Gyan_Dariyo_video_44.mp4\n",
            "\n"
          ]
        },
        {
          "output_type": "stream",
          "name": "stderr",
          "text": []
        },
        {
          "output_type": "stream",
          "name": "stdout",
          "text": [
            "Moviepy - Done !\n",
            "Moviepy - video ready Gyan_Dariyo_video_44.mp4\n",
            "Video 44 created: Gyan_Dariyo_video_44.mp4\n",
            "Moviepy - Building video Gyan_Dariyo_video_45.mp4.\n",
            "MoviePy - Writing audio in Gyan_Dariyo_video_45TEMP_MPY_wvf_snd.mp4\n"
          ]
        },
        {
          "output_type": "stream",
          "name": "stderr",
          "text": []
        },
        {
          "output_type": "stream",
          "name": "stdout",
          "text": [
            "MoviePy - Done.\n",
            "Moviepy - Writing video Gyan_Dariyo_video_45.mp4\n",
            "\n"
          ]
        },
        {
          "output_type": "stream",
          "name": "stderr",
          "text": []
        },
        {
          "output_type": "stream",
          "name": "stdout",
          "text": [
            "Moviepy - Done !\n",
            "Moviepy - video ready Gyan_Dariyo_video_45.mp4\n",
            "Video 45 created: Gyan_Dariyo_video_45.mp4\n",
            "Moviepy - Building video Gyan_Dariyo_video_46.mp4.\n",
            "MoviePy - Writing audio in Gyan_Dariyo_video_46TEMP_MPY_wvf_snd.mp4\n"
          ]
        },
        {
          "output_type": "stream",
          "name": "stderr",
          "text": []
        },
        {
          "output_type": "stream",
          "name": "stdout",
          "text": [
            "MoviePy - Done.\n",
            "Moviepy - Writing video Gyan_Dariyo_video_46.mp4\n",
            "\n"
          ]
        },
        {
          "output_type": "stream",
          "name": "stderr",
          "text": []
        },
        {
          "output_type": "stream",
          "name": "stdout",
          "text": [
            "Moviepy - Done !\n",
            "Moviepy - video ready Gyan_Dariyo_video_46.mp4\n",
            "Video 46 created: Gyan_Dariyo_video_46.mp4\n",
            "Moviepy - Building video Gyan_Dariyo_video_47.mp4.\n",
            "MoviePy - Writing audio in Gyan_Dariyo_video_47TEMP_MPY_wvf_snd.mp4\n"
          ]
        },
        {
          "output_type": "stream",
          "name": "stderr",
          "text": []
        },
        {
          "output_type": "stream",
          "name": "stdout",
          "text": [
            "MoviePy - Done.\n",
            "Moviepy - Writing video Gyan_Dariyo_video_47.mp4\n",
            "\n"
          ]
        },
        {
          "output_type": "stream",
          "name": "stderr",
          "text": []
        },
        {
          "output_type": "stream",
          "name": "stdout",
          "text": [
            "Moviepy - Done !\n",
            "Moviepy - video ready Gyan_Dariyo_video_47.mp4\n",
            "Video 47 created: Gyan_Dariyo_video_47.mp4\n",
            "Moviepy - Building video Gyan_Dariyo_video_48.mp4.\n",
            "MoviePy - Writing audio in Gyan_Dariyo_video_48TEMP_MPY_wvf_snd.mp4\n"
          ]
        },
        {
          "output_type": "stream",
          "name": "stderr",
          "text": []
        },
        {
          "output_type": "stream",
          "name": "stdout",
          "text": [
            "MoviePy - Done.\n",
            "Moviepy - Writing video Gyan_Dariyo_video_48.mp4\n",
            "\n"
          ]
        },
        {
          "output_type": "stream",
          "name": "stderr",
          "text": []
        },
        {
          "output_type": "stream",
          "name": "stdout",
          "text": [
            "Moviepy - Done !\n",
            "Moviepy - video ready Gyan_Dariyo_video_48.mp4\n",
            "Video 48 created: Gyan_Dariyo_video_48.mp4\n",
            "Moviepy - Building video Gyan_Dariyo_video_49.mp4.\n",
            "MoviePy - Writing audio in Gyan_Dariyo_video_49TEMP_MPY_wvf_snd.mp4\n"
          ]
        },
        {
          "output_type": "stream",
          "name": "stderr",
          "text": []
        },
        {
          "output_type": "stream",
          "name": "stdout",
          "text": [
            "MoviePy - Done.\n",
            "Moviepy - Writing video Gyan_Dariyo_video_49.mp4\n",
            "\n"
          ]
        },
        {
          "output_type": "stream",
          "name": "stderr",
          "text": []
        },
        {
          "output_type": "stream",
          "name": "stdout",
          "text": [
            "Moviepy - Done !\n",
            "Moviepy - video ready Gyan_Dariyo_video_49.mp4\n",
            "Video 49 created: Gyan_Dariyo_video_49.mp4\n",
            "Moviepy - Building video Gyan_Dariyo_video_50.mp4.\n",
            "MoviePy - Writing audio in Gyan_Dariyo_video_50TEMP_MPY_wvf_snd.mp4\n"
          ]
        },
        {
          "output_type": "stream",
          "name": "stderr",
          "text": []
        },
        {
          "output_type": "stream",
          "name": "stdout",
          "text": [
            "MoviePy - Done.\n",
            "Moviepy - Writing video Gyan_Dariyo_video_50.mp4\n",
            "\n"
          ]
        },
        {
          "output_type": "stream",
          "name": "stderr",
          "text": []
        },
        {
          "output_type": "stream",
          "name": "stdout",
          "text": [
            "Moviepy - Done !\n",
            "Moviepy - video ready Gyan_Dariyo_video_50.mp4\n",
            "Video 50 created: Gyan_Dariyo_video_50.mp4\n",
            "Moviepy - Building video Gyan_Dariyo_video_51.mp4.\n",
            "MoviePy - Writing audio in Gyan_Dariyo_video_51TEMP_MPY_wvf_snd.mp4\n"
          ]
        },
        {
          "output_type": "stream",
          "name": "stderr",
          "text": []
        },
        {
          "output_type": "stream",
          "name": "stdout",
          "text": [
            "MoviePy - Done.\n",
            "Moviepy - Writing video Gyan_Dariyo_video_51.mp4\n",
            "\n"
          ]
        },
        {
          "output_type": "stream",
          "name": "stderr",
          "text": []
        },
        {
          "output_type": "stream",
          "name": "stdout",
          "text": [
            "Moviepy - Done !\n",
            "Moviepy - video ready Gyan_Dariyo_video_51.mp4\n",
            "Video 51 created: Gyan_Dariyo_video_51.mp4\n",
            "Moviepy - Building video Gyan_Dariyo_video_52.mp4.\n",
            "MoviePy - Writing audio in Gyan_Dariyo_video_52TEMP_MPY_wvf_snd.mp4\n"
          ]
        },
        {
          "output_type": "stream",
          "name": "stderr",
          "text": []
        },
        {
          "output_type": "stream",
          "name": "stdout",
          "text": [
            "MoviePy - Done.\n",
            "Moviepy - Writing video Gyan_Dariyo_video_52.mp4\n",
            "\n"
          ]
        },
        {
          "output_type": "stream",
          "name": "stderr",
          "text": []
        },
        {
          "output_type": "stream",
          "name": "stdout",
          "text": [
            "Moviepy - Done !\n",
            "Moviepy - video ready Gyan_Dariyo_video_52.mp4\n",
            "Video 52 created: Gyan_Dariyo_video_52.mp4\n",
            "Moviepy - Building video Gyan_Dariyo_video_53.mp4.\n",
            "MoviePy - Writing audio in Gyan_Dariyo_video_53TEMP_MPY_wvf_snd.mp4\n"
          ]
        },
        {
          "output_type": "stream",
          "name": "stderr",
          "text": []
        },
        {
          "output_type": "stream",
          "name": "stdout",
          "text": [
            "MoviePy - Done.\n",
            "Moviepy - Writing video Gyan_Dariyo_video_53.mp4\n",
            "\n"
          ]
        },
        {
          "output_type": "stream",
          "name": "stderr",
          "text": []
        },
        {
          "output_type": "stream",
          "name": "stdout",
          "text": [
            "Moviepy - Done !\n",
            "Moviepy - video ready Gyan_Dariyo_video_53.mp4\n",
            "Video 53 created: Gyan_Dariyo_video_53.mp4\n",
            "Moviepy - Building video Gyan_Dariyo_video_54.mp4.\n",
            "MoviePy - Writing audio in Gyan_Dariyo_video_54TEMP_MPY_wvf_snd.mp4\n"
          ]
        },
        {
          "output_type": "stream",
          "name": "stderr",
          "text": []
        },
        {
          "output_type": "stream",
          "name": "stdout",
          "text": [
            "MoviePy - Done.\n",
            "Moviepy - Writing video Gyan_Dariyo_video_54.mp4\n",
            "\n"
          ]
        },
        {
          "output_type": "stream",
          "name": "stderr",
          "text": []
        },
        {
          "output_type": "stream",
          "name": "stdout",
          "text": [
            "Moviepy - Done !\n",
            "Moviepy - video ready Gyan_Dariyo_video_54.mp4\n",
            "Video 54 created: Gyan_Dariyo_video_54.mp4\n",
            "Moviepy - Building video Gyan_Dariyo_video_55.mp4.\n",
            "MoviePy - Writing audio in Gyan_Dariyo_video_55TEMP_MPY_wvf_snd.mp4\n"
          ]
        },
        {
          "output_type": "stream",
          "name": "stderr",
          "text": []
        },
        {
          "output_type": "stream",
          "name": "stdout",
          "text": [
            "MoviePy - Done.\n",
            "Moviepy - Writing video Gyan_Dariyo_video_55.mp4\n",
            "\n"
          ]
        },
        {
          "output_type": "stream",
          "name": "stderr",
          "text": []
        },
        {
          "output_type": "stream",
          "name": "stdout",
          "text": [
            "Moviepy - Done !\n",
            "Moviepy - video ready Gyan_Dariyo_video_55.mp4\n",
            "Video 55 created: Gyan_Dariyo_video_55.mp4\n",
            "Moviepy - Building video Gyan_Dariyo_video_56.mp4.\n",
            "MoviePy - Writing audio in Gyan_Dariyo_video_56TEMP_MPY_wvf_snd.mp4\n"
          ]
        },
        {
          "output_type": "stream",
          "name": "stderr",
          "text": []
        },
        {
          "output_type": "stream",
          "name": "stdout",
          "text": [
            "MoviePy - Done.\n",
            "Moviepy - Writing video Gyan_Dariyo_video_56.mp4\n",
            "\n"
          ]
        },
        {
          "output_type": "stream",
          "name": "stderr",
          "text": []
        },
        {
          "output_type": "stream",
          "name": "stdout",
          "text": [
            "Moviepy - Done !\n",
            "Moviepy - video ready Gyan_Dariyo_video_56.mp4\n",
            "Video 56 created: Gyan_Dariyo_video_56.mp4\n",
            "Moviepy - Building video Gyan_Dariyo_video_57.mp4.\n",
            "MoviePy - Writing audio in Gyan_Dariyo_video_57TEMP_MPY_wvf_snd.mp4\n"
          ]
        },
        {
          "output_type": "stream",
          "name": "stderr",
          "text": []
        },
        {
          "output_type": "stream",
          "name": "stdout",
          "text": [
            "MoviePy - Done.\n",
            "Moviepy - Writing video Gyan_Dariyo_video_57.mp4\n",
            "\n"
          ]
        },
        {
          "output_type": "stream",
          "name": "stderr",
          "text": []
        },
        {
          "output_type": "stream",
          "name": "stdout",
          "text": [
            "Moviepy - Done !\n",
            "Moviepy - video ready Gyan_Dariyo_video_57.mp4\n",
            "Video 57 created: Gyan_Dariyo_video_57.mp4\n",
            "Moviepy - Building video Gyan_Dariyo_video_58.mp4.\n",
            "MoviePy - Writing audio in Gyan_Dariyo_video_58TEMP_MPY_wvf_snd.mp4\n"
          ]
        },
        {
          "output_type": "stream",
          "name": "stderr",
          "text": []
        },
        {
          "output_type": "stream",
          "name": "stdout",
          "text": [
            "MoviePy - Done.\n",
            "Moviepy - Writing video Gyan_Dariyo_video_58.mp4\n",
            "\n"
          ]
        },
        {
          "output_type": "stream",
          "name": "stderr",
          "text": []
        },
        {
          "output_type": "stream",
          "name": "stdout",
          "text": [
            "Moviepy - Done !\n",
            "Moviepy - video ready Gyan_Dariyo_video_58.mp4\n",
            "Video 58 created: Gyan_Dariyo_video_58.mp4\n",
            "Moviepy - Building video Gyan_Dariyo_video_59.mp4.\n",
            "MoviePy - Writing audio in Gyan_Dariyo_video_59TEMP_MPY_wvf_snd.mp4\n"
          ]
        },
        {
          "output_type": "stream",
          "name": "stderr",
          "text": []
        },
        {
          "output_type": "stream",
          "name": "stdout",
          "text": [
            "MoviePy - Done.\n",
            "Moviepy - Writing video Gyan_Dariyo_video_59.mp4\n",
            "\n"
          ]
        },
        {
          "output_type": "stream",
          "name": "stderr",
          "text": []
        },
        {
          "output_type": "stream",
          "name": "stdout",
          "text": [
            "Moviepy - Done !\n",
            "Moviepy - video ready Gyan_Dariyo_video_59.mp4\n",
            "Video 59 created: Gyan_Dariyo_video_59.mp4\n",
            "Moviepy - Building video Gyan_Dariyo_video_60.mp4.\n",
            "MoviePy - Writing audio in Gyan_Dariyo_video_60TEMP_MPY_wvf_snd.mp4\n"
          ]
        },
        {
          "output_type": "stream",
          "name": "stderr",
          "text": []
        },
        {
          "output_type": "stream",
          "name": "stdout",
          "text": [
            "MoviePy - Done.\n",
            "Moviepy - Writing video Gyan_Dariyo_video_60.mp4\n",
            "\n"
          ]
        },
        {
          "output_type": "stream",
          "name": "stderr",
          "text": []
        },
        {
          "output_type": "stream",
          "name": "stdout",
          "text": [
            "Moviepy - Done !\n",
            "Moviepy - video ready Gyan_Dariyo_video_60.mp4\n",
            "Video 60 created: Gyan_Dariyo_video_60.mp4\n",
            "Moviepy - Building video Gyan_Dariyo_video_61.mp4.\n",
            "MoviePy - Writing audio in Gyan_Dariyo_video_61TEMP_MPY_wvf_snd.mp4\n"
          ]
        },
        {
          "output_type": "stream",
          "name": "stderr",
          "text": []
        },
        {
          "output_type": "stream",
          "name": "stdout",
          "text": [
            "MoviePy - Done.\n",
            "Moviepy - Writing video Gyan_Dariyo_video_61.mp4\n",
            "\n"
          ]
        },
        {
          "output_type": "stream",
          "name": "stderr",
          "text": []
        },
        {
          "output_type": "stream",
          "name": "stdout",
          "text": [
            "Moviepy - Done !\n",
            "Moviepy - video ready Gyan_Dariyo_video_61.mp4\n",
            "Video 61 created: Gyan_Dariyo_video_61.mp4\n",
            "Moviepy - Building video Gyan_Dariyo_video_62.mp4.\n",
            "MoviePy - Writing audio in Gyan_Dariyo_video_62TEMP_MPY_wvf_snd.mp4\n"
          ]
        },
        {
          "output_type": "stream",
          "name": "stderr",
          "text": []
        },
        {
          "output_type": "stream",
          "name": "stdout",
          "text": [
            "MoviePy - Done.\n",
            "Moviepy - Writing video Gyan_Dariyo_video_62.mp4\n",
            "\n"
          ]
        },
        {
          "output_type": "stream",
          "name": "stderr",
          "text": []
        },
        {
          "output_type": "stream",
          "name": "stdout",
          "text": [
            "Moviepy - Done !\n",
            "Moviepy - video ready Gyan_Dariyo_video_62.mp4\n",
            "Video 62 created: Gyan_Dariyo_video_62.mp4\n",
            "Moviepy - Building video Gyan_Dariyo_video_63.mp4.\n",
            "MoviePy - Writing audio in Gyan_Dariyo_video_63TEMP_MPY_wvf_snd.mp4\n"
          ]
        },
        {
          "output_type": "stream",
          "name": "stderr",
          "text": []
        },
        {
          "output_type": "stream",
          "name": "stdout",
          "text": [
            "MoviePy - Done.\n",
            "Moviepy - Writing video Gyan_Dariyo_video_63.mp4\n",
            "\n"
          ]
        },
        {
          "output_type": "stream",
          "name": "stderr",
          "text": []
        },
        {
          "output_type": "stream",
          "name": "stdout",
          "text": [
            "Moviepy - Done !\n",
            "Moviepy - video ready Gyan_Dariyo_video_63.mp4\n",
            "Video 63 created: Gyan_Dariyo_video_63.mp4\n",
            "Moviepy - Building video Gyan_Dariyo_video_64.mp4.\n",
            "MoviePy - Writing audio in Gyan_Dariyo_video_64TEMP_MPY_wvf_snd.mp4\n"
          ]
        },
        {
          "output_type": "stream",
          "name": "stderr",
          "text": []
        },
        {
          "output_type": "stream",
          "name": "stdout",
          "text": [
            "MoviePy - Done.\n",
            "Moviepy - Writing video Gyan_Dariyo_video_64.mp4\n",
            "\n"
          ]
        },
        {
          "output_type": "stream",
          "name": "stderr",
          "text": []
        },
        {
          "output_type": "stream",
          "name": "stdout",
          "text": [
            "Moviepy - Done !\n",
            "Moviepy - video ready Gyan_Dariyo_video_64.mp4\n",
            "Video 64 created: Gyan_Dariyo_video_64.mp4\n",
            "Moviepy - Building video Gyan_Dariyo_video_65.mp4.\n",
            "MoviePy - Writing audio in Gyan_Dariyo_video_65TEMP_MPY_wvf_snd.mp4\n"
          ]
        },
        {
          "output_type": "stream",
          "name": "stderr",
          "text": []
        },
        {
          "output_type": "stream",
          "name": "stdout",
          "text": [
            "MoviePy - Done.\n",
            "Moviepy - Writing video Gyan_Dariyo_video_65.mp4\n",
            "\n"
          ]
        },
        {
          "output_type": "stream",
          "name": "stderr",
          "text": []
        },
        {
          "output_type": "stream",
          "name": "stdout",
          "text": [
            "Moviepy - Done !\n",
            "Moviepy - video ready Gyan_Dariyo_video_65.mp4\n",
            "Video 65 created: Gyan_Dariyo_video_65.mp4\n",
            "Moviepy - Building video Gyan_Dariyo_video_66.mp4.\n",
            "MoviePy - Writing audio in Gyan_Dariyo_video_66TEMP_MPY_wvf_snd.mp4\n"
          ]
        },
        {
          "output_type": "stream",
          "name": "stderr",
          "text": []
        },
        {
          "output_type": "stream",
          "name": "stdout",
          "text": [
            "MoviePy - Done.\n",
            "Moviepy - Writing video Gyan_Dariyo_video_66.mp4\n",
            "\n"
          ]
        },
        {
          "output_type": "stream",
          "name": "stderr",
          "text": []
        },
        {
          "output_type": "stream",
          "name": "stdout",
          "text": [
            "Moviepy - Done !\n",
            "Moviepy - video ready Gyan_Dariyo_video_66.mp4\n",
            "Video 66 created: Gyan_Dariyo_video_66.mp4\n",
            "Moviepy - Building video Gyan_Dariyo_video_67.mp4.\n",
            "MoviePy - Writing audio in Gyan_Dariyo_video_67TEMP_MPY_wvf_snd.mp4\n"
          ]
        },
        {
          "output_type": "stream",
          "name": "stderr",
          "text": []
        },
        {
          "output_type": "stream",
          "name": "stdout",
          "text": [
            "MoviePy - Done.\n",
            "Moviepy - Writing video Gyan_Dariyo_video_67.mp4\n",
            "\n"
          ]
        },
        {
          "output_type": "stream",
          "name": "stderr",
          "text": []
        },
        {
          "output_type": "stream",
          "name": "stdout",
          "text": [
            "Moviepy - Done !\n",
            "Moviepy - video ready Gyan_Dariyo_video_67.mp4\n",
            "Video 67 created: Gyan_Dariyo_video_67.mp4\n",
            "Moviepy - Building video Gyan_Dariyo_video_68.mp4.\n",
            "MoviePy - Writing audio in Gyan_Dariyo_video_68TEMP_MPY_wvf_snd.mp4\n"
          ]
        },
        {
          "output_type": "stream",
          "name": "stderr",
          "text": []
        },
        {
          "output_type": "stream",
          "name": "stdout",
          "text": [
            "MoviePy - Done.\n",
            "Moviepy - Writing video Gyan_Dariyo_video_68.mp4\n",
            "\n"
          ]
        },
        {
          "output_type": "stream",
          "name": "stderr",
          "text": []
        },
        {
          "output_type": "stream",
          "name": "stdout",
          "text": [
            "Moviepy - Done !\n",
            "Moviepy - video ready Gyan_Dariyo_video_68.mp4\n",
            "Video 68 created: Gyan_Dariyo_video_68.mp4\n",
            "Moviepy - Building video Gyan_Dariyo_video_69.mp4.\n",
            "MoviePy - Writing audio in Gyan_Dariyo_video_69TEMP_MPY_wvf_snd.mp4\n"
          ]
        },
        {
          "output_type": "stream",
          "name": "stderr",
          "text": []
        },
        {
          "output_type": "stream",
          "name": "stdout",
          "text": [
            "MoviePy - Done.\n",
            "Moviepy - Writing video Gyan_Dariyo_video_69.mp4\n",
            "\n"
          ]
        },
        {
          "output_type": "stream",
          "name": "stderr",
          "text": []
        },
        {
          "output_type": "stream",
          "name": "stdout",
          "text": [
            "Moviepy - Done !\n",
            "Moviepy - video ready Gyan_Dariyo_video_69.mp4\n",
            "Video 69 created: Gyan_Dariyo_video_69.mp4\n",
            "Moviepy - Building video Gyan_Dariyo_video_70.mp4.\n",
            "MoviePy - Writing audio in Gyan_Dariyo_video_70TEMP_MPY_wvf_snd.mp4\n"
          ]
        },
        {
          "output_type": "stream",
          "name": "stderr",
          "text": []
        },
        {
          "output_type": "stream",
          "name": "stdout",
          "text": [
            "MoviePy - Done.\n",
            "Moviepy - Writing video Gyan_Dariyo_video_70.mp4\n",
            "\n"
          ]
        },
        {
          "output_type": "stream",
          "name": "stderr",
          "text": []
        },
        {
          "output_type": "stream",
          "name": "stdout",
          "text": [
            "Moviepy - Done !\n",
            "Moviepy - video ready Gyan_Dariyo_video_70.mp4\n",
            "Video 70 created: Gyan_Dariyo_video_70.mp4\n",
            "Moviepy - Building video Gyan_Dariyo_video_71.mp4.\n",
            "MoviePy - Writing audio in Gyan_Dariyo_video_71TEMP_MPY_wvf_snd.mp4\n"
          ]
        },
        {
          "output_type": "stream",
          "name": "stderr",
          "text": []
        },
        {
          "output_type": "stream",
          "name": "stdout",
          "text": [
            "MoviePy - Done.\n",
            "Moviepy - Writing video Gyan_Dariyo_video_71.mp4\n",
            "\n"
          ]
        },
        {
          "output_type": "stream",
          "name": "stderr",
          "text": []
        },
        {
          "output_type": "stream",
          "name": "stdout",
          "text": [
            "Moviepy - Done !\n",
            "Moviepy - video ready Gyan_Dariyo_video_71.mp4\n",
            "Video 71 created: Gyan_Dariyo_video_71.mp4\n",
            "Moviepy - Building video Gyan_Dariyo_video_72.mp4.\n",
            "MoviePy - Writing audio in Gyan_Dariyo_video_72TEMP_MPY_wvf_snd.mp4\n"
          ]
        },
        {
          "output_type": "stream",
          "name": "stderr",
          "text": []
        },
        {
          "output_type": "stream",
          "name": "stdout",
          "text": [
            "MoviePy - Done.\n",
            "Moviepy - Writing video Gyan_Dariyo_video_72.mp4\n",
            "\n"
          ]
        },
        {
          "output_type": "stream",
          "name": "stderr",
          "text": []
        },
        {
          "output_type": "stream",
          "name": "stdout",
          "text": [
            "Moviepy - Done !\n",
            "Moviepy - video ready Gyan_Dariyo_video_72.mp4\n",
            "Video 72 created: Gyan_Dariyo_video_72.mp4\n",
            "Moviepy - Building video Gyan_Dariyo_video_73.mp4.\n",
            "MoviePy - Writing audio in Gyan_Dariyo_video_73TEMP_MPY_wvf_snd.mp4\n"
          ]
        },
        {
          "output_type": "stream",
          "name": "stderr",
          "text": []
        },
        {
          "output_type": "stream",
          "name": "stdout",
          "text": [
            "MoviePy - Done.\n",
            "Moviepy - Writing video Gyan_Dariyo_video_73.mp4\n",
            "\n"
          ]
        },
        {
          "output_type": "stream",
          "name": "stderr",
          "text": []
        },
        {
          "output_type": "stream",
          "name": "stdout",
          "text": [
            "Moviepy - Done !\n",
            "Moviepy - video ready Gyan_Dariyo_video_73.mp4\n",
            "Video 73 created: Gyan_Dariyo_video_73.mp4\n",
            "Moviepy - Building video Gyan_Dariyo_video_74.mp4.\n",
            "MoviePy - Writing audio in Gyan_Dariyo_video_74TEMP_MPY_wvf_snd.mp4\n"
          ]
        },
        {
          "output_type": "stream",
          "name": "stderr",
          "text": []
        },
        {
          "output_type": "stream",
          "name": "stdout",
          "text": [
            "MoviePy - Done.\n",
            "Moviepy - Writing video Gyan_Dariyo_video_74.mp4\n",
            "\n"
          ]
        },
        {
          "output_type": "stream",
          "name": "stderr",
          "text": []
        },
        {
          "output_type": "stream",
          "name": "stdout",
          "text": [
            "Moviepy - Done !\n",
            "Moviepy - video ready Gyan_Dariyo_video_74.mp4\n",
            "Video 74 created: Gyan_Dariyo_video_74.mp4\n",
            "Moviepy - Building video Gyan_Dariyo_video_75.mp4.\n",
            "MoviePy - Writing audio in Gyan_Dariyo_video_75TEMP_MPY_wvf_snd.mp4\n"
          ]
        },
        {
          "output_type": "stream",
          "name": "stderr",
          "text": []
        },
        {
          "output_type": "stream",
          "name": "stdout",
          "text": [
            "MoviePy - Done.\n",
            "Moviepy - Writing video Gyan_Dariyo_video_75.mp4\n",
            "\n"
          ]
        },
        {
          "output_type": "stream",
          "name": "stderr",
          "text": []
        },
        {
          "output_type": "stream",
          "name": "stdout",
          "text": [
            "Moviepy - Done !\n",
            "Moviepy - video ready Gyan_Dariyo_video_75.mp4\n",
            "Video 75 created: Gyan_Dariyo_video_75.mp4\n",
            "Moviepy - Building video Gyan_Dariyo_video_76.mp4.\n",
            "MoviePy - Writing audio in Gyan_Dariyo_video_76TEMP_MPY_wvf_snd.mp4\n"
          ]
        },
        {
          "output_type": "stream",
          "name": "stderr",
          "text": []
        },
        {
          "output_type": "stream",
          "name": "stdout",
          "text": [
            "MoviePy - Done.\n",
            "Moviepy - Writing video Gyan_Dariyo_video_76.mp4\n",
            "\n"
          ]
        },
        {
          "output_type": "stream",
          "name": "stderr",
          "text": []
        },
        {
          "output_type": "stream",
          "name": "stdout",
          "text": [
            "Moviepy - Done !\n",
            "Moviepy - video ready Gyan_Dariyo_video_76.mp4\n",
            "Video 76 created: Gyan_Dariyo_video_76.mp4\n",
            "Moviepy - Building video Gyan_Dariyo_video_77.mp4.\n",
            "MoviePy - Writing audio in Gyan_Dariyo_video_77TEMP_MPY_wvf_snd.mp4\n"
          ]
        },
        {
          "output_type": "stream",
          "name": "stderr",
          "text": []
        },
        {
          "output_type": "stream",
          "name": "stdout",
          "text": [
            "MoviePy - Done.\n",
            "Moviepy - Writing video Gyan_Dariyo_video_77.mp4\n",
            "\n"
          ]
        },
        {
          "output_type": "stream",
          "name": "stderr",
          "text": []
        },
        {
          "output_type": "stream",
          "name": "stdout",
          "text": [
            "Moviepy - Done !\n",
            "Moviepy - video ready Gyan_Dariyo_video_77.mp4\n",
            "Video 77 created: Gyan_Dariyo_video_77.mp4\n",
            "Moviepy - Building video Gyan_Dariyo_video_78.mp4.\n",
            "MoviePy - Writing audio in Gyan_Dariyo_video_78TEMP_MPY_wvf_snd.mp4\n"
          ]
        },
        {
          "output_type": "stream",
          "name": "stderr",
          "text": []
        },
        {
          "output_type": "stream",
          "name": "stdout",
          "text": [
            "MoviePy - Done.\n",
            "Moviepy - Writing video Gyan_Dariyo_video_78.mp4\n",
            "\n"
          ]
        },
        {
          "output_type": "stream",
          "name": "stderr",
          "text": []
        },
        {
          "output_type": "stream",
          "name": "stdout",
          "text": [
            "Moviepy - Done !\n",
            "Moviepy - video ready Gyan_Dariyo_video_78.mp4\n",
            "Video 78 created: Gyan_Dariyo_video_78.mp4\n",
            "Moviepy - Building video Gyan_Dariyo_video_79.mp4.\n",
            "MoviePy - Writing audio in Gyan_Dariyo_video_79TEMP_MPY_wvf_snd.mp4\n"
          ]
        },
        {
          "output_type": "stream",
          "name": "stderr",
          "text": []
        },
        {
          "output_type": "stream",
          "name": "stdout",
          "text": [
            "MoviePy - Done.\n",
            "Moviepy - Writing video Gyan_Dariyo_video_79.mp4\n",
            "\n"
          ]
        },
        {
          "output_type": "stream",
          "name": "stderr",
          "text": []
        },
        {
          "output_type": "stream",
          "name": "stdout",
          "text": [
            "Moviepy - Done !\n",
            "Moviepy - video ready Gyan_Dariyo_video_79.mp4\n",
            "Video 79 created: Gyan_Dariyo_video_79.mp4\n",
            "Moviepy - Building video Gyan_Dariyo_video_80.mp4.\n",
            "MoviePy - Writing audio in Gyan_Dariyo_video_80TEMP_MPY_wvf_snd.mp4\n"
          ]
        },
        {
          "output_type": "stream",
          "name": "stderr",
          "text": []
        },
        {
          "output_type": "stream",
          "name": "stdout",
          "text": [
            "MoviePy - Done.\n",
            "Moviepy - Writing video Gyan_Dariyo_video_80.mp4\n",
            "\n"
          ]
        },
        {
          "output_type": "stream",
          "name": "stderr",
          "text": []
        },
        {
          "output_type": "stream",
          "name": "stdout",
          "text": [
            "Moviepy - Done !\n",
            "Moviepy - video ready Gyan_Dariyo_video_80.mp4\n",
            "Video 80 created: Gyan_Dariyo_video_80.mp4\n",
            "Moviepy - Building video Gyan_Dariyo_video_81.mp4.\n",
            "MoviePy - Writing audio in Gyan_Dariyo_video_81TEMP_MPY_wvf_snd.mp4\n"
          ]
        },
        {
          "output_type": "stream",
          "name": "stderr",
          "text": []
        },
        {
          "output_type": "stream",
          "name": "stdout",
          "text": [
            "MoviePy - Done.\n",
            "Moviepy - Writing video Gyan_Dariyo_video_81.mp4\n",
            "\n"
          ]
        },
        {
          "output_type": "stream",
          "name": "stderr",
          "text": []
        },
        {
          "output_type": "stream",
          "name": "stdout",
          "text": [
            "Moviepy - Done !\n",
            "Moviepy - video ready Gyan_Dariyo_video_81.mp4\n",
            "Video 81 created: Gyan_Dariyo_video_81.mp4\n",
            "Moviepy - Building video Gyan_Dariyo_video_82.mp4.\n",
            "MoviePy - Writing audio in Gyan_Dariyo_video_82TEMP_MPY_wvf_snd.mp4\n"
          ]
        },
        {
          "output_type": "stream",
          "name": "stderr",
          "text": []
        },
        {
          "output_type": "stream",
          "name": "stdout",
          "text": [
            "MoviePy - Done.\n",
            "Moviepy - Writing video Gyan_Dariyo_video_82.mp4\n",
            "\n"
          ]
        },
        {
          "output_type": "stream",
          "name": "stderr",
          "text": []
        },
        {
          "output_type": "stream",
          "name": "stdout",
          "text": [
            "Moviepy - Done !\n",
            "Moviepy - video ready Gyan_Dariyo_video_82.mp4\n",
            "Video 82 created: Gyan_Dariyo_video_82.mp4\n",
            "Moviepy - Building video Gyan_Dariyo_video_83.mp4.\n",
            "MoviePy - Writing audio in Gyan_Dariyo_video_83TEMP_MPY_wvf_snd.mp4\n"
          ]
        },
        {
          "output_type": "stream",
          "name": "stderr",
          "text": []
        },
        {
          "output_type": "stream",
          "name": "stdout",
          "text": [
            "MoviePy - Done.\n",
            "Moviepy - Writing video Gyan_Dariyo_video_83.mp4\n",
            "\n"
          ]
        },
        {
          "output_type": "stream",
          "name": "stderr",
          "text": []
        },
        {
          "output_type": "stream",
          "name": "stdout",
          "text": [
            "Moviepy - Done !\n",
            "Moviepy - video ready Gyan_Dariyo_video_83.mp4\n",
            "Video 83 created: Gyan_Dariyo_video_83.mp4\n",
            "Moviepy - Building video Gyan_Dariyo_video_84.mp4.\n",
            "MoviePy - Writing audio in Gyan_Dariyo_video_84TEMP_MPY_wvf_snd.mp4\n"
          ]
        },
        {
          "output_type": "stream",
          "name": "stderr",
          "text": []
        },
        {
          "output_type": "stream",
          "name": "stdout",
          "text": [
            "MoviePy - Done.\n",
            "Moviepy - Writing video Gyan_Dariyo_video_84.mp4\n",
            "\n"
          ]
        },
        {
          "output_type": "stream",
          "name": "stderr",
          "text": []
        },
        {
          "output_type": "stream",
          "name": "stdout",
          "text": [
            "Moviepy - Done !\n",
            "Moviepy - video ready Gyan_Dariyo_video_84.mp4\n",
            "Video 84 created: Gyan_Dariyo_video_84.mp4\n",
            "Moviepy - Building video Gyan_Dariyo_video_85.mp4.\n",
            "MoviePy - Writing audio in Gyan_Dariyo_video_85TEMP_MPY_wvf_snd.mp4\n"
          ]
        },
        {
          "output_type": "stream",
          "name": "stderr",
          "text": []
        },
        {
          "output_type": "stream",
          "name": "stdout",
          "text": [
            "MoviePy - Done.\n",
            "Moviepy - Writing video Gyan_Dariyo_video_85.mp4\n",
            "\n"
          ]
        },
        {
          "output_type": "stream",
          "name": "stderr",
          "text": []
        },
        {
          "output_type": "stream",
          "name": "stdout",
          "text": [
            "Moviepy - Done !\n",
            "Moviepy - video ready Gyan_Dariyo_video_85.mp4\n",
            "Video 85 created: Gyan_Dariyo_video_85.mp4\n",
            "Moviepy - Building video Gyan_Dariyo_video_86.mp4.\n",
            "MoviePy - Writing audio in Gyan_Dariyo_video_86TEMP_MPY_wvf_snd.mp4\n"
          ]
        },
        {
          "output_type": "stream",
          "name": "stderr",
          "text": []
        },
        {
          "output_type": "stream",
          "name": "stdout",
          "text": [
            "MoviePy - Done.\n",
            "Moviepy - Writing video Gyan_Dariyo_video_86.mp4\n",
            "\n"
          ]
        },
        {
          "output_type": "stream",
          "name": "stderr",
          "text": []
        },
        {
          "output_type": "stream",
          "name": "stdout",
          "text": [
            "Moviepy - Done !\n",
            "Moviepy - video ready Gyan_Dariyo_video_86.mp4\n",
            "Video 86 created: Gyan_Dariyo_video_86.mp4\n",
            "Moviepy - Building video Gyan_Dariyo_video_87.mp4.\n",
            "MoviePy - Writing audio in Gyan_Dariyo_video_87TEMP_MPY_wvf_snd.mp4\n"
          ]
        },
        {
          "output_type": "stream",
          "name": "stderr",
          "text": []
        },
        {
          "output_type": "stream",
          "name": "stdout",
          "text": [
            "MoviePy - Done.\n",
            "Moviepy - Writing video Gyan_Dariyo_video_87.mp4\n",
            "\n"
          ]
        },
        {
          "output_type": "stream",
          "name": "stderr",
          "text": []
        },
        {
          "output_type": "stream",
          "name": "stdout",
          "text": [
            "Moviepy - Done !\n",
            "Moviepy - video ready Gyan_Dariyo_video_87.mp4\n",
            "Video 87 created: Gyan_Dariyo_video_87.mp4\n",
            "Moviepy - Building video Gyan_Dariyo_video_88.mp4.\n",
            "MoviePy - Writing audio in Gyan_Dariyo_video_88TEMP_MPY_wvf_snd.mp4\n"
          ]
        },
        {
          "output_type": "stream",
          "name": "stderr",
          "text": []
        },
        {
          "output_type": "stream",
          "name": "stdout",
          "text": [
            "MoviePy - Done.\n",
            "Moviepy - Writing video Gyan_Dariyo_video_88.mp4\n",
            "\n"
          ]
        },
        {
          "output_type": "stream",
          "name": "stderr",
          "text": []
        },
        {
          "output_type": "stream",
          "name": "stdout",
          "text": [
            "Moviepy - Done !\n",
            "Moviepy - video ready Gyan_Dariyo_video_88.mp4\n",
            "Video 88 created: Gyan_Dariyo_video_88.mp4\n",
            "Moviepy - Building video Gyan_Dariyo_video_89.mp4.\n",
            "MoviePy - Writing audio in Gyan_Dariyo_video_89TEMP_MPY_wvf_snd.mp4\n"
          ]
        },
        {
          "output_type": "stream",
          "name": "stderr",
          "text": []
        },
        {
          "output_type": "stream",
          "name": "stdout",
          "text": [
            "MoviePy - Done.\n",
            "Moviepy - Writing video Gyan_Dariyo_video_89.mp4\n",
            "\n"
          ]
        },
        {
          "output_type": "stream",
          "name": "stderr",
          "text": []
        },
        {
          "output_type": "stream",
          "name": "stdout",
          "text": [
            "Moviepy - Done !\n",
            "Moviepy - video ready Gyan_Dariyo_video_89.mp4\n",
            "Video 89 created: Gyan_Dariyo_video_89.mp4\n",
            "Moviepy - Building video Gyan_Dariyo_video_90.mp4.\n",
            "MoviePy - Writing audio in Gyan_Dariyo_video_90TEMP_MPY_wvf_snd.mp4\n"
          ]
        },
        {
          "output_type": "stream",
          "name": "stderr",
          "text": []
        },
        {
          "output_type": "stream",
          "name": "stdout",
          "text": [
            "MoviePy - Done.\n",
            "Moviepy - Writing video Gyan_Dariyo_video_90.mp4\n",
            "\n"
          ]
        },
        {
          "output_type": "stream",
          "name": "stderr",
          "text": []
        },
        {
          "output_type": "stream",
          "name": "stdout",
          "text": [
            "Moviepy - Done !\n",
            "Moviepy - video ready Gyan_Dariyo_video_90.mp4\n",
            "Video 90 created: Gyan_Dariyo_video_90.mp4\n",
            "Moviepy - Building video Gyan_Dariyo_video_91.mp4.\n",
            "MoviePy - Writing audio in Gyan_Dariyo_video_91TEMP_MPY_wvf_snd.mp4\n"
          ]
        },
        {
          "output_type": "stream",
          "name": "stderr",
          "text": []
        },
        {
          "output_type": "stream",
          "name": "stdout",
          "text": [
            "MoviePy - Done.\n",
            "Moviepy - Writing video Gyan_Dariyo_video_91.mp4\n",
            "\n"
          ]
        },
        {
          "output_type": "stream",
          "name": "stderr",
          "text": []
        },
        {
          "output_type": "stream",
          "name": "stdout",
          "text": [
            "Moviepy - Done !\n",
            "Moviepy - video ready Gyan_Dariyo_video_91.mp4\n",
            "Video 91 created: Gyan_Dariyo_video_91.mp4\n",
            "Moviepy - Building video Gyan_Dariyo_video_92.mp4.\n",
            "MoviePy - Writing audio in Gyan_Dariyo_video_92TEMP_MPY_wvf_snd.mp4\n"
          ]
        },
        {
          "output_type": "stream",
          "name": "stderr",
          "text": []
        },
        {
          "output_type": "stream",
          "name": "stdout",
          "text": [
            "MoviePy - Done.\n",
            "Moviepy - Writing video Gyan_Dariyo_video_92.mp4\n",
            "\n"
          ]
        },
        {
          "output_type": "stream",
          "name": "stderr",
          "text": []
        },
        {
          "output_type": "stream",
          "name": "stdout",
          "text": [
            "Moviepy - Done !\n",
            "Moviepy - video ready Gyan_Dariyo_video_92.mp4\n",
            "Video 92 created: Gyan_Dariyo_video_92.mp4\n",
            "Moviepy - Building video Gyan_Dariyo_video_93.mp4.\n",
            "MoviePy - Writing audio in Gyan_Dariyo_video_93TEMP_MPY_wvf_snd.mp4\n"
          ]
        },
        {
          "output_type": "stream",
          "name": "stderr",
          "text": []
        },
        {
          "output_type": "stream",
          "name": "stdout",
          "text": [
            "MoviePy - Done.\n",
            "Moviepy - Writing video Gyan_Dariyo_video_93.mp4\n",
            "\n"
          ]
        },
        {
          "output_type": "stream",
          "name": "stderr",
          "text": []
        },
        {
          "output_type": "stream",
          "name": "stdout",
          "text": [
            "Moviepy - Done !\n",
            "Moviepy - video ready Gyan_Dariyo_video_93.mp4\n",
            "Video 93 created: Gyan_Dariyo_video_93.mp4\n",
            "Moviepy - Building video Gyan_Dariyo_video_94.mp4.\n",
            "MoviePy - Writing audio in Gyan_Dariyo_video_94TEMP_MPY_wvf_snd.mp4\n"
          ]
        },
        {
          "output_type": "stream",
          "name": "stderr",
          "text": []
        },
        {
          "output_type": "stream",
          "name": "stdout",
          "text": [
            "MoviePy - Done.\n",
            "Moviepy - Writing video Gyan_Dariyo_video_94.mp4\n",
            "\n"
          ]
        },
        {
          "output_type": "stream",
          "name": "stderr",
          "text": []
        },
        {
          "output_type": "stream",
          "name": "stdout",
          "text": [
            "Moviepy - Done !\n",
            "Moviepy - video ready Gyan_Dariyo_video_94.mp4\n",
            "Video 94 created: Gyan_Dariyo_video_94.mp4\n",
            "Moviepy - Building video Gyan_Dariyo_video_95.mp4.\n",
            "MoviePy - Writing audio in Gyan_Dariyo_video_95TEMP_MPY_wvf_snd.mp4\n"
          ]
        },
        {
          "output_type": "stream",
          "name": "stderr",
          "text": []
        },
        {
          "output_type": "stream",
          "name": "stdout",
          "text": [
            "MoviePy - Done.\n",
            "Moviepy - Writing video Gyan_Dariyo_video_95.mp4\n",
            "\n"
          ]
        },
        {
          "output_type": "stream",
          "name": "stderr",
          "text": []
        },
        {
          "output_type": "stream",
          "name": "stdout",
          "text": [
            "Moviepy - Done !\n",
            "Moviepy - video ready Gyan_Dariyo_video_95.mp4\n",
            "Video 95 created: Gyan_Dariyo_video_95.mp4\n",
            "Moviepy - Building video Gyan_Dariyo_video_96.mp4.\n",
            "MoviePy - Writing audio in Gyan_Dariyo_video_96TEMP_MPY_wvf_snd.mp4\n"
          ]
        },
        {
          "output_type": "stream",
          "name": "stderr",
          "text": []
        },
        {
          "output_type": "stream",
          "name": "stdout",
          "text": [
            "MoviePy - Done.\n",
            "Moviepy - Writing video Gyan_Dariyo_video_96.mp4\n",
            "\n"
          ]
        },
        {
          "output_type": "stream",
          "name": "stderr",
          "text": []
        },
        {
          "output_type": "stream",
          "name": "stdout",
          "text": [
            "Moviepy - Done !\n",
            "Moviepy - video ready Gyan_Dariyo_video_96.mp4\n",
            "Video 96 created: Gyan_Dariyo_video_96.mp4\n",
            "Moviepy - Building video Gyan_Dariyo_video_97.mp4.\n",
            "MoviePy - Writing audio in Gyan_Dariyo_video_97TEMP_MPY_wvf_snd.mp4\n"
          ]
        },
        {
          "output_type": "stream",
          "name": "stderr",
          "text": []
        },
        {
          "output_type": "stream",
          "name": "stdout",
          "text": [
            "MoviePy - Done.\n",
            "Moviepy - Writing video Gyan_Dariyo_video_97.mp4\n",
            "\n"
          ]
        },
        {
          "output_type": "stream",
          "name": "stderr",
          "text": []
        },
        {
          "output_type": "stream",
          "name": "stdout",
          "text": [
            "Moviepy - Done !\n",
            "Moviepy - video ready Gyan_Dariyo_video_97.mp4\n",
            "Video 97 created: Gyan_Dariyo_video_97.mp4\n",
            "Moviepy - Building video Gyan_Dariyo_video_98.mp4.\n",
            "MoviePy - Writing audio in Gyan_Dariyo_video_98TEMP_MPY_wvf_snd.mp4\n"
          ]
        },
        {
          "output_type": "stream",
          "name": "stderr",
          "text": []
        },
        {
          "output_type": "stream",
          "name": "stdout",
          "text": [
            "MoviePy - Done.\n",
            "Moviepy - Writing video Gyan_Dariyo_video_98.mp4\n",
            "\n"
          ]
        },
        {
          "output_type": "stream",
          "name": "stderr",
          "text": []
        },
        {
          "output_type": "stream",
          "name": "stdout",
          "text": [
            "Moviepy - Done !\n",
            "Moviepy - video ready Gyan_Dariyo_video_98.mp4\n",
            "Video 98 created: Gyan_Dariyo_video_98.mp4\n",
            "Moviepy - Building video Gyan_Dariyo_video_99.mp4.\n",
            "MoviePy - Writing audio in Gyan_Dariyo_video_99TEMP_MPY_wvf_snd.mp4\n"
          ]
        },
        {
          "output_type": "stream",
          "name": "stderr",
          "text": []
        },
        {
          "output_type": "stream",
          "name": "stdout",
          "text": [
            "MoviePy - Done.\n",
            "Moviepy - Writing video Gyan_Dariyo_video_99.mp4\n",
            "\n"
          ]
        },
        {
          "output_type": "stream",
          "name": "stderr",
          "text": []
        },
        {
          "output_type": "stream",
          "name": "stdout",
          "text": [
            "Moviepy - Done !\n",
            "Moviepy - video ready Gyan_Dariyo_video_99.mp4\n",
            "Video 99 created: Gyan_Dariyo_video_99.mp4\n",
            "Moviepy - Building video Gyan_Dariyo_video_100.mp4.\n",
            "MoviePy - Writing audio in Gyan_Dariyo_video_100TEMP_MPY_wvf_snd.mp4\n"
          ]
        },
        {
          "output_type": "stream",
          "name": "stderr",
          "text": []
        },
        {
          "output_type": "stream",
          "name": "stdout",
          "text": [
            "MoviePy - Done.\n",
            "Moviepy - Writing video Gyan_Dariyo_video_100.mp4\n",
            "\n"
          ]
        },
        {
          "output_type": "stream",
          "name": "stderr",
          "text": []
        },
        {
          "output_type": "stream",
          "name": "stdout",
          "text": [
            "Moviepy - Done !\n",
            "Moviepy - video ready Gyan_Dariyo_video_100.mp4\n",
            "Video 100 created: Gyan_Dariyo_video_100.mp4\n",
            "Moviepy - Building video Gyan_Dariyo_final_video.mp4.\n",
            "MoviePy - Writing audio in Gyan_Dariyo_final_videoTEMP_MPY_wvf_snd.mp4\n"
          ]
        },
        {
          "output_type": "stream",
          "name": "stderr",
          "text": [
            "chunk:   9%|▉         | 3292/36335 [00:14<02:09, 255.12it/s, now=None]WARNING:py.warnings:/usr/local/lib/python3.10/dist-packages/moviepy/audio/io/readers.py:197: UserWarning: Error in file Gyan_Dariyo_video_11.mp4, At time t=9.09-9.13 seconds, indices wanted: 100000-101999, but len(buffer)=101770\n",
            "index 101770 is out of bounds for axis 0 with size 101770\n",
            "  warnings.warn(\"Error in file %s, \"%(self.filename)+\n",
            "\n",
            "chunk:  23%|██▎       | 8528/36335 [00:38<01:56, 237.83it/s, now=None]WARNING:py.warnings:/usr/local/lib/python3.10/dist-packages/moviepy/audio/io/readers.py:197: UserWarning: Error in file Gyan_Dariyo_video_24.mp4, At time t=9.07-9.12 seconds, indices wanted: 100000-101999, but len(buffer)=101260\n",
            "index 101260 is out of bounds for axis 0 with size 101260\n",
            "  warnings.warn(\"Error in file %s, \"%(self.filename)+\n",
            "\n",
            "chunk:  53%|█████▎    | 19199/36335 [01:26<01:18, 218.93it/s, now=None]WARNING:py.warnings:/usr/local/lib/python3.10/dist-packages/moviepy/audio/io/readers.py:197: UserWarning: Error in file Gyan_Dariyo_video_55.mp4, At time t=22.73-22.78 seconds, indices wanted: 100000-101676, but len(buffer)=101049\n",
            "index 101049 is out of bounds for axis 0 with size 101049\n",
            "  warnings.warn(\"Error in file %s, \"%(self.filename)+\n",
            "\n"
          ]
        },
        {
          "output_type": "stream",
          "name": "stdout",
          "text": [
            "MoviePy - Done.\n",
            "Moviepy - Writing video Gyan_Dariyo_final_video.mp4\n",
            "\n"
          ]
        },
        {
          "output_type": "stream",
          "name": "stderr",
          "text": [
            "t:   1%|          | 363/39549 [00:24<41:31, 15.73it/s, now=None]WARNING:py.warnings:/usr/local/lib/python3.10/dist-packages/moviepy/video/io/ffmpeg_reader.py:123: UserWarning: Warning: in file Gyan_Dariyo_video_1.mp4, 6220800 bytes wanted but 0 bytes read,at frame 363/364, at time 15.12/15.13 sec. Using the last valid frame instead.\n",
            "  warnings.warn(\"Warning: in file %s, \"%(self.filename)+\n",
            "\n",
            "t:   7%|▋         | 2860/39549 [03:11<48:39, 12.57it/s, now=None]WARNING:py.warnings:/usr/local/lib/python3.10/dist-packages/moviepy/video/io/ffmpeg_reader.py:123: UserWarning: Warning: in file Gyan_Dariyo_video_8.mp4, 6220800 bytes wanted but 0 bytes read,at frame 363/364, at time 15.12/15.13 sec. Using the last valid frame instead.\n",
            "  warnings.warn(\"Warning: in file %s, \"%(self.filename)+\n",
            "\n",
            "t:  12%|█▏        | 4779/39549 [05:27<43:35, 13.29it/s, now=None]WARNING:py.warnings:/usr/local/lib/python3.10/dist-packages/moviepy/video/io/ffmpeg_reader.py:123: UserWarning: Warning: in file Gyan_Dariyo_video_14.mp4, 6220800 bytes wanted but 0 bytes read,at frame 542/543, at time 22.58/22.60 sec. Using the last valid frame instead.\n",
            "  warnings.warn(\"Warning: in file %s, \"%(self.filename)+\n",
            "\n",
            "t:  23%|██▎       | 9089/39549 [10:13<31:02, 16.35it/s, now=None]WARNING:py.warnings:/usr/local/lib/python3.10/dist-packages/moviepy/video/io/ffmpeg_reader.py:123: UserWarning: Warning: in file Gyan_Dariyo_video_23.mp4, 6220800 bytes wanted but 0 bytes read,at frame 370/371, at time 15.42/15.43 sec. Using the last valid frame instead.\n",
            "  warnings.warn(\"Warning: in file %s, \"%(self.filename)+\n",
            "\n",
            "t:  26%|██▌       | 10229/39549 [11:25<33:14, 14.70it/s, now=None]WARNING:py.warnings:/usr/local/lib/python3.10/dist-packages/moviepy/video/io/ffmpeg_reader.py:123: UserWarning: Warning: in file Gyan_Dariyo_video_27.mp4, 6220800 bytes wanted but 0 bytes read,at frame 218/219, at time 9.08/9.09 sec. Using the last valid frame instead.\n",
            "  warnings.warn(\"Warning: in file %s, \"%(self.filename)+\n",
            "\n",
            "t:  28%|██▊       | 11105/39549 [12:24<28:21, 16.72it/s, now=None]WARNING:py.warnings:/usr/local/lib/python3.10/dist-packages/moviepy/video/io/ffmpeg_reader.py:123: UserWarning: Warning: in file Gyan_Dariyo_video_30.mp4, 6220800 bytes wanted but 0 bytes read,at frame 365/366, at time 15.21/15.21 sec. Using the last valid frame instead.\n",
            "  warnings.warn(\"Warning: in file %s, \"%(self.filename)+\n",
            "\n",
            "t:  33%|███▎      | 12916/39549 [14:22<29:58, 14.81it/s, now=None]WARNING:py.warnings:/usr/local/lib/python3.10/dist-packages/moviepy/video/io/ffmpeg_reader.py:123: UserWarning: Warning: in file Gyan_Dariyo_video_35.mp4, 6220800 bytes wanted but 0 bytes read,at frame 293/294, at time 12.21/12.21 sec. Using the last valid frame instead.\n",
            "  warnings.warn(\"Warning: in file %s, \"%(self.filename)+\n",
            "\n",
            "t:  35%|███▍      | 13749/39549 [15:18<19:31, 22.03it/s, now=None]WARNING:py.warnings:/usr/local/lib/python3.10/dist-packages/moviepy/video/io/ffmpeg_reader.py:123: UserWarning: Warning: in file Gyan_Dariyo_video_37.mp4, 6220800 bytes wanted but 0 bytes read,at frame 681/682, at time 28.38/28.38 sec. Using the last valid frame instead.\n",
            "  warnings.warn(\"Warning: in file %s, \"%(self.filename)+\n",
            "\n",
            "t:  42%|████▏     | 16498/39549 [18:14<23:03, 16.66it/s, now=None]WARNING:py.warnings:/usr/local/lib/python3.10/dist-packages/moviepy/video/io/ffmpeg_reader.py:123: UserWarning: Warning: in file Gyan_Dariyo_video_46.mp4, 6220800 bytes wanted but 0 bytes read,at frame 272/273, at time 11.33/11.35 sec. Using the last valid frame instead.\n",
            "  warnings.warn(\"Warning: in file %s, \"%(self.filename)+\n",
            "\n",
            "t:  46%|████▌     | 18086/39549 [19:56<25:07, 14.23it/s, now=None]WARNING:py.warnings:/usr/local/lib/python3.10/dist-packages/moviepy/video/io/ffmpeg_reader.py:123: UserWarning: Warning: in file Gyan_Dariyo_video_50.mp4, 6220800 bytes wanted but 0 bytes read,at frame 416/417, at time 17.33/17.35 sec. Using the last valid frame instead.\n",
            "  warnings.warn(\"Warning: in file %s, \"%(self.filename)+\n",
            "\n",
            "t:  53%|█████▎    | 20904/39549 [23:03<19:29, 15.95it/s, now=None]WARNING:py.warnings:/usr/local/lib/python3.10/dist-packages/moviepy/video/io/ffmpeg_reader.py:123: UserWarning: Warning: in file Gyan_Dariyo_video_55.mp4, 6220800 bytes wanted but 0 bytes read,at frame 546/547, at time 22.75/22.77 sec. Using the last valid frame instead.\n",
            "  warnings.warn(\"Warning: in file %s, \"%(self.filename)+\n",
            "\n",
            "t:  60%|██████    | 23915/39549 [26:13<15:48, 16.48it/s, now=None]WARNING:py.warnings:/usr/local/lib/python3.10/dist-packages/moviepy/video/io/ffmpeg_reader.py:123: UserWarning: Warning: in file Gyan_Dariyo_video_62.mp4, 6220800 bytes wanted but 0 bytes read,at frame 455/456, at time 18.96/18.96 sec. Using the last valid frame instead.\n",
            "  warnings.warn(\"Warning: in file %s, \"%(self.filename)+\n",
            "\n",
            "t:  70%|███████   | 27718/39549 [30:13<12:59, 15.18it/s, now=None]WARNING:py.warnings:/usr/local/lib/python3.10/dist-packages/moviepy/video/io/ffmpeg_reader.py:123: UserWarning: Warning: in file Gyan_Dariyo_video_69.mp4, 6220800 bytes wanted but 0 bytes read,at frame 431/432, at time 17.96/17.97 sec. Using the last valid frame instead.\n",
            "  warnings.warn(\"Warning: in file %s, \"%(self.filename)+\n",
            "\n",
            "t:  82%|████████▏ | 32471/39549 [35:13<07:48, 15.09it/s, now=None]WARNING:py.warnings:/usr/local/lib/python3.10/dist-packages/moviepy/video/io/ffmpeg_reader.py:123: UserWarning: Warning: in file Gyan_Dariyo_video_80.mp4, 6220800 bytes wanted but 0 bytes read,at frame 700/701, at time 29.17/29.18 sec. Using the last valid frame instead.\n",
            "  warnings.warn(\"Warning: in file %s, \"%(self.filename)+\n",
            "\n",
            "t:  90%|████████▉ | 35433/39549 [38:09<04:05, 16.76it/s, now=None]WARNING:py.warnings:/usr/local/lib/python3.10/dist-packages/moviepy/video/io/ffmpeg_reader.py:123: UserWarning: Warning: in file Gyan_Dariyo_video_87.mp4, 6220800 bytes wanted but 0 bytes read,at frame 385/386, at time 16.04/16.05 sec. Using the last valid frame instead.\n",
            "  warnings.warn(\"Warning: in file %s, \"%(self.filename)+\n",
            "\n",
            "t:  93%|█████████▎| 36705/39549 [39:21<02:56, 16.12it/s, now=None]WARNING:py.warnings:/usr/local/lib/python3.10/dist-packages/moviepy/video/io/ffmpeg_reader.py:123: UserWarning: Warning: in file Gyan_Dariyo_video_91.mp4, 6220800 bytes wanted but 0 bytes read,at frame 265/266, at time 11.04/11.06 sec. Using the last valid frame instead.\n",
            "  warnings.warn(\"Warning: in file %s, \"%(self.filename)+\n",
            "\n",
            "t:  95%|█████████▍| 37508/39549 [40:10<02:04, 16.44it/s, now=None]WARNING:py.warnings:/usr/local/lib/python3.10/dist-packages/moviepy/video/io/ffmpeg_reader.py:123: UserWarning: Warning: in file Gyan_Dariyo_video_94.mp4, 6220800 bytes wanted but 0 bytes read,at frame 310/311, at time 12.92/12.93 sec. Using the last valid frame instead.\n",
            "  warnings.warn(\"Warning: in file %s, \"%(self.filename)+\n",
            "\n"
          ]
        },
        {
          "output_type": "stream",
          "name": "stdout",
          "text": [
            "Moviepy - Done !\n",
            "Moviepy - video ready Gyan_Dariyo_final_video.mp4\n",
            "Final video created: Gyan_Dariyo_final_video.mp4\n"
          ]
        }
      ],
      "source": [
        "!pip install opencv-python --upgrade --quiet\n",
        "!pip install Pillow --upgrade --quiet\n",
        "!pip install moviepy --upgrade --quiet\n",
        "!pip install gTTS --upgrade --quiet\n",
        "import pandas as pd\n",
        "# Replace 'your_file.csv' with the actual path to your CSV file\n",
        "file_path = '/content/3 - તલાટી અને જુનિયર કલાર્ક મોડેલ પેપર -3.csv'\n",
        "data_frame = pd.read_csv(file_path)\n",
        "data_list = data_frame.values.tolist()\n",
        "print(data_list[0])\n",
        "from PIL import Image, ImageDraw, ImageFont\n",
        "import textwrap\n",
        "\n",
        "image_width = 1080\n",
        "image_height = 1920\n",
        "background_color = (255, 229, 244)\n",
        "font_color = (229, 0, 135)\n",
        "font_size = 90\n",
        "line_spacing = 10\n",
        "margin = 80\n",
        "\n",
        "for idx, data in enumerate(data_list):\n",
        "    image = Image.new(\"RGB\", (image_width, image_height), background_color)\n",
        "    draw = ImageDraw.Draw(image)\n",
        "    font = ImageFont.truetype(\"/content/HindVadodara-Bold.ttf\", font_size)\n",
        "    y_position = margin\n",
        "\n",
        "    for text in data:\n",
        "        wrapped_text = textwrap.fill(text, width=40)  # Adjust width as needed\n",
        "        lines = wrapped_text.split('\\n')\n",
        "\n",
        "        for line in lines:\n",
        "\n",
        "            draw.text((margin, y_position), line, font=font, fill=font_color)\n",
        "            y_position += font_size + line_spacing\n",
        "\n",
        "        y_position += line_spacing  # Add extra spacing between wrapped lines\n",
        "    image.save(f\"Gyan_Dariyo_image_{idx+1}.png\")\n",
        "    image.show()\n",
        "from PIL import Image, ImageDraw, ImageFont\n",
        "import textwrap\n",
        "from gtts import gTTS\n",
        "import os\n",
        "\n",
        "# data_list = [\n",
        "#     [\"કલકત્તામાં એશિયાટિક સોસાયટીની સ્થાપના સમયે બંગાળના ગવર્નર જનરલ કોણ હતા ?\", \"A. કોનૅવોલીસ\", \"B. વિલિયમ બેન્ટિક\", \"C. વોરન હેસ્ટીંગ્સ\", \"D. વેલેસ્લી\", \"જવાબ :- વોરન હેસ્ટીંગ્સ\", \"\"],\n",
        "#     [\"સ્વામી વિવેકાનંદ નું મૂળ નામ શું હતું ?\", \"A. સુરેન્દ્રનાથ\", \"B. રવીન્દ્રનાથ\", \"C. રામકૃષ્ણ\", \"D. નરેન્દ્રનાથ\", \"જવાબ  નરેન્દ્રનાથ\", \"\"]\n",
        "#     # Add more data here for a total of 7 objects\n",
        "# ]\n",
        "\n",
        "image_width = 1920\n",
        "image_height = 1080\n",
        "background_color = (238, 164, 127)\n",
        "font_color = (1, 83, 157)\n",
        "font_size = 90\n",
        "line_spacing = 10\n",
        "margin = 80\n",
        "\n",
        "for idx, data in enumerate(data_list):\n",
        "    image = Image.new(\"RGB\", (image_width, image_height), background_color)\n",
        "    draw = ImageDraw.Draw(image)\n",
        "    font = ImageFont.truetype(\"/content/HindVadodara-SemiBold.ttf\", font_size)\n",
        "    y_position = margin\n",
        "\n",
        "    text_to_speak = \"\"\n",
        "\n",
        "    for text in data:\n",
        "        wrapped_text = textwrap.fill(text, width=40)  # Adjust width as needed\n",
        "        lines = wrapped_text.split('\\n')\n",
        "\n",
        "        for line in lines:\n",
        "            draw.text((margin, y_position), line, font=font, fill=font_color)\n",
        "            y_position += font_size + line_spacing\n",
        "            text_to_speak += line + \"\\n\"\n",
        "\n",
        "        y_position += line_spacing  # Add extra spacing between wrapped lines\n",
        "\n",
        "    image.save(f\"Gyan_Dariyo_image_{idx+1}.png\")\n",
        "    image.show()\n",
        "\n",
        "    # Convert text to speech and create an audio file\n",
        "    tts = gTTS(text=text_to_speak, lang='gu')\n",
        "    audio_file_path = f\"Gyan_Dariyo_audio_{idx+1}.mp3\"\n",
        "    tts.save(audio_file_path)\n",
        "    import time\n",
        "\n",
        "    # Play the audio (you may need additional setup for audio playback)\n",
        "    # For example, on Google Colab, you can use the IPython display module\n",
        "    # from IPython.display import Audio, display\n",
        "    # display(Audio(audio_file_path, autoplay=True))\n",
        "from moviepy.editor import ImageClip, AudioFileClip\n",
        "from gtts import gTTS\n",
        "import textwrap\n",
        "video_list = []\n",
        "default_fps = 24  # Default frames per second for the video clips\n",
        "\n",
        "for idx, data in enumerate(data_list):\n",
        "    text_to_speak = \"\\n\".join(data)\n",
        "\n",
        "    # Convert text to speech and create an audio file\n",
        "    tts = gTTS(text=text_to_speak, lang='gu')\n",
        "    audio_file_path = f\"Gyan_Dariyo_audio_{idx+1}.mp3\"\n",
        "    tts.save(audio_file_path)\n",
        "\n",
        "    # Load the audio clip\n",
        "    audio_clip = AudioFileClip(audio_file_path)\n",
        "\n",
        "    # Get the audio duration\n",
        "    audio_duration = audio_clip.duration\n",
        "\n",
        "    # Create an image clip\n",
        "    image_path = f\"Gyan_Dariyo_image_{idx+1}.png\"\n",
        "    image_clip = ImageClip(image_path)\n",
        "\n",
        "    # Set the audio of the image clip\n",
        "    video_clip = image_clip.set_audio(audio_clip)\n",
        "\n",
        "    # Set the duration of the video clip to match the audio duration\n",
        "    video_clip = video_clip.set_duration(audio_duration)\n",
        "\n",
        "    # Set the fps for the video clip\n",
        "    video_clip = video_clip.set_fps(default_fps)\n",
        "\n",
        "    # Write the final video\n",
        "    video_file_path = f\"Gyan_Dariyo_video_{idx+1}.mp4\"\n",
        "    video_list.append(f\"Gyan_Dariyo_video_{idx+1}.mp4\")\n",
        "    video_clip.write_videofile(video_file_path, codec=\"libx264\", audio_codec=\"aac\")\n",
        "\n",
        "    # Print a message to indicate completion\n",
        "    print(f\"Video {idx+1} created: {video_file_path}\")\n",
        "from moviepy.editor import VideoFileClip, concatenate_videoclips\n",
        "\n",
        "video_list = []\n",
        "\n",
        "for idx, data in enumerate(data_list):\n",
        "    video_file_path = f\"Gyan_Dariyo_video_{idx+1}.mp4\"\n",
        "    video_clip = VideoFileClip(video_file_path)\n",
        "    video_list.append(video_clip)\n",
        "\n",
        "final_video = concatenate_videoclips(video_list)\n",
        "\n",
        "final_video_file_path = \"Gyan_Dariyo_final_video.mp4\"\n",
        "final_video.write_videofile(final_video_file_path, codec=\"libx264\", audio_codec=\"aac\")\n",
        "\n",
        "print(f\"Final video created: {final_video_file_path}\")\n"
      ]
    },
    {
      "cell_type": "code",
      "source": [
        "!pip install opencv-python --upgrade --quiet\n",
        "!pip install Pillow --upgrade --quiet\n",
        "!pip install moviepy --upgrade --quiet\n",
        "!pip install gTTS --upgrade --quiet"
      ],
      "metadata": {
        "id": "y2iYdlEgnTU2",
        "outputId": "9d75bdb7-6dd9-4112-c9a4-eb5a2e562519",
        "colab": {
          "base_uri": "https://localhost:8080/"
        }
      },
      "execution_count": 2,
      "outputs": [
        {
          "output_type": "stream",
          "name": "stdout",
          "text": [
            "\u001b[2K     \u001b[90m━━━━━━━━━━━━━━━━━━━━━━━━━━━━━━━━━━━━━━━━\u001b[0m \u001b[32m62.2/62.2 MB\u001b[0m \u001b[31m10.4 MB/s\u001b[0m eta \u001b[36m0:00:00\u001b[0m\n",
            "\u001b[2K     \u001b[90m━━━━━━━━━━━━━━━━━━━━━━━━━━━━━━━━━━━━━━━━\u001b[0m \u001b[32m4.5/4.5 MB\u001b[0m \u001b[31m13.3 MB/s\u001b[0m eta \u001b[36m0:00:00\u001b[0m\n",
            "\u001b[?25h\u001b[31mERROR: pip's dependency resolver does not currently take into account all the packages that are installed. This behaviour is the source of the following dependency conflicts.\n",
            "imageio 2.31.6 requires pillow<10.1.0,>=8.3.2, but you have pillow 10.2.0 which is incompatible.\u001b[0m\u001b[31m\n",
            "\u001b[2K     \u001b[90m━━━━━━━━━━━━━━━━━━━━━━━━━━━━━━━━━━━━━━━━\u001b[0m \u001b[32m3.6/3.6 MB\u001b[0m \u001b[31m12.2 MB/s\u001b[0m eta \u001b[36m0:00:00\u001b[0m\n",
            "\u001b[?25h"
          ]
        }
      ]
    },
    {
      "cell_type": "code",
      "source": [
        "import pandas as pd\n",
        "from PIL import Image, ImageDraw, ImageFont\n",
        "import textwrap\n",
        "from gtts import gTTS\n",
        "from moviepy.editor import ImageClip, AudioFileClip, VideoFileClip, concatenate_videoclips\n",
        "\n",
        "class GyanDariyoVideoCreator:\n",
        "    def __init__(self, file_path, font_path, image_size=(1920, 1080), background_color=(238, 164, 127),\n",
        "                 font_color=(1, 83, 157), font_size=90, line_spacing=10, margin=80, fps=24):\n",
        "        self.file_path = file_path\n",
        "        self.font_path = font_path\n",
        "        self.image_size = image_size\n",
        "        self.background_color = background_color\n",
        "        self.font_color = font_color\n",
        "        self.font_size = font_size\n",
        "        self.line_spacing = line_spacing\n",
        "        self.margin = margin\n",
        "        self.fps = fps\n",
        "\n",
        "        # Initialize data_frame and data_list\n",
        "        self.data_frame = pd.read_csv(file_path)\n",
        "        self.data_list = self.data_frame.values.tolist()\n",
        "\n",
        "    def create_image(self, data, idx):\n",
        "        image = Image.new(\"RGB\", self.image_size, self.background_color)\n",
        "        draw = ImageDraw.Draw(image)\n",
        "        font = ImageFont.truetype(self.font_path, self.font_size)\n",
        "        y_position = self.margin\n",
        "        text_to_speak = \"\"\n",
        "\n",
        "        for text in data:\n",
        "            print(\"Type of 'text':\", type(text))\n",
        "            print(\"Content of 'text':\", text)\n",
        "\n",
        "            wrapped_text = textwrap.fill(str(text), width=40)  # Convert to string\n",
        "            print(\"Type of 'wrapped_text':\", type(wrapped_text))\n",
        "            print(\"Content of 'wrapped_text':\", wrapped_text)\n",
        "\n",
        "            lines = wrapped_text.split('\\n')\n",
        "\n",
        "            for line in lines:\n",
        "                draw.text((self.margin, y_position), line, font=font, fill=self.font_color)\n",
        "                y_position += self.font_size + self.line_spacing\n",
        "                text_to_speak += line + \"\\n\"\n",
        "\n",
        "            y_position += self.line_spacing\n",
        "\n",
        "        image.save(f\"Gyan_Dariyo_image_{idx + 1}.png\")\n",
        "        return image, text_to_speak\n",
        "\n",
        "    def create_audio(self, text_to_speak, idx):\n",
        "        tts = gTTS(text=text_to_speak, lang='gu')\n",
        "        audio_file_path = f\"Gyan_Dariyo_audio_{idx + 1}.mp3\"\n",
        "        tts.save(audio_file_path)\n",
        "        return audio_file_path\n",
        "\n",
        "    def create_video(self, audio_file_path, image_path, idx):\n",
        "        audio_clip = AudioFileClip(audio_file_path)\n",
        "        audio_duration = audio_clip.duration\n",
        "        image_clip = ImageClip(image_path)\n",
        "        video_clip = image_clip.set_audio(audio_clip)\n",
        "        video_clip = video_clip.set_duration(audio_duration)\n",
        "        video_clip = video_clip.set_fps(self.fps)\n",
        "        video_file_path = f\"Gyan_Dariyo_video_{idx + 1}.mp4\"\n",
        "        video_clip.write_videofile(video_file_path, codec=\"libx264\", audio_codec=\"aac\")\n",
        "        print(f\"Video {idx + 1} created: {video_file_path}\")\n",
        "        return video_file_path\n",
        "\n",
        "    def create_final_video(self):\n",
        "        video_list = []\n",
        "\n",
        "        for idx, data in enumerate(self.data_list):\n",
        "            image, text_to_speak = self.create_image(data, idx)\n",
        "            audio_file_path = self.create_audio(text_to_speak, idx)\n",
        "            video_file_path = self.create_video(audio_file_path, f\"Gyan_Dariyo_image_{idx + 1}.png\", idx)\n",
        "            video_list.append(video_file_path)\n",
        "\n",
        "        clips = [VideoFileClip(video) for video in video_list]\n",
        "        final_video = concatenate_videoclips(clips)\n",
        "        final_video_file_path = \"Gyan_Dariyo_final_video.mp4\"\n",
        "        final_video.write_videofile(final_video_file_path, codec=\"libx264\", audio_codec=\"aac\")\n",
        "        print(f\"Final video created: {final_video_file_path}\")\n",
        "\n",
        "# Usage\n",
        "file_path = '/content/તલાટી અને જુનિયર કલાર્ક મોડેલ પેપર -3.csv'\n",
        "font_path = \"/content/HindVadodara-SemiBold.ttf\"\n",
        "\n",
        "gyan_dariyo_creator = GyanDariyoVideoCreator(file_path, font_path)\n",
        "gyan_dariyo_creator.create_final_video()"
      ],
      "metadata": {
        "id": "Qt3LJfeznAj6",
        "outputId": "b21a0a15-8509-4d1e-985c-3d56b0b6a8a8",
        "colab": {
          "base_uri": "https://localhost:8080/",
          "height": 1000
        }
      },
      "execution_count": 5,
      "outputs": [
        {
          "output_type": "stream",
          "name": "stdout",
          "text": [
            "Type of 'text': <class 'str'>\n",
            "Content of 'text': ભારતના કયા પ્રાચીન ગ્રંથમાં ભારત માટે ભારત વર્ષ નામ આપવામાં આવ્યું ?\n",
            "Type of 'wrapped_text': <class 'str'>\n",
            "Content of 'wrapped_text': ભારતના કયા પ્રાચીન ગ્રંથમાં ભારત માટે\n",
            "ભારત વર્ષ નામ આપવામાં આવ્યું ?\n",
            "Type of 'text': <class 'str'>\n",
            "Content of 'text': multiple-choice\n",
            "Type of 'wrapped_text': <class 'str'>\n",
            "Content of 'wrapped_text': multiple-choice\n",
            "Type of 'text': <class 'str'>\n",
            "Content of 'text': ભાગવત પુરાણ\n",
            "Type of 'wrapped_text': <class 'str'>\n",
            "Content of 'wrapped_text': ભાગવત પુરાણ\n",
            "Type of 'text': <class 'str'>\n",
            "Content of 'text': વરાહ પુરાણ\n",
            "Type of 'wrapped_text': <class 'str'>\n",
            "Content of 'wrapped_text': વરાહ પુરાણ\n",
            "Type of 'text': <class 'str'>\n",
            "Content of 'text': નારાદિય પુરાણ\n",
            "Type of 'wrapped_text': <class 'str'>\n",
            "Content of 'wrapped_text': નારાદિય પુરાણ\n",
            "Type of 'text': <class 'str'>\n",
            "Content of 'text': વિષ્ણુપુરાણ\n",
            "Type of 'wrapped_text': <class 'str'>\n",
            "Content of 'wrapped_text': વિષ્ણુપુરાણ\n",
            "Type of 'text': <class 'float'>\n",
            "Content of 'text': nan\n",
            "Type of 'wrapped_text': <class 'str'>\n",
            "Content of 'wrapped_text': nan\n",
            "Type of 'text': <class 'float'>\n",
            "Content of 'text': nan\n",
            "Type of 'wrapped_text': <class 'str'>\n",
            "Content of 'wrapped_text': nan\n",
            "Type of 'text': <class 'float'>\n",
            "Content of 'text': nan\n",
            "Type of 'wrapped_text': <class 'str'>\n",
            "Content of 'wrapped_text': nan\n",
            "Type of 'text': <class 'float'>\n",
            "Content of 'text': nan\n",
            "Type of 'wrapped_text': <class 'str'>\n",
            "Content of 'wrapped_text': nan\n",
            "Type of 'text': <class 'float'>\n",
            "Content of 'text': nan\n",
            "Type of 'wrapped_text': <class 'str'>\n",
            "Content of 'wrapped_text': nan\n",
            "Type of 'text': <class 'float'>\n",
            "Content of 'text': nan\n",
            "Type of 'wrapped_text': <class 'str'>\n",
            "Content of 'wrapped_text': nan\n",
            "Type of 'text': <class 'float'>\n",
            "Content of 'text': nan\n",
            "Type of 'wrapped_text': <class 'str'>\n",
            "Content of 'wrapped_text': nan\n",
            "Type of 'text': <class 'float'>\n",
            "Content of 'text': nan\n",
            "Type of 'wrapped_text': <class 'str'>\n",
            "Content of 'wrapped_text': nan\n",
            "Type of 'text': <class 'float'>\n",
            "Content of 'text': nan\n",
            "Type of 'wrapped_text': <class 'str'>\n",
            "Content of 'wrapped_text': nan\n",
            "Type of 'text': <class 'float'>\n",
            "Content of 'text': nan\n",
            "Type of 'wrapped_text': <class 'str'>\n",
            "Content of 'wrapped_text': nan\n",
            "Type of 'text': <class 'float'>\n",
            "Content of 'text': nan\n",
            "Type of 'wrapped_text': <class 'str'>\n",
            "Content of 'wrapped_text': nan\n",
            "Type of 'text': <class 'int'>\n",
            "Content of 'text': 4\n",
            "Type of 'wrapped_text': <class 'str'>\n",
            "Content of 'wrapped_text': 4\n",
            "Type of 'text': <class 'str'>\n",
            "Content of 'text': https://www.aakashportal.com/\n",
            "Type of 'wrapped_text': <class 'str'>\n",
            "Content of 'wrapped_text': https://www.aakashportal.com/\n",
            "Type of 'text': <class 'str'>\n",
            "Content of 'text': તલાટી અને જુનિયર કલાર્ક \n",
            "Type of 'wrapped_text': <class 'str'>\n",
            "Content of 'wrapped_text': તલાટી અને જુનિયર કલાર્ક\n",
            "Moviepy - Building video Gyan_Dariyo_video_1.mp4.\n",
            "MoviePy - Writing audio in Gyan_Dariyo_video_1TEMP_MPY_wvf_snd.mp4\n"
          ]
        },
        {
          "output_type": "stream",
          "name": "stderr",
          "text": []
        },
        {
          "output_type": "stream",
          "name": "stdout",
          "text": [
            "MoviePy - Done.\n",
            "Moviepy - Writing video Gyan_Dariyo_video_1.mp4\n",
            "\n"
          ]
        },
        {
          "output_type": "stream",
          "name": "stderr",
          "text": []
        },
        {
          "output_type": "stream",
          "name": "stdout",
          "text": [
            "Moviepy - Done !\n",
            "Moviepy - video ready Gyan_Dariyo_video_1.mp4\n",
            "Video 1 created: Gyan_Dariyo_video_1.mp4\n",
            "Type of 'text': <class 'str'>\n",
            "Content of 'text': ઘણી વાર સાલવારી ને AD ને બદલે કઈ રીતે લખવામાં આવે છે ?\n",
            "Type of 'wrapped_text': <class 'str'>\n",
            "Content of 'wrapped_text': ઘણી વાર સાલવારી ને AD ને બદલે કઈ રીતે\n",
            "લખવામાં આવે છે ?\n",
            "Type of 'text': <class 'str'>\n",
            "Content of 'text': multiple-choice\n",
            "Type of 'wrapped_text': <class 'str'>\n",
            "Content of 'wrapped_text': multiple-choice\n",
            "Type of 'text': <class 'str'>\n",
            "Content of 'text': C.E\n",
            "Type of 'wrapped_text': <class 'str'>\n",
            "Content of 'wrapped_text': C.E\n",
            "Type of 'text': <class 'str'>\n",
            "Content of 'text': B.C\n",
            "Type of 'wrapped_text': <class 'str'>\n",
            "Content of 'wrapped_text': B.C\n",
            "Type of 'text': <class 'str'>\n",
            "Content of 'text': B. C. E.\n",
            "Type of 'wrapped_text': <class 'str'>\n",
            "Content of 'wrapped_text': B. C. E.\n",
            "Type of 'text': <class 'str'>\n",
            "Content of 'text': ઈ. સ. પૂર્વ\n",
            "Type of 'wrapped_text': <class 'str'>\n",
            "Content of 'wrapped_text': ઈ. સ. પૂર્વ\n",
            "Type of 'text': <class 'float'>\n",
            "Content of 'text': nan\n",
            "Type of 'wrapped_text': <class 'str'>\n",
            "Content of 'wrapped_text': nan\n",
            "Type of 'text': <class 'float'>\n",
            "Content of 'text': nan\n",
            "Type of 'wrapped_text': <class 'str'>\n",
            "Content of 'wrapped_text': nan\n",
            "Type of 'text': <class 'float'>\n",
            "Content of 'text': nan\n",
            "Type of 'wrapped_text': <class 'str'>\n",
            "Content of 'wrapped_text': nan\n",
            "Type of 'text': <class 'float'>\n",
            "Content of 'text': nan\n",
            "Type of 'wrapped_text': <class 'str'>\n",
            "Content of 'wrapped_text': nan\n",
            "Type of 'text': <class 'float'>\n",
            "Content of 'text': nan\n",
            "Type of 'wrapped_text': <class 'str'>\n",
            "Content of 'wrapped_text': nan\n",
            "Type of 'text': <class 'float'>\n",
            "Content of 'text': nan\n",
            "Type of 'wrapped_text': <class 'str'>\n",
            "Content of 'wrapped_text': nan\n",
            "Type of 'text': <class 'float'>\n",
            "Content of 'text': nan\n",
            "Type of 'wrapped_text': <class 'str'>\n",
            "Content of 'wrapped_text': nan\n",
            "Type of 'text': <class 'float'>\n",
            "Content of 'text': nan\n",
            "Type of 'wrapped_text': <class 'str'>\n",
            "Content of 'wrapped_text': nan\n",
            "Type of 'text': <class 'float'>\n",
            "Content of 'text': nan\n",
            "Type of 'wrapped_text': <class 'str'>\n",
            "Content of 'wrapped_text': nan\n",
            "Type of 'text': <class 'float'>\n",
            "Content of 'text': nan\n",
            "Type of 'wrapped_text': <class 'str'>\n",
            "Content of 'wrapped_text': nan\n",
            "Type of 'text': <class 'float'>\n",
            "Content of 'text': nan\n",
            "Type of 'wrapped_text': <class 'str'>\n",
            "Content of 'wrapped_text': nan\n",
            "Type of 'text': <class 'int'>\n",
            "Content of 'text': 1\n",
            "Type of 'wrapped_text': <class 'str'>\n",
            "Content of 'wrapped_text': 1\n",
            "Type of 'text': <class 'str'>\n",
            "Content of 'text': https://www.aakashportal.com/\n",
            "Type of 'wrapped_text': <class 'str'>\n",
            "Content of 'wrapped_text': https://www.aakashportal.com/\n",
            "Type of 'text': <class 'str'>\n",
            "Content of 'text': તલાટી અને જુનિયર કલાર્ક \n",
            "Type of 'wrapped_text': <class 'str'>\n",
            "Content of 'wrapped_text': તલાટી અને જુનિયર કલાર્ક\n",
            "Moviepy - Building video Gyan_Dariyo_video_2.mp4.\n",
            "MoviePy - Writing audio in Gyan_Dariyo_video_2TEMP_MPY_wvf_snd.mp4\n"
          ]
        },
        {
          "output_type": "stream",
          "name": "stderr",
          "text": []
        },
        {
          "output_type": "stream",
          "name": "stdout",
          "text": [
            "MoviePy - Done.\n",
            "Moviepy - Writing video Gyan_Dariyo_video_2.mp4\n",
            "\n"
          ]
        },
        {
          "output_type": "stream",
          "name": "stderr",
          "text": []
        },
        {
          "output_type": "stream",
          "name": "stdout",
          "text": [
            "Moviepy - Done !\n",
            "Moviepy - video ready Gyan_Dariyo_video_2.mp4\n",
            "Video 2 created: Gyan_Dariyo_video_2.mp4\n",
            "Type of 'text': <class 'str'>\n",
            "Content of 'text': ક્યાં સુલતાને રાજધાની નું સ્થળાંતર દિલ્હીથી દોલતાબાદ કર્યું હતું ?\n",
            "Type of 'wrapped_text': <class 'str'>\n",
            "Content of 'wrapped_text': ક્યાં સુલતાને રાજધાની નું સ્થળાંતર\n",
            "દિલ્હીથી દોલતાબાદ કર્યું હતું ?\n",
            "Type of 'text': <class 'str'>\n",
            "Content of 'text': multiple-choice\n",
            "Type of 'wrapped_text': <class 'str'>\n",
            "Content of 'wrapped_text': multiple-choice\n",
            "Type of 'text': <class 'str'>\n",
            "Content of 'text': ગિયાસુદીન તુગલકે\n",
            "Type of 'wrapped_text': <class 'str'>\n",
            "Content of 'wrapped_text': ગિયાસુદીન તુગલકે\n",
            "Type of 'text': <class 'str'>\n",
            "Content of 'text': ફિરોજશાહ તુગલકે\n",
            "Type of 'wrapped_text': <class 'str'>\n",
            "Content of 'wrapped_text': ફિરોજશાહ તુગલકે\n",
            "Type of 'text': <class 'str'>\n",
            "Content of 'text': નસીરુદ્દીન તુગલકે\n",
            "Type of 'wrapped_text': <class 'str'>\n",
            "Content of 'wrapped_text': નસીરુદ્દીન તુગલકે\n",
            "Type of 'text': <class 'str'>\n",
            "Content of 'text': મહમ્મદ બિન તુગલકે\n",
            "Type of 'wrapped_text': <class 'str'>\n",
            "Content of 'wrapped_text': મહમ્મદ બિન તુગલકે\n",
            "Type of 'text': <class 'float'>\n",
            "Content of 'text': nan\n",
            "Type of 'wrapped_text': <class 'str'>\n",
            "Content of 'wrapped_text': nan\n",
            "Type of 'text': <class 'float'>\n",
            "Content of 'text': nan\n",
            "Type of 'wrapped_text': <class 'str'>\n",
            "Content of 'wrapped_text': nan\n",
            "Type of 'text': <class 'float'>\n",
            "Content of 'text': nan\n",
            "Type of 'wrapped_text': <class 'str'>\n",
            "Content of 'wrapped_text': nan\n",
            "Type of 'text': <class 'float'>\n",
            "Content of 'text': nan\n",
            "Type of 'wrapped_text': <class 'str'>\n",
            "Content of 'wrapped_text': nan\n",
            "Type of 'text': <class 'float'>\n",
            "Content of 'text': nan\n",
            "Type of 'wrapped_text': <class 'str'>\n",
            "Content of 'wrapped_text': nan\n",
            "Type of 'text': <class 'float'>\n",
            "Content of 'text': nan\n",
            "Type of 'wrapped_text': <class 'str'>\n",
            "Content of 'wrapped_text': nan\n",
            "Type of 'text': <class 'float'>\n",
            "Content of 'text': nan\n",
            "Type of 'wrapped_text': <class 'str'>\n",
            "Content of 'wrapped_text': nan\n",
            "Type of 'text': <class 'float'>\n",
            "Content of 'text': nan\n",
            "Type of 'wrapped_text': <class 'str'>\n",
            "Content of 'wrapped_text': nan\n",
            "Type of 'text': <class 'float'>\n",
            "Content of 'text': nan\n",
            "Type of 'wrapped_text': <class 'str'>\n",
            "Content of 'wrapped_text': nan\n",
            "Type of 'text': <class 'float'>\n",
            "Content of 'text': nan\n",
            "Type of 'wrapped_text': <class 'str'>\n",
            "Content of 'wrapped_text': nan\n",
            "Type of 'text': <class 'float'>\n",
            "Content of 'text': nan\n",
            "Type of 'wrapped_text': <class 'str'>\n",
            "Content of 'wrapped_text': nan\n",
            "Type of 'text': <class 'int'>\n",
            "Content of 'text': 4\n",
            "Type of 'wrapped_text': <class 'str'>\n",
            "Content of 'wrapped_text': 4\n",
            "Type of 'text': <class 'str'>\n",
            "Content of 'text': https://www.aakashportal.com/\n",
            "Type of 'wrapped_text': <class 'str'>\n",
            "Content of 'wrapped_text': https://www.aakashportal.com/\n",
            "Type of 'text': <class 'str'>\n",
            "Content of 'text': તલાટી અને જુનિયર કલાર્ક \n",
            "Type of 'wrapped_text': <class 'str'>\n",
            "Content of 'wrapped_text': તલાટી અને જુનિયર કલાર્ક\n",
            "Moviepy - Building video Gyan_Dariyo_video_3.mp4.\n",
            "MoviePy - Writing audio in Gyan_Dariyo_video_3TEMP_MPY_wvf_snd.mp4\n"
          ]
        },
        {
          "output_type": "stream",
          "name": "stderr",
          "text": []
        },
        {
          "output_type": "stream",
          "name": "stdout",
          "text": [
            "MoviePy - Done.\n",
            "Moviepy - Writing video Gyan_Dariyo_video_3.mp4\n",
            "\n"
          ]
        },
        {
          "output_type": "stream",
          "name": "stderr",
          "text": []
        },
        {
          "output_type": "stream",
          "name": "stdout",
          "text": [
            "Moviepy - Done !\n",
            "Moviepy - video ready Gyan_Dariyo_video_3.mp4\n",
            "Video 3 created: Gyan_Dariyo_video_3.mp4\n",
            "Type of 'text': <class 'str'>\n",
            "Content of 'text': અંગ્રેજો નું પહેલું જહાજ ભારતમાં કઇ સાલમાં આવ્યું ?\n",
            "Type of 'wrapped_text': <class 'str'>\n",
            "Content of 'wrapped_text': અંગ્રેજો નું પહેલું જહાજ ભારતમાં કઇ\n",
            "સાલમાં આવ્યું ?\n",
            "Type of 'text': <class 'str'>\n",
            "Content of 'text': multiple-choice\n",
            "Type of 'wrapped_text': <class 'str'>\n",
            "Content of 'wrapped_text': multiple-choice\n",
            "Type of 'text': <class 'str'>\n",
            "Content of 'text': 1610\n",
            "Type of 'wrapped_text': <class 'str'>\n",
            "Content of 'wrapped_text': 1610\n",
            "Type of 'text': <class 'str'>\n",
            "Content of 'text': 1600\n",
            "Type of 'wrapped_text': <class 'str'>\n",
            "Content of 'wrapped_text': 1600\n",
            "Type of 'text': <class 'str'>\n",
            "Content of 'text': 1608\n",
            "Type of 'wrapped_text': <class 'str'>\n",
            "Content of 'wrapped_text': 1608\n",
            "Type of 'text': <class 'str'>\n",
            "Content of 'text': 1611\n",
            "Type of 'wrapped_text': <class 'str'>\n",
            "Content of 'wrapped_text': 1611\n",
            "Type of 'text': <class 'float'>\n",
            "Content of 'text': nan\n",
            "Type of 'wrapped_text': <class 'str'>\n",
            "Content of 'wrapped_text': nan\n",
            "Type of 'text': <class 'float'>\n",
            "Content of 'text': nan\n",
            "Type of 'wrapped_text': <class 'str'>\n",
            "Content of 'wrapped_text': nan\n",
            "Type of 'text': <class 'float'>\n",
            "Content of 'text': nan\n",
            "Type of 'wrapped_text': <class 'str'>\n",
            "Content of 'wrapped_text': nan\n",
            "Type of 'text': <class 'float'>\n",
            "Content of 'text': nan\n",
            "Type of 'wrapped_text': <class 'str'>\n",
            "Content of 'wrapped_text': nan\n",
            "Type of 'text': <class 'float'>\n",
            "Content of 'text': nan\n",
            "Type of 'wrapped_text': <class 'str'>\n",
            "Content of 'wrapped_text': nan\n",
            "Type of 'text': <class 'float'>\n",
            "Content of 'text': nan\n",
            "Type of 'wrapped_text': <class 'str'>\n",
            "Content of 'wrapped_text': nan\n",
            "Type of 'text': <class 'float'>\n",
            "Content of 'text': nan\n",
            "Type of 'wrapped_text': <class 'str'>\n",
            "Content of 'wrapped_text': nan\n",
            "Type of 'text': <class 'float'>\n",
            "Content of 'text': nan\n",
            "Type of 'wrapped_text': <class 'str'>\n",
            "Content of 'wrapped_text': nan\n",
            "Type of 'text': <class 'float'>\n",
            "Content of 'text': nan\n",
            "Type of 'wrapped_text': <class 'str'>\n",
            "Content of 'wrapped_text': nan\n",
            "Type of 'text': <class 'float'>\n",
            "Content of 'text': nan\n",
            "Type of 'wrapped_text': <class 'str'>\n",
            "Content of 'wrapped_text': nan\n",
            "Type of 'text': <class 'float'>\n",
            "Content of 'text': nan\n",
            "Type of 'wrapped_text': <class 'str'>\n",
            "Content of 'wrapped_text': nan\n",
            "Type of 'text': <class 'int'>\n",
            "Content of 'text': 3\n",
            "Type of 'wrapped_text': <class 'str'>\n",
            "Content of 'wrapped_text': 3\n",
            "Type of 'text': <class 'str'>\n",
            "Content of 'text': https://www.aakashportal.com/\n",
            "Type of 'wrapped_text': <class 'str'>\n",
            "Content of 'wrapped_text': https://www.aakashportal.com/\n",
            "Type of 'text': <class 'str'>\n",
            "Content of 'text': તલાટી અને જુનિયર કલાર્ક \n",
            "Type of 'wrapped_text': <class 'str'>\n",
            "Content of 'wrapped_text': તલાટી અને જુનિયર કલાર્ક\n",
            "Moviepy - Building video Gyan_Dariyo_video_4.mp4.\n",
            "MoviePy - Writing audio in Gyan_Dariyo_video_4TEMP_MPY_wvf_snd.mp4\n"
          ]
        },
        {
          "output_type": "stream",
          "name": "stderr",
          "text": []
        },
        {
          "output_type": "stream",
          "name": "stdout",
          "text": [
            "MoviePy - Done.\n",
            "Moviepy - Writing video Gyan_Dariyo_video_4.mp4\n",
            "\n"
          ]
        },
        {
          "output_type": "stream",
          "name": "stderr",
          "text": []
        },
        {
          "output_type": "stream",
          "name": "stdout",
          "text": [
            "Moviepy - Done !\n",
            "Moviepy - video ready Gyan_Dariyo_video_4.mp4\n",
            "Video 4 created: Gyan_Dariyo_video_4.mp4\n",
            "Type of 'text': <class 'str'>\n",
            "Content of 'text': સ્વામી વિવેકાનંદ નું મૂળ નામ શું હતું ?\n",
            "Type of 'wrapped_text': <class 'str'>\n",
            "Content of 'wrapped_text': સ્વામી વિવેકાનંદ નું મૂળ નામ શું હતું ?\n",
            "Type of 'text': <class 'str'>\n",
            "Content of 'text': multiple-choice\n",
            "Type of 'wrapped_text': <class 'str'>\n",
            "Content of 'wrapped_text': multiple-choice\n",
            "Type of 'text': <class 'str'>\n",
            "Content of 'text': સુરેન્દ્રનાથ\n",
            "Type of 'wrapped_text': <class 'str'>\n",
            "Content of 'wrapped_text': સુરેન્દ્રનાથ\n",
            "Type of 'text': <class 'str'>\n",
            "Content of 'text': રવીન્દ્રનાથ\n",
            "Type of 'wrapped_text': <class 'str'>\n",
            "Content of 'wrapped_text': રવીન્દ્રનાથ\n",
            "Type of 'text': <class 'str'>\n",
            "Content of 'text': રામકૃષ્ણ\n",
            "Type of 'wrapped_text': <class 'str'>\n",
            "Content of 'wrapped_text': રામકૃષ્ણ\n",
            "Type of 'text': <class 'str'>\n",
            "Content of 'text': નરેન્દ્રનાથ\n",
            "Type of 'wrapped_text': <class 'str'>\n",
            "Content of 'wrapped_text': નરેન્દ્રનાથ\n",
            "Type of 'text': <class 'float'>\n",
            "Content of 'text': nan\n",
            "Type of 'wrapped_text': <class 'str'>\n",
            "Content of 'wrapped_text': nan\n",
            "Type of 'text': <class 'float'>\n",
            "Content of 'text': nan\n",
            "Type of 'wrapped_text': <class 'str'>\n",
            "Content of 'wrapped_text': nan\n",
            "Type of 'text': <class 'float'>\n",
            "Content of 'text': nan\n",
            "Type of 'wrapped_text': <class 'str'>\n",
            "Content of 'wrapped_text': nan\n",
            "Type of 'text': <class 'float'>\n",
            "Content of 'text': nan\n",
            "Type of 'wrapped_text': <class 'str'>\n",
            "Content of 'wrapped_text': nan\n",
            "Type of 'text': <class 'float'>\n",
            "Content of 'text': nan\n",
            "Type of 'wrapped_text': <class 'str'>\n",
            "Content of 'wrapped_text': nan\n",
            "Type of 'text': <class 'float'>\n",
            "Content of 'text': nan\n",
            "Type of 'wrapped_text': <class 'str'>\n",
            "Content of 'wrapped_text': nan\n",
            "Type of 'text': <class 'float'>\n",
            "Content of 'text': nan\n",
            "Type of 'wrapped_text': <class 'str'>\n",
            "Content of 'wrapped_text': nan\n",
            "Type of 'text': <class 'float'>\n",
            "Content of 'text': nan\n",
            "Type of 'wrapped_text': <class 'str'>\n",
            "Content of 'wrapped_text': nan\n",
            "Type of 'text': <class 'float'>\n",
            "Content of 'text': nan\n",
            "Type of 'wrapped_text': <class 'str'>\n",
            "Content of 'wrapped_text': nan\n",
            "Type of 'text': <class 'float'>\n",
            "Content of 'text': nan\n",
            "Type of 'wrapped_text': <class 'str'>\n",
            "Content of 'wrapped_text': nan\n",
            "Type of 'text': <class 'float'>\n",
            "Content of 'text': nan\n",
            "Type of 'wrapped_text': <class 'str'>\n",
            "Content of 'wrapped_text': nan\n",
            "Type of 'text': <class 'int'>\n",
            "Content of 'text': 4\n",
            "Type of 'wrapped_text': <class 'str'>\n",
            "Content of 'wrapped_text': 4\n",
            "Type of 'text': <class 'str'>\n",
            "Content of 'text': https://www.aakashportal.com/\n",
            "Type of 'wrapped_text': <class 'str'>\n",
            "Content of 'wrapped_text': https://www.aakashportal.com/\n",
            "Type of 'text': <class 'str'>\n",
            "Content of 'text': તલાટી અને જુનિયર કલાર્ક \n",
            "Type of 'wrapped_text': <class 'str'>\n",
            "Content of 'wrapped_text': તલાટી અને જુનિયર કલાર્ક\n",
            "Moviepy - Building video Gyan_Dariyo_video_5.mp4.\n",
            "MoviePy - Writing audio in Gyan_Dariyo_video_5TEMP_MPY_wvf_snd.mp4\n"
          ]
        },
        {
          "output_type": "stream",
          "name": "stderr",
          "text": []
        },
        {
          "output_type": "stream",
          "name": "stdout",
          "text": [
            "MoviePy - Done.\n",
            "Moviepy - Writing video Gyan_Dariyo_video_5.mp4\n",
            "\n"
          ]
        },
        {
          "output_type": "stream",
          "name": "stderr",
          "text": []
        },
        {
          "output_type": "stream",
          "name": "stdout",
          "text": [
            "Moviepy - Done !\n",
            "Moviepy - video ready Gyan_Dariyo_video_5.mp4\n",
            "Video 5 created: Gyan_Dariyo_video_5.mp4\n",
            "Type of 'text': <class 'str'>\n",
            "Content of 'text': સલ્તનત કાળ દરમ્યાન સૌપ્રથમ કયા વંશ ની સ્થાપના થઇ હતી ?\n",
            "Type of 'wrapped_text': <class 'str'>\n",
            "Content of 'wrapped_text': સલ્તનત કાળ દરમ્યાન સૌપ્રથમ કયા વંશ ની\n",
            "સ્થાપના થઇ હતી ?\n",
            "Type of 'text': <class 'str'>\n",
            "Content of 'text': multiple-choice\n",
            "Type of 'wrapped_text': <class 'str'>\n",
            "Content of 'wrapped_text': multiple-choice\n",
            "Type of 'text': <class 'str'>\n",
            "Content of 'text': ખીલજી વંશ\n",
            "Type of 'wrapped_text': <class 'str'>\n",
            "Content of 'wrapped_text': ખીલજી વંશ\n",
            "Type of 'text': <class 'str'>\n",
            "Content of 'text': તુઘલક વંશ\n",
            "Type of 'wrapped_text': <class 'str'>\n",
            "Content of 'wrapped_text': તુઘલક વંશ\n",
            "Type of 'text': <class 'str'>\n",
            "Content of 'text': ગુલામ વંશ\n",
            "Type of 'wrapped_text': <class 'str'>\n",
            "Content of 'wrapped_text': ગુલામ વંશ\n",
            "Type of 'text': <class 'str'>\n",
            "Content of 'text': લોદી વંશ\n",
            "Type of 'wrapped_text': <class 'str'>\n",
            "Content of 'wrapped_text': લોદી વંશ\n",
            "Type of 'text': <class 'float'>\n",
            "Content of 'text': nan\n",
            "Type of 'wrapped_text': <class 'str'>\n",
            "Content of 'wrapped_text': nan\n",
            "Type of 'text': <class 'float'>\n",
            "Content of 'text': nan\n",
            "Type of 'wrapped_text': <class 'str'>\n",
            "Content of 'wrapped_text': nan\n",
            "Type of 'text': <class 'float'>\n",
            "Content of 'text': nan\n",
            "Type of 'wrapped_text': <class 'str'>\n",
            "Content of 'wrapped_text': nan\n",
            "Type of 'text': <class 'float'>\n",
            "Content of 'text': nan\n",
            "Type of 'wrapped_text': <class 'str'>\n",
            "Content of 'wrapped_text': nan\n",
            "Type of 'text': <class 'float'>\n",
            "Content of 'text': nan\n",
            "Type of 'wrapped_text': <class 'str'>\n",
            "Content of 'wrapped_text': nan\n",
            "Type of 'text': <class 'float'>\n",
            "Content of 'text': nan\n",
            "Type of 'wrapped_text': <class 'str'>\n",
            "Content of 'wrapped_text': nan\n",
            "Type of 'text': <class 'float'>\n",
            "Content of 'text': nan\n",
            "Type of 'wrapped_text': <class 'str'>\n",
            "Content of 'wrapped_text': nan\n",
            "Type of 'text': <class 'float'>\n",
            "Content of 'text': nan\n",
            "Type of 'wrapped_text': <class 'str'>\n",
            "Content of 'wrapped_text': nan\n",
            "Type of 'text': <class 'float'>\n",
            "Content of 'text': nan\n",
            "Type of 'wrapped_text': <class 'str'>\n",
            "Content of 'wrapped_text': nan\n",
            "Type of 'text': <class 'float'>\n",
            "Content of 'text': nan\n",
            "Type of 'wrapped_text': <class 'str'>\n",
            "Content of 'wrapped_text': nan\n",
            "Type of 'text': <class 'float'>\n",
            "Content of 'text': nan\n",
            "Type of 'wrapped_text': <class 'str'>\n",
            "Content of 'wrapped_text': nan\n",
            "Type of 'text': <class 'int'>\n",
            "Content of 'text': 3\n",
            "Type of 'wrapped_text': <class 'str'>\n",
            "Content of 'wrapped_text': 3\n",
            "Type of 'text': <class 'str'>\n",
            "Content of 'text': https://www.aakashportal.com/\n",
            "Type of 'wrapped_text': <class 'str'>\n",
            "Content of 'wrapped_text': https://www.aakashportal.com/\n",
            "Type of 'text': <class 'str'>\n",
            "Content of 'text': તલાટી અને જુનિયર કલાર્ક \n",
            "Type of 'wrapped_text': <class 'str'>\n",
            "Content of 'wrapped_text': તલાટી અને જુનિયર કલાર્ક\n",
            "Moviepy - Building video Gyan_Dariyo_video_6.mp4.\n",
            "MoviePy - Writing audio in Gyan_Dariyo_video_6TEMP_MPY_wvf_snd.mp4\n"
          ]
        },
        {
          "output_type": "stream",
          "name": "stderr",
          "text": []
        },
        {
          "output_type": "stream",
          "name": "stdout",
          "text": [
            "MoviePy - Done.\n",
            "Moviepy - Writing video Gyan_Dariyo_video_6.mp4\n",
            "\n"
          ]
        },
        {
          "output_type": "stream",
          "name": "stderr",
          "text": []
        },
        {
          "output_type": "stream",
          "name": "stdout",
          "text": [
            "Moviepy - Done !\n",
            "Moviepy - video ready Gyan_Dariyo_video_6.mp4\n",
            "Video 6 created: Gyan_Dariyo_video_6.mp4\n",
            "Type of 'text': <class 'str'>\n",
            "Content of 'text': કલકત્તામાં એશિયાટિક સોસાયટીની સ્થાપના સમયે બંગાળના ગવર્નર જનરલ કોણ હતા ?\n",
            "Type of 'wrapped_text': <class 'str'>\n",
            "Content of 'wrapped_text': કલકત્તામાં એશિયાટિક સોસાયટીની સ્થાપના\n",
            "સમયે બંગાળના ગવર્નર જનરલ કોણ હતા ?\n",
            "Type of 'text': <class 'str'>\n",
            "Content of 'text': multiple-choice\n",
            "Type of 'wrapped_text': <class 'str'>\n",
            "Content of 'wrapped_text': multiple-choice\n",
            "Type of 'text': <class 'str'>\n",
            "Content of 'text': કોનૅવોલીસ\n",
            "Type of 'wrapped_text': <class 'str'>\n",
            "Content of 'wrapped_text': કોનૅવોલીસ\n",
            "Type of 'text': <class 'str'>\n",
            "Content of 'text': વિલિયમ બેન્ટિક\n",
            "Type of 'wrapped_text': <class 'str'>\n",
            "Content of 'wrapped_text': વિલિયમ બેન્ટિક\n",
            "Type of 'text': <class 'str'>\n",
            "Content of 'text': વોરન હેસ્ટીંગ્સ\n",
            "Type of 'wrapped_text': <class 'str'>\n",
            "Content of 'wrapped_text': વોરન હેસ્ટીંગ્સ\n",
            "Type of 'text': <class 'str'>\n",
            "Content of 'text': વેલેસ્લી\n",
            "Type of 'wrapped_text': <class 'str'>\n",
            "Content of 'wrapped_text': વેલેસ્લી\n",
            "Type of 'text': <class 'float'>\n",
            "Content of 'text': nan\n",
            "Type of 'wrapped_text': <class 'str'>\n",
            "Content of 'wrapped_text': nan\n",
            "Type of 'text': <class 'float'>\n",
            "Content of 'text': nan\n",
            "Type of 'wrapped_text': <class 'str'>\n",
            "Content of 'wrapped_text': nan\n",
            "Type of 'text': <class 'float'>\n",
            "Content of 'text': nan\n",
            "Type of 'wrapped_text': <class 'str'>\n",
            "Content of 'wrapped_text': nan\n",
            "Type of 'text': <class 'float'>\n",
            "Content of 'text': nan\n",
            "Type of 'wrapped_text': <class 'str'>\n",
            "Content of 'wrapped_text': nan\n",
            "Type of 'text': <class 'float'>\n",
            "Content of 'text': nan\n",
            "Type of 'wrapped_text': <class 'str'>\n",
            "Content of 'wrapped_text': nan\n",
            "Type of 'text': <class 'float'>\n",
            "Content of 'text': nan\n",
            "Type of 'wrapped_text': <class 'str'>\n",
            "Content of 'wrapped_text': nan\n",
            "Type of 'text': <class 'float'>\n",
            "Content of 'text': nan\n",
            "Type of 'wrapped_text': <class 'str'>\n",
            "Content of 'wrapped_text': nan\n",
            "Type of 'text': <class 'float'>\n",
            "Content of 'text': nan\n",
            "Type of 'wrapped_text': <class 'str'>\n",
            "Content of 'wrapped_text': nan\n",
            "Type of 'text': <class 'float'>\n",
            "Content of 'text': nan\n",
            "Type of 'wrapped_text': <class 'str'>\n",
            "Content of 'wrapped_text': nan\n",
            "Type of 'text': <class 'float'>\n",
            "Content of 'text': nan\n",
            "Type of 'wrapped_text': <class 'str'>\n",
            "Content of 'wrapped_text': nan\n",
            "Type of 'text': <class 'float'>\n",
            "Content of 'text': nan\n",
            "Type of 'wrapped_text': <class 'str'>\n",
            "Content of 'wrapped_text': nan\n",
            "Type of 'text': <class 'int'>\n",
            "Content of 'text': 3\n",
            "Type of 'wrapped_text': <class 'str'>\n",
            "Content of 'wrapped_text': 3\n",
            "Type of 'text': <class 'str'>\n",
            "Content of 'text': https://www.aakashportal.com/\n",
            "Type of 'wrapped_text': <class 'str'>\n",
            "Content of 'wrapped_text': https://www.aakashportal.com/\n",
            "Type of 'text': <class 'str'>\n",
            "Content of 'text': તલાટી અને જુનિયર કલાર્ક \n",
            "Type of 'wrapped_text': <class 'str'>\n",
            "Content of 'wrapped_text': તલાટી અને જુનિયર કલાર્ક\n",
            "Moviepy - Building video Gyan_Dariyo_video_7.mp4.\n",
            "MoviePy - Writing audio in Gyan_Dariyo_video_7TEMP_MPY_wvf_snd.mp4\n"
          ]
        },
        {
          "output_type": "stream",
          "name": "stderr",
          "text": []
        },
        {
          "output_type": "stream",
          "name": "stdout",
          "text": [
            "MoviePy - Done.\n",
            "Moviepy - Writing video Gyan_Dariyo_video_7.mp4\n",
            "\n"
          ]
        },
        {
          "output_type": "stream",
          "name": "stderr",
          "text": []
        },
        {
          "output_type": "stream",
          "name": "stdout",
          "text": [
            "Moviepy - Done !\n",
            "Moviepy - video ready Gyan_Dariyo_video_7.mp4\n",
            "Video 7 created: Gyan_Dariyo_video_7.mp4\n",
            "Type of 'text': <class 'str'>\n",
            "Content of 'text': Archaeological survey of India ની સ્થાપના ક્યારે થઇ ?\n",
            "Type of 'wrapped_text': <class 'str'>\n",
            "Content of 'wrapped_text': Archaeological survey of India ની\n",
            "સ્થાપના ક્યારે થઇ ?\n",
            "Type of 'text': <class 'str'>\n",
            "Content of 'text': multiple-choice\n",
            "Type of 'wrapped_text': <class 'str'>\n",
            "Content of 'wrapped_text': multiple-choice\n",
            "Type of 'text': <class 'str'>\n",
            "Content of 'text': 1958\n",
            "Type of 'wrapped_text': <class 'str'>\n",
            "Content of 'wrapped_text': 1958\n",
            "Type of 'text': <class 'str'>\n",
            "Content of 'text': 1861\n",
            "Type of 'wrapped_text': <class 'str'>\n",
            "Content of 'wrapped_text': 1861\n",
            "Type of 'text': <class 'str'>\n",
            "Content of 'text': 1941\n",
            "Type of 'wrapped_text': <class 'str'>\n",
            "Content of 'wrapped_text': 1941\n",
            "Type of 'text': <class 'str'>\n",
            "Content of 'text': 1920\n",
            "Type of 'wrapped_text': <class 'str'>\n",
            "Content of 'wrapped_text': 1920\n",
            "Type of 'text': <class 'float'>\n",
            "Content of 'text': nan\n",
            "Type of 'wrapped_text': <class 'str'>\n",
            "Content of 'wrapped_text': nan\n",
            "Type of 'text': <class 'float'>\n",
            "Content of 'text': nan\n",
            "Type of 'wrapped_text': <class 'str'>\n",
            "Content of 'wrapped_text': nan\n",
            "Type of 'text': <class 'float'>\n",
            "Content of 'text': nan\n",
            "Type of 'wrapped_text': <class 'str'>\n",
            "Content of 'wrapped_text': nan\n",
            "Type of 'text': <class 'float'>\n",
            "Content of 'text': nan\n",
            "Type of 'wrapped_text': <class 'str'>\n",
            "Content of 'wrapped_text': nan\n",
            "Type of 'text': <class 'float'>\n",
            "Content of 'text': nan\n",
            "Type of 'wrapped_text': <class 'str'>\n",
            "Content of 'wrapped_text': nan\n",
            "Type of 'text': <class 'float'>\n",
            "Content of 'text': nan\n",
            "Type of 'wrapped_text': <class 'str'>\n",
            "Content of 'wrapped_text': nan\n",
            "Type of 'text': <class 'float'>\n",
            "Content of 'text': nan\n",
            "Type of 'wrapped_text': <class 'str'>\n",
            "Content of 'wrapped_text': nan\n",
            "Type of 'text': <class 'float'>\n",
            "Content of 'text': nan\n",
            "Type of 'wrapped_text': <class 'str'>\n",
            "Content of 'wrapped_text': nan\n",
            "Type of 'text': <class 'float'>\n",
            "Content of 'text': nan\n",
            "Type of 'wrapped_text': <class 'str'>\n",
            "Content of 'wrapped_text': nan\n",
            "Type of 'text': <class 'float'>\n",
            "Content of 'text': nan\n",
            "Type of 'wrapped_text': <class 'str'>\n",
            "Content of 'wrapped_text': nan\n",
            "Type of 'text': <class 'float'>\n",
            "Content of 'text': nan\n",
            "Type of 'wrapped_text': <class 'str'>\n",
            "Content of 'wrapped_text': nan\n",
            "Type of 'text': <class 'int'>\n",
            "Content of 'text': 2\n",
            "Type of 'wrapped_text': <class 'str'>\n",
            "Content of 'wrapped_text': 2\n",
            "Type of 'text': <class 'str'>\n",
            "Content of 'text': https://www.aakashportal.com/\n",
            "Type of 'wrapped_text': <class 'str'>\n",
            "Content of 'wrapped_text': https://www.aakashportal.com/\n",
            "Type of 'text': <class 'str'>\n",
            "Content of 'text': તલાટી અને જુનિયર કલાર્ક \n",
            "Type of 'wrapped_text': <class 'str'>\n",
            "Content of 'wrapped_text': તલાટી અને જુનિયર કલાર્ક\n",
            "Moviepy - Building video Gyan_Dariyo_video_8.mp4.\n",
            "MoviePy - Writing audio in Gyan_Dariyo_video_8TEMP_MPY_wvf_snd.mp4\n"
          ]
        },
        {
          "output_type": "stream",
          "name": "stderr",
          "text": []
        },
        {
          "output_type": "stream",
          "name": "stdout",
          "text": [
            "MoviePy - Done.\n",
            "Moviepy - Writing video Gyan_Dariyo_video_8.mp4\n",
            "\n"
          ]
        },
        {
          "output_type": "stream",
          "name": "stderr",
          "text": []
        },
        {
          "output_type": "stream",
          "name": "stdout",
          "text": [
            "Moviepy - Done !\n",
            "Moviepy - video ready Gyan_Dariyo_video_8.mp4\n",
            "Video 8 created: Gyan_Dariyo_video_8.mp4\n",
            "Type of 'text': <class 'str'>\n",
            "Content of 'text': અલંકાર ઓળખાવો : મેં સાદ કીધો, લીધો ના તે કાન\n",
            "Type of 'wrapped_text': <class 'str'>\n",
            "Content of 'wrapped_text': અલંકાર ઓળખાવો : મેં સાદ કીધો, લીધો ના તે\n",
            "કાન\n",
            "Type of 'text': <class 'str'>\n",
            "Content of 'text': multiple-choice\n",
            "Type of 'wrapped_text': <class 'str'>\n",
            "Content of 'wrapped_text': multiple-choice\n",
            "Type of 'text': <class 'str'>\n",
            "Content of 'text': અંત્યાનુપ્રાસ\n",
            "Type of 'wrapped_text': <class 'str'>\n",
            "Content of 'wrapped_text': અંત્યાનુપ્રાસ\n",
            "Type of 'text': <class 'str'>\n",
            "Content of 'text': આંતર પ્રાસ\n",
            "Type of 'wrapped_text': <class 'str'>\n",
            "Content of 'wrapped_text': આંતર પ્રાસ\n",
            "Type of 'text': <class 'str'>\n",
            "Content of 'text': ઉપમા\n",
            "Type of 'wrapped_text': <class 'str'>\n",
            "Content of 'wrapped_text': ઉપમા\n",
            "Type of 'text': <class 'str'>\n",
            "Content of 'text': સજીવારોપણ\n",
            "Type of 'wrapped_text': <class 'str'>\n",
            "Content of 'wrapped_text': સજીવારોપણ\n",
            "Type of 'text': <class 'float'>\n",
            "Content of 'text': nan\n",
            "Type of 'wrapped_text': <class 'str'>\n",
            "Content of 'wrapped_text': nan\n",
            "Type of 'text': <class 'float'>\n",
            "Content of 'text': nan\n",
            "Type of 'wrapped_text': <class 'str'>\n",
            "Content of 'wrapped_text': nan\n",
            "Type of 'text': <class 'float'>\n",
            "Content of 'text': nan\n",
            "Type of 'wrapped_text': <class 'str'>\n",
            "Content of 'wrapped_text': nan\n",
            "Type of 'text': <class 'float'>\n",
            "Content of 'text': nan\n",
            "Type of 'wrapped_text': <class 'str'>\n",
            "Content of 'wrapped_text': nan\n",
            "Type of 'text': <class 'float'>\n",
            "Content of 'text': nan\n",
            "Type of 'wrapped_text': <class 'str'>\n",
            "Content of 'wrapped_text': nan\n",
            "Type of 'text': <class 'float'>\n",
            "Content of 'text': nan\n",
            "Type of 'wrapped_text': <class 'str'>\n",
            "Content of 'wrapped_text': nan\n",
            "Type of 'text': <class 'float'>\n",
            "Content of 'text': nan\n",
            "Type of 'wrapped_text': <class 'str'>\n",
            "Content of 'wrapped_text': nan\n",
            "Type of 'text': <class 'float'>\n",
            "Content of 'text': nan\n",
            "Type of 'wrapped_text': <class 'str'>\n",
            "Content of 'wrapped_text': nan\n",
            "Type of 'text': <class 'float'>\n",
            "Content of 'text': nan\n",
            "Type of 'wrapped_text': <class 'str'>\n",
            "Content of 'wrapped_text': nan\n",
            "Type of 'text': <class 'float'>\n",
            "Content of 'text': nan\n",
            "Type of 'wrapped_text': <class 'str'>\n",
            "Content of 'wrapped_text': nan\n",
            "Type of 'text': <class 'float'>\n",
            "Content of 'text': nan\n",
            "Type of 'wrapped_text': <class 'str'>\n",
            "Content of 'wrapped_text': nan\n",
            "Type of 'text': <class 'int'>\n",
            "Content of 'text': 2\n",
            "Type of 'wrapped_text': <class 'str'>\n",
            "Content of 'wrapped_text': 2\n",
            "Type of 'text': <class 'str'>\n",
            "Content of 'text': https://www.aakashportal.com/\n",
            "Type of 'wrapped_text': <class 'str'>\n",
            "Content of 'wrapped_text': https://www.aakashportal.com/\n",
            "Type of 'text': <class 'str'>\n",
            "Content of 'text': તલાટી અને જુનિયર કલાર્ક \n",
            "Type of 'wrapped_text': <class 'str'>\n",
            "Content of 'wrapped_text': તલાટી અને જુનિયર કલાર્ક\n",
            "Moviepy - Building video Gyan_Dariyo_video_9.mp4.\n",
            "MoviePy - Writing audio in Gyan_Dariyo_video_9TEMP_MPY_wvf_snd.mp4\n"
          ]
        },
        {
          "output_type": "stream",
          "name": "stderr",
          "text": []
        },
        {
          "output_type": "stream",
          "name": "stdout",
          "text": [
            "MoviePy - Done.\n",
            "Moviepy - Writing video Gyan_Dariyo_video_9.mp4\n",
            "\n"
          ]
        },
        {
          "output_type": "stream",
          "name": "stderr",
          "text": []
        },
        {
          "output_type": "stream",
          "name": "stdout",
          "text": [
            "Moviepy - Done !\n",
            "Moviepy - video ready Gyan_Dariyo_video_9.mp4\n",
            "Video 9 created: Gyan_Dariyo_video_9.mp4\n",
            "Type of 'text': <class 'str'>\n",
            "Content of 'text': સમાસ ઓળખાવો : વરદાન\n",
            "Type of 'wrapped_text': <class 'str'>\n",
            "Content of 'wrapped_text': સમાસ ઓળખાવો : વરદાન\n",
            "Type of 'text': <class 'str'>\n",
            "Content of 'text': multiple-choice\n",
            "Type of 'wrapped_text': <class 'str'>\n",
            "Content of 'wrapped_text': multiple-choice\n",
            "Type of 'text': <class 'str'>\n",
            "Content of 'text': કર્મધારય\n",
            "Type of 'wrapped_text': <class 'str'>\n",
            "Content of 'wrapped_text': કર્મધારય\n",
            "Type of 'text': <class 'str'>\n",
            "Content of 'text': દ્વિગુ\n",
            "Type of 'wrapped_text': <class 'str'>\n",
            "Content of 'wrapped_text': દ્વિગુ\n",
            "Type of 'text': <class 'str'>\n",
            "Content of 'text': મધ્યમપદલોપી\n",
            "Type of 'wrapped_text': <class 'str'>\n",
            "Content of 'wrapped_text': મધ્યમપદલોપી\n",
            "Type of 'text': <class 'str'>\n",
            "Content of 'text': ઉપપદ\n",
            "Type of 'wrapped_text': <class 'str'>\n",
            "Content of 'wrapped_text': ઉપપદ\n",
            "Type of 'text': <class 'float'>\n",
            "Content of 'text': nan\n",
            "Type of 'wrapped_text': <class 'str'>\n",
            "Content of 'wrapped_text': nan\n",
            "Type of 'text': <class 'float'>\n",
            "Content of 'text': nan\n",
            "Type of 'wrapped_text': <class 'str'>\n",
            "Content of 'wrapped_text': nan\n",
            "Type of 'text': <class 'float'>\n",
            "Content of 'text': nan\n",
            "Type of 'wrapped_text': <class 'str'>\n",
            "Content of 'wrapped_text': nan\n",
            "Type of 'text': <class 'float'>\n",
            "Content of 'text': nan\n",
            "Type of 'wrapped_text': <class 'str'>\n",
            "Content of 'wrapped_text': nan\n",
            "Type of 'text': <class 'float'>\n",
            "Content of 'text': nan\n",
            "Type of 'wrapped_text': <class 'str'>\n",
            "Content of 'wrapped_text': nan\n",
            "Type of 'text': <class 'float'>\n",
            "Content of 'text': nan\n",
            "Type of 'wrapped_text': <class 'str'>\n",
            "Content of 'wrapped_text': nan\n",
            "Type of 'text': <class 'float'>\n",
            "Content of 'text': nan\n",
            "Type of 'wrapped_text': <class 'str'>\n",
            "Content of 'wrapped_text': nan\n",
            "Type of 'text': <class 'float'>\n",
            "Content of 'text': nan\n",
            "Type of 'wrapped_text': <class 'str'>\n",
            "Content of 'wrapped_text': nan\n",
            "Type of 'text': <class 'float'>\n",
            "Content of 'text': nan\n",
            "Type of 'wrapped_text': <class 'str'>\n",
            "Content of 'wrapped_text': nan\n",
            "Type of 'text': <class 'float'>\n",
            "Content of 'text': nan\n",
            "Type of 'wrapped_text': <class 'str'>\n",
            "Content of 'wrapped_text': nan\n",
            "Type of 'text': <class 'float'>\n",
            "Content of 'text': nan\n",
            "Type of 'wrapped_text': <class 'str'>\n",
            "Content of 'wrapped_text': nan\n",
            "Type of 'text': <class 'int'>\n",
            "Content of 'text': 1\n",
            "Type of 'wrapped_text': <class 'str'>\n",
            "Content of 'wrapped_text': 1\n",
            "Type of 'text': <class 'str'>\n",
            "Content of 'text': https://www.aakashportal.com/\n",
            "Type of 'wrapped_text': <class 'str'>\n",
            "Content of 'wrapped_text': https://www.aakashportal.com/\n",
            "Type of 'text': <class 'str'>\n",
            "Content of 'text': તલાટી અને જુનિયર કલાર્ક \n",
            "Type of 'wrapped_text': <class 'str'>\n",
            "Content of 'wrapped_text': તલાટી અને જુનિયર કલાર્ક\n",
            "Moviepy - Building video Gyan_Dariyo_video_10.mp4.\n",
            "MoviePy - Writing audio in Gyan_Dariyo_video_10TEMP_MPY_wvf_snd.mp4\n"
          ]
        },
        {
          "output_type": "stream",
          "name": "stderr",
          "text": []
        },
        {
          "output_type": "stream",
          "name": "stdout",
          "text": [
            "MoviePy - Done.\n",
            "Moviepy - Writing video Gyan_Dariyo_video_10.mp4\n",
            "\n"
          ]
        },
        {
          "output_type": "stream",
          "name": "stderr",
          "text": []
        },
        {
          "output_type": "stream",
          "name": "stdout",
          "text": [
            "Moviepy - Done !\n",
            "Moviepy - video ready Gyan_Dariyo_video_10.mp4\n",
            "Video 10 created: Gyan_Dariyo_video_10.mp4\n",
            "Type of 'text': <class 'str'>\n",
            "Content of 'text': સ્ત્રગ્ધરા છંદ નું બંધારણ જણાવો ?\n",
            "Type of 'wrapped_text': <class 'str'>\n",
            "Content of 'wrapped_text': સ્ત્રગ્ધરા છંદ નું બંધારણ જણાવો ?\n",
            "Type of 'text': <class 'str'>\n",
            "Content of 'text': multiple-choice\n",
            "Type of 'wrapped_text': <class 'str'>\n",
            "Content of 'wrapped_text': multiple-choice\n",
            "Type of 'text': <class 'str'>\n",
            "Content of 'text': મરનાભયયય\n",
            "Type of 'wrapped_text': <class 'str'>\n",
            "Content of 'wrapped_text': મરનાભયયય\n",
            "Type of 'text': <class 'str'>\n",
            "Content of 'text': મરભનયયય\n",
            "Type of 'wrapped_text': <class 'str'>\n",
            "Content of 'wrapped_text': મરભનયયય\n",
            "Type of 'text': <class 'str'>\n",
            "Content of 'text': મરભયયયન\n",
            "Type of 'wrapped_text': <class 'str'>\n",
            "Content of 'wrapped_text': મરભયયયન\n",
            "Type of 'text': <class 'str'>\n",
            "Content of 'text': મરયયયભન\n",
            "Type of 'wrapped_text': <class 'str'>\n",
            "Content of 'wrapped_text': મરયયયભન\n",
            "Type of 'text': <class 'float'>\n",
            "Content of 'text': nan\n",
            "Type of 'wrapped_text': <class 'str'>\n",
            "Content of 'wrapped_text': nan\n",
            "Type of 'text': <class 'float'>\n",
            "Content of 'text': nan\n",
            "Type of 'wrapped_text': <class 'str'>\n",
            "Content of 'wrapped_text': nan\n",
            "Type of 'text': <class 'float'>\n",
            "Content of 'text': nan\n",
            "Type of 'wrapped_text': <class 'str'>\n",
            "Content of 'wrapped_text': nan\n",
            "Type of 'text': <class 'float'>\n",
            "Content of 'text': nan\n",
            "Type of 'wrapped_text': <class 'str'>\n",
            "Content of 'wrapped_text': nan\n",
            "Type of 'text': <class 'float'>\n",
            "Content of 'text': nan\n",
            "Type of 'wrapped_text': <class 'str'>\n",
            "Content of 'wrapped_text': nan\n",
            "Type of 'text': <class 'float'>\n",
            "Content of 'text': nan\n",
            "Type of 'wrapped_text': <class 'str'>\n",
            "Content of 'wrapped_text': nan\n",
            "Type of 'text': <class 'float'>\n",
            "Content of 'text': nan\n",
            "Type of 'wrapped_text': <class 'str'>\n",
            "Content of 'wrapped_text': nan\n",
            "Type of 'text': <class 'float'>\n",
            "Content of 'text': nan\n",
            "Type of 'wrapped_text': <class 'str'>\n",
            "Content of 'wrapped_text': nan\n",
            "Type of 'text': <class 'float'>\n",
            "Content of 'text': nan\n",
            "Type of 'wrapped_text': <class 'str'>\n",
            "Content of 'wrapped_text': nan\n",
            "Type of 'text': <class 'float'>\n",
            "Content of 'text': nan\n",
            "Type of 'wrapped_text': <class 'str'>\n",
            "Content of 'wrapped_text': nan\n",
            "Type of 'text': <class 'float'>\n",
            "Content of 'text': nan\n",
            "Type of 'wrapped_text': <class 'str'>\n",
            "Content of 'wrapped_text': nan\n",
            "Type of 'text': <class 'int'>\n",
            "Content of 'text': 2\n",
            "Type of 'wrapped_text': <class 'str'>\n",
            "Content of 'wrapped_text': 2\n",
            "Type of 'text': <class 'str'>\n",
            "Content of 'text': https://www.aakashportal.com/\n",
            "Type of 'wrapped_text': <class 'str'>\n",
            "Content of 'wrapped_text': https://www.aakashportal.com/\n",
            "Type of 'text': <class 'str'>\n",
            "Content of 'text': તલાટી અને જુનિયર કલાર્ક \n",
            "Type of 'wrapped_text': <class 'str'>\n",
            "Content of 'wrapped_text': તલાટી અને જુનિયર કલાર્ક\n",
            "Moviepy - Building video Gyan_Dariyo_video_11.mp4.\n",
            "MoviePy - Writing audio in Gyan_Dariyo_video_11TEMP_MPY_wvf_snd.mp4\n"
          ]
        },
        {
          "output_type": "stream",
          "name": "stderr",
          "text": []
        },
        {
          "output_type": "stream",
          "name": "stdout",
          "text": [
            "MoviePy - Done.\n",
            "Moviepy - Writing video Gyan_Dariyo_video_11.mp4\n",
            "\n"
          ]
        },
        {
          "output_type": "stream",
          "name": "stderr",
          "text": []
        },
        {
          "output_type": "stream",
          "name": "stdout",
          "text": [
            "Moviepy - Done !\n",
            "Moviepy - video ready Gyan_Dariyo_video_11.mp4\n",
            "Video 11 created: Gyan_Dariyo_video_11.mp4\n",
            "Type of 'text': <class 'str'>\n",
            "Content of 'text': નિપાત ઓળખાવો : માતાજી ,મિથુન ફક્ત દવા કરશે.\n",
            "Type of 'wrapped_text': <class 'str'>\n",
            "Content of 'wrapped_text': નિપાત ઓળખાવો : માતાજી ,મિથુન ફક્ત દવા\n",
            "કરશે.\n",
            "Type of 'text': <class 'str'>\n",
            "Content of 'text': multiple-choice\n",
            "Type of 'wrapped_text': <class 'str'>\n",
            "Content of 'wrapped_text': multiple-choice\n",
            "Type of 'text': <class 'str'>\n",
            "Content of 'text': ની\n",
            "Type of 'wrapped_text': <class 'str'>\n",
            "Content of 'wrapped_text': ની\n",
            "Type of 'text': <class 'str'>\n",
            "Content of 'text': ફક્ત ની\n",
            "Type of 'wrapped_text': <class 'str'>\n",
            "Content of 'wrapped_text': ફક્ત ની\n",
            "Type of 'text': <class 'str'>\n",
            "Content of 'text': (B) અને (D) બંને\n",
            "Type of 'wrapped_text': <class 'str'>\n",
            "Content of 'wrapped_text': (B) અને (D) બંને\n",
            "Type of 'text': <class 'str'>\n",
            "Content of 'text': જી\n",
            "Type of 'wrapped_text': <class 'str'>\n",
            "Content of 'wrapped_text': જી\n",
            "Type of 'text': <class 'float'>\n",
            "Content of 'text': nan\n",
            "Type of 'wrapped_text': <class 'str'>\n",
            "Content of 'wrapped_text': nan\n",
            "Type of 'text': <class 'float'>\n",
            "Content of 'text': nan\n",
            "Type of 'wrapped_text': <class 'str'>\n",
            "Content of 'wrapped_text': nan\n",
            "Type of 'text': <class 'float'>\n",
            "Content of 'text': nan\n",
            "Type of 'wrapped_text': <class 'str'>\n",
            "Content of 'wrapped_text': nan\n",
            "Type of 'text': <class 'float'>\n",
            "Content of 'text': nan\n",
            "Type of 'wrapped_text': <class 'str'>\n",
            "Content of 'wrapped_text': nan\n",
            "Type of 'text': <class 'float'>\n",
            "Content of 'text': nan\n",
            "Type of 'wrapped_text': <class 'str'>\n",
            "Content of 'wrapped_text': nan\n",
            "Type of 'text': <class 'float'>\n",
            "Content of 'text': nan\n",
            "Type of 'wrapped_text': <class 'str'>\n",
            "Content of 'wrapped_text': nan\n",
            "Type of 'text': <class 'float'>\n",
            "Content of 'text': nan\n",
            "Type of 'wrapped_text': <class 'str'>\n",
            "Content of 'wrapped_text': nan\n",
            "Type of 'text': <class 'float'>\n",
            "Content of 'text': nan\n",
            "Type of 'wrapped_text': <class 'str'>\n",
            "Content of 'wrapped_text': nan\n",
            "Type of 'text': <class 'float'>\n",
            "Content of 'text': nan\n",
            "Type of 'wrapped_text': <class 'str'>\n",
            "Content of 'wrapped_text': nan\n",
            "Type of 'text': <class 'float'>\n",
            "Content of 'text': nan\n",
            "Type of 'wrapped_text': <class 'str'>\n",
            "Content of 'wrapped_text': nan\n",
            "Type of 'text': <class 'float'>\n",
            "Content of 'text': nan\n",
            "Type of 'wrapped_text': <class 'str'>\n",
            "Content of 'wrapped_text': nan\n",
            "Type of 'text': <class 'int'>\n",
            "Content of 'text': 3\n",
            "Type of 'wrapped_text': <class 'str'>\n",
            "Content of 'wrapped_text': 3\n",
            "Type of 'text': <class 'str'>\n",
            "Content of 'text': https://www.aakashportal.com/\n",
            "Type of 'wrapped_text': <class 'str'>\n",
            "Content of 'wrapped_text': https://www.aakashportal.com/\n",
            "Type of 'text': <class 'str'>\n",
            "Content of 'text': તલાટી અને જુનિયર કલાર્ક \n",
            "Type of 'wrapped_text': <class 'str'>\n",
            "Content of 'wrapped_text': તલાટી અને જુનિયર કલાર્ક\n",
            "Moviepy - Building video Gyan_Dariyo_video_12.mp4.\n",
            "MoviePy - Writing audio in Gyan_Dariyo_video_12TEMP_MPY_wvf_snd.mp4\n"
          ]
        },
        {
          "output_type": "stream",
          "name": "stderr",
          "text": []
        },
        {
          "output_type": "stream",
          "name": "stdout",
          "text": [
            "MoviePy - Done.\n",
            "Moviepy - Writing video Gyan_Dariyo_video_12.mp4\n",
            "\n"
          ]
        },
        {
          "output_type": "stream",
          "name": "stderr",
          "text": []
        },
        {
          "output_type": "stream",
          "name": "stdout",
          "text": [
            "Moviepy - Done !\n",
            "Moviepy - video ready Gyan_Dariyo_video_12.mp4\n",
            "Video 12 created: Gyan_Dariyo_video_12.mp4\n",
            "Type of 'text': <class 'str'>\n",
            "Content of 'text': સંધિ છોડો : આશીર્વાદ\n",
            "Type of 'wrapped_text': <class 'str'>\n",
            "Content of 'wrapped_text': સંધિ છોડો : આશીર્વાદ\n",
            "Type of 'text': <class 'str'>\n",
            "Content of 'text': multiple-choice\n",
            "Type of 'wrapped_text': <class 'str'>\n",
            "Content of 'wrapped_text': multiple-choice\n",
            "Type of 'text': <class 'str'>\n",
            "Content of 'text': આશિ: + વાદ\n",
            "Type of 'wrapped_text': <class 'str'>\n",
            "Content of 'wrapped_text': આશિ: + વાદ\n",
            "Type of 'text': <class 'str'>\n",
            "Content of 'text': આષિ: + વાદ\n",
            "Type of 'wrapped_text': <class 'str'>\n",
            "Content of 'wrapped_text': આષિ: + વાદ\n",
            "Type of 'text': <class 'str'>\n",
            "Content of 'text': આસિ: + વાદ\n",
            "Type of 'wrapped_text': <class 'str'>\n",
            "Content of 'wrapped_text': આસિ: + વાદ\n",
            "Type of 'text': <class 'str'>\n",
            "Content of 'text': આશિષ + વાદ\n",
            "Type of 'wrapped_text': <class 'str'>\n",
            "Content of 'wrapped_text': આશિષ + વાદ\n",
            "Type of 'text': <class 'float'>\n",
            "Content of 'text': nan\n",
            "Type of 'wrapped_text': <class 'str'>\n",
            "Content of 'wrapped_text': nan\n",
            "Type of 'text': <class 'float'>\n",
            "Content of 'text': nan\n",
            "Type of 'wrapped_text': <class 'str'>\n",
            "Content of 'wrapped_text': nan\n",
            "Type of 'text': <class 'float'>\n",
            "Content of 'text': nan\n",
            "Type of 'wrapped_text': <class 'str'>\n",
            "Content of 'wrapped_text': nan\n",
            "Type of 'text': <class 'float'>\n",
            "Content of 'text': nan\n",
            "Type of 'wrapped_text': <class 'str'>\n",
            "Content of 'wrapped_text': nan\n",
            "Type of 'text': <class 'float'>\n",
            "Content of 'text': nan\n",
            "Type of 'wrapped_text': <class 'str'>\n",
            "Content of 'wrapped_text': nan\n",
            "Type of 'text': <class 'float'>\n",
            "Content of 'text': nan\n",
            "Type of 'wrapped_text': <class 'str'>\n",
            "Content of 'wrapped_text': nan\n",
            "Type of 'text': <class 'float'>\n",
            "Content of 'text': nan\n",
            "Type of 'wrapped_text': <class 'str'>\n",
            "Content of 'wrapped_text': nan\n",
            "Type of 'text': <class 'float'>\n",
            "Content of 'text': nan\n",
            "Type of 'wrapped_text': <class 'str'>\n",
            "Content of 'wrapped_text': nan\n",
            "Type of 'text': <class 'float'>\n",
            "Content of 'text': nan\n",
            "Type of 'wrapped_text': <class 'str'>\n",
            "Content of 'wrapped_text': nan\n",
            "Type of 'text': <class 'float'>\n",
            "Content of 'text': nan\n",
            "Type of 'wrapped_text': <class 'str'>\n",
            "Content of 'wrapped_text': nan\n",
            "Type of 'text': <class 'float'>\n",
            "Content of 'text': nan\n",
            "Type of 'wrapped_text': <class 'str'>\n",
            "Content of 'wrapped_text': nan\n",
            "Type of 'text': <class 'int'>\n",
            "Content of 'text': 1\n",
            "Type of 'wrapped_text': <class 'str'>\n",
            "Content of 'wrapped_text': 1\n",
            "Type of 'text': <class 'str'>\n",
            "Content of 'text': https://www.aakashportal.com/\n",
            "Type of 'wrapped_text': <class 'str'>\n",
            "Content of 'wrapped_text': https://www.aakashportal.com/\n",
            "Type of 'text': <class 'str'>\n",
            "Content of 'text': તલાટી અને જુનિયર કલાર્ક \n",
            "Type of 'wrapped_text': <class 'str'>\n",
            "Content of 'wrapped_text': તલાટી અને જુનિયર કલાર્ક\n",
            "Moviepy - Building video Gyan_Dariyo_video_13.mp4.\n",
            "MoviePy - Writing audio in Gyan_Dariyo_video_13TEMP_MPY_wvf_snd.mp4\n"
          ]
        },
        {
          "output_type": "stream",
          "name": "stderr",
          "text": []
        },
        {
          "output_type": "stream",
          "name": "stdout",
          "text": [
            "MoviePy - Done.\n",
            "Moviepy - Writing video Gyan_Dariyo_video_13.mp4\n",
            "\n"
          ]
        },
        {
          "output_type": "stream",
          "name": "stderr",
          "text": []
        },
        {
          "output_type": "stream",
          "name": "stdout",
          "text": [
            "Moviepy - Done !\n",
            "Moviepy - video ready Gyan_Dariyo_video_13.mp4\n",
            "Video 13 created: Gyan_Dariyo_video_13.mp4\n",
            "Type of 'text': <class 'str'>\n",
            "Content of 'text':  નીચે આપેલ વાક્યમાંથી રેખાંકિત વિશેષણ નો પ્રકાર જણાવો.\n",
            "\n",
            "ભારતીય સંસ્કૃતિને જાળવવાની છે _______\n",
            "Type of 'wrapped_text': <class 'str'>\n",
            "Content of 'wrapped_text':  નીચે આપેલ વાક્યમાંથી રેખાંકિત વિશેષણ નો\n",
            "પ્રકાર જણાવો.  ભારતીય સંસ્કૃતિને\n",
            "જાળવવાની છે _______\n",
            "Type of 'text': <class 'str'>\n",
            "Content of 'text': multiple-choice\n",
            "Type of 'wrapped_text': <class 'str'>\n",
            "Content of 'wrapped_text': multiple-choice\n",
            "Type of 'text': <class 'str'>\n",
            "Content of 'text': ગુણવાચક\n",
            "Type of 'wrapped_text': <class 'str'>\n",
            "Content of 'wrapped_text': ગુણવાચક\n",
            "Type of 'text': <class 'str'>\n",
            "Content of 'text': આકાર વાચક\n",
            "Type of 'wrapped_text': <class 'str'>\n",
            "Content of 'wrapped_text': આકાર વાચક\n",
            "Type of 'text': <class 'str'>\n",
            "Content of 'text': સ્વાદ વાચક\n",
            "Type of 'wrapped_text': <class 'str'>\n",
            "Content of 'wrapped_text': સ્વાદ વાચક\n",
            "Type of 'text': <class 'str'>\n",
            "Content of 'text': કતૅ‌વાચક\n",
            "Type of 'wrapped_text': <class 'str'>\n",
            "Content of 'wrapped_text': કતૅ‌વાચક\n",
            "Type of 'text': <class 'float'>\n",
            "Content of 'text': nan\n",
            "Type of 'wrapped_text': <class 'str'>\n",
            "Content of 'wrapped_text': nan\n",
            "Type of 'text': <class 'float'>\n",
            "Content of 'text': nan\n",
            "Type of 'wrapped_text': <class 'str'>\n",
            "Content of 'wrapped_text': nan\n",
            "Type of 'text': <class 'float'>\n",
            "Content of 'text': nan\n",
            "Type of 'wrapped_text': <class 'str'>\n",
            "Content of 'wrapped_text': nan\n",
            "Type of 'text': <class 'float'>\n",
            "Content of 'text': nan\n",
            "Type of 'wrapped_text': <class 'str'>\n",
            "Content of 'wrapped_text': nan\n",
            "Type of 'text': <class 'float'>\n",
            "Content of 'text': nan\n",
            "Type of 'wrapped_text': <class 'str'>\n",
            "Content of 'wrapped_text': nan\n",
            "Type of 'text': <class 'float'>\n",
            "Content of 'text': nan\n",
            "Type of 'wrapped_text': <class 'str'>\n",
            "Content of 'wrapped_text': nan\n",
            "Type of 'text': <class 'float'>\n",
            "Content of 'text': nan\n",
            "Type of 'wrapped_text': <class 'str'>\n",
            "Content of 'wrapped_text': nan\n",
            "Type of 'text': <class 'float'>\n",
            "Content of 'text': nan\n",
            "Type of 'wrapped_text': <class 'str'>\n",
            "Content of 'wrapped_text': nan\n",
            "Type of 'text': <class 'float'>\n",
            "Content of 'text': nan\n",
            "Type of 'wrapped_text': <class 'str'>\n",
            "Content of 'wrapped_text': nan\n",
            "Type of 'text': <class 'float'>\n",
            "Content of 'text': nan\n",
            "Type of 'wrapped_text': <class 'str'>\n",
            "Content of 'wrapped_text': nan\n",
            "Type of 'text': <class 'float'>\n",
            "Content of 'text': nan\n",
            "Type of 'wrapped_text': <class 'str'>\n",
            "Content of 'wrapped_text': nan\n",
            "Type of 'text': <class 'int'>\n",
            "Content of 'text': 1\n",
            "Type of 'wrapped_text': <class 'str'>\n",
            "Content of 'wrapped_text': 1\n",
            "Type of 'text': <class 'str'>\n",
            "Content of 'text': https://www.aakashportal.com/\n",
            "Type of 'wrapped_text': <class 'str'>\n",
            "Content of 'wrapped_text': https://www.aakashportal.com/\n",
            "Type of 'text': <class 'str'>\n",
            "Content of 'text': તલાટી અને જુનિયર કલાર્ક \n",
            "Type of 'wrapped_text': <class 'str'>\n",
            "Content of 'wrapped_text': તલાટી અને જુનિયર કલાર્ક\n",
            "Moviepy - Building video Gyan_Dariyo_video_14.mp4.\n",
            "MoviePy - Writing audio in Gyan_Dariyo_video_14TEMP_MPY_wvf_snd.mp4\n"
          ]
        },
        {
          "output_type": "stream",
          "name": "stderr",
          "text": []
        },
        {
          "output_type": "stream",
          "name": "stdout",
          "text": [
            "MoviePy - Done.\n",
            "Moviepy - Writing video Gyan_Dariyo_video_14.mp4\n",
            "\n"
          ]
        },
        {
          "output_type": "stream",
          "name": "stderr",
          "text": [
            "t:  38%|███▊      | 354/937 [00:12<00:17, 32.58it/s, now=None]"
          ]
        },
        {
          "output_type": "error",
          "ename": "KeyboardInterrupt",
          "evalue": "",
          "traceback": [
            "\u001b[0;31m---------------------------------------------------------------------------\u001b[0m",
            "\u001b[0;31mKeyboardInterrupt\u001b[0m                         Traceback (most recent call last)",
            "\u001b[0;32m<ipython-input-5-f3fb4566b932>\u001b[0m in \u001b[0;36m<cell line: 89>\u001b[0;34m()\u001b[0m\n\u001b[1;32m     87\u001b[0m \u001b[0;34m\u001b[0m\u001b[0m\n\u001b[1;32m     88\u001b[0m \u001b[0mgyan_dariyo_creator\u001b[0m \u001b[0;34m=\u001b[0m \u001b[0mGyanDariyoVideoCreator\u001b[0m\u001b[0;34m(\u001b[0m\u001b[0mfile_path\u001b[0m\u001b[0;34m,\u001b[0m \u001b[0mfont_path\u001b[0m\u001b[0;34m)\u001b[0m\u001b[0;34m\u001b[0m\u001b[0;34m\u001b[0m\u001b[0m\n\u001b[0;32m---> 89\u001b[0;31m \u001b[0mgyan_dariyo_creator\u001b[0m\u001b[0;34m.\u001b[0m\u001b[0mcreate_final_video\u001b[0m\u001b[0;34m(\u001b[0m\u001b[0;34m)\u001b[0m\u001b[0;34m\u001b[0m\u001b[0;34m\u001b[0m\u001b[0m\n\u001b[0m",
            "\u001b[0;32m<ipython-input-5-f3fb4566b932>\u001b[0m in \u001b[0;36mcreate_final_video\u001b[0;34m(self)\u001b[0m\n\u001b[1;32m     73\u001b[0m             \u001b[0mimage\u001b[0m\u001b[0;34m,\u001b[0m \u001b[0mtext_to_speak\u001b[0m \u001b[0;34m=\u001b[0m \u001b[0mself\u001b[0m\u001b[0;34m.\u001b[0m\u001b[0mcreate_image\u001b[0m\u001b[0;34m(\u001b[0m\u001b[0mdata\u001b[0m\u001b[0;34m,\u001b[0m \u001b[0midx\u001b[0m\u001b[0;34m)\u001b[0m\u001b[0;34m\u001b[0m\u001b[0;34m\u001b[0m\u001b[0m\n\u001b[1;32m     74\u001b[0m             \u001b[0maudio_file_path\u001b[0m \u001b[0;34m=\u001b[0m \u001b[0mself\u001b[0m\u001b[0;34m.\u001b[0m\u001b[0mcreate_audio\u001b[0m\u001b[0;34m(\u001b[0m\u001b[0mtext_to_speak\u001b[0m\u001b[0;34m,\u001b[0m \u001b[0midx\u001b[0m\u001b[0;34m)\u001b[0m\u001b[0;34m\u001b[0m\u001b[0;34m\u001b[0m\u001b[0m\n\u001b[0;32m---> 75\u001b[0;31m             \u001b[0mvideo_file_path\u001b[0m \u001b[0;34m=\u001b[0m \u001b[0mself\u001b[0m\u001b[0;34m.\u001b[0m\u001b[0mcreate_video\u001b[0m\u001b[0;34m(\u001b[0m\u001b[0maudio_file_path\u001b[0m\u001b[0;34m,\u001b[0m \u001b[0;34mf\"Gyan_Dariyo_image_{idx + 1}.png\"\u001b[0m\u001b[0;34m,\u001b[0m \u001b[0midx\u001b[0m\u001b[0;34m)\u001b[0m\u001b[0;34m\u001b[0m\u001b[0;34m\u001b[0m\u001b[0m\n\u001b[0m\u001b[1;32m     76\u001b[0m             \u001b[0mvideo_list\u001b[0m\u001b[0;34m.\u001b[0m\u001b[0mappend\u001b[0m\u001b[0;34m(\u001b[0m\u001b[0mvideo_file_path\u001b[0m\u001b[0;34m)\u001b[0m\u001b[0;34m\u001b[0m\u001b[0;34m\u001b[0m\u001b[0m\n\u001b[1;32m     77\u001b[0m \u001b[0;34m\u001b[0m\u001b[0m\n",
            "\u001b[0;32m<ipython-input-5-f3fb4566b932>\u001b[0m in \u001b[0;36mcreate_video\u001b[0;34m(self, audio_file_path, image_path, idx)\u001b[0m\n\u001b[1;32m     63\u001b[0m         \u001b[0mvideo_clip\u001b[0m \u001b[0;34m=\u001b[0m \u001b[0mvideo_clip\u001b[0m\u001b[0;34m.\u001b[0m\u001b[0mset_fps\u001b[0m\u001b[0;34m(\u001b[0m\u001b[0mself\u001b[0m\u001b[0;34m.\u001b[0m\u001b[0mfps\u001b[0m\u001b[0;34m)\u001b[0m\u001b[0;34m\u001b[0m\u001b[0;34m\u001b[0m\u001b[0m\n\u001b[1;32m     64\u001b[0m         \u001b[0mvideo_file_path\u001b[0m \u001b[0;34m=\u001b[0m \u001b[0;34mf\"Gyan_Dariyo_video_{idx + 1}.mp4\"\u001b[0m\u001b[0;34m\u001b[0m\u001b[0;34m\u001b[0m\u001b[0m\n\u001b[0;32m---> 65\u001b[0;31m         \u001b[0mvideo_clip\u001b[0m\u001b[0;34m.\u001b[0m\u001b[0mwrite_videofile\u001b[0m\u001b[0;34m(\u001b[0m\u001b[0mvideo_file_path\u001b[0m\u001b[0;34m,\u001b[0m \u001b[0mcodec\u001b[0m\u001b[0;34m=\u001b[0m\u001b[0;34m\"libx264\"\u001b[0m\u001b[0;34m,\u001b[0m \u001b[0maudio_codec\u001b[0m\u001b[0;34m=\u001b[0m\u001b[0;34m\"aac\"\u001b[0m\u001b[0;34m)\u001b[0m\u001b[0;34m\u001b[0m\u001b[0;34m\u001b[0m\u001b[0m\n\u001b[0m\u001b[1;32m     66\u001b[0m         \u001b[0mprint\u001b[0m\u001b[0;34m(\u001b[0m\u001b[0;34mf\"Video {idx + 1} created: {video_file_path}\"\u001b[0m\u001b[0;34m)\u001b[0m\u001b[0;34m\u001b[0m\u001b[0;34m\u001b[0m\u001b[0m\n\u001b[1;32m     67\u001b[0m         \u001b[0;32mreturn\u001b[0m \u001b[0mvideo_file_path\u001b[0m\u001b[0;34m\u001b[0m\u001b[0;34m\u001b[0m\u001b[0m\n",
            "\u001b[0;32m<decorator-gen-172>\u001b[0m in \u001b[0;36mwrite_videofile\u001b[0;34m(self, filename, fps, codec, bitrate, audio, audio_fps, preset, audio_nbytes, audio_codec, audio_bitrate, audio_bufsize, temp_audiofile, rewrite_audio, remove_temp, write_logfile, verbose, threads, ffmpeg_params, logger)\u001b[0m\n",
            "\u001b[0;32m/usr/local/lib/python3.10/dist-packages/moviepy/decorators.py\u001b[0m in \u001b[0;36mrequires_duration\u001b[0;34m(f, clip, *a, **k)\u001b[0m\n\u001b[1;32m     52\u001b[0m         \u001b[0;32mraise\u001b[0m \u001b[0mValueError\u001b[0m\u001b[0;34m(\u001b[0m\u001b[0;34m\"Attribute 'duration' not set\"\u001b[0m\u001b[0;34m)\u001b[0m\u001b[0;34m\u001b[0m\u001b[0;34m\u001b[0m\u001b[0m\n\u001b[1;32m     53\u001b[0m     \u001b[0;32melse\u001b[0m\u001b[0;34m:\u001b[0m\u001b[0;34m\u001b[0m\u001b[0;34m\u001b[0m\u001b[0m\n\u001b[0;32m---> 54\u001b[0;31m         \u001b[0;32mreturn\u001b[0m \u001b[0mf\u001b[0m\u001b[0;34m(\u001b[0m\u001b[0mclip\u001b[0m\u001b[0;34m,\u001b[0m \u001b[0;34m*\u001b[0m\u001b[0ma\u001b[0m\u001b[0;34m,\u001b[0m \u001b[0;34m**\u001b[0m\u001b[0mk\u001b[0m\u001b[0;34m)\u001b[0m\u001b[0;34m\u001b[0m\u001b[0;34m\u001b[0m\u001b[0m\n\u001b[0m\u001b[1;32m     55\u001b[0m \u001b[0;34m\u001b[0m\u001b[0m\n\u001b[1;32m     56\u001b[0m \u001b[0;34m\u001b[0m\u001b[0m\n",
            "\u001b[0;32m<decorator-gen-171>\u001b[0m in \u001b[0;36mwrite_videofile\u001b[0;34m(self, filename, fps, codec, bitrate, audio, audio_fps, preset, audio_nbytes, audio_codec, audio_bitrate, audio_bufsize, temp_audiofile, rewrite_audio, remove_temp, write_logfile, verbose, threads, ffmpeg_params, logger)\u001b[0m\n",
            "\u001b[0;32m/usr/local/lib/python3.10/dist-packages/moviepy/decorators.py\u001b[0m in \u001b[0;36muse_clip_fps_by_default\u001b[0;34m(f, clip, *a, **k)\u001b[0m\n\u001b[1;32m    133\u001b[0m              for (k,v) in k.items()}\n\u001b[1;32m    134\u001b[0m \u001b[0;34m\u001b[0m\u001b[0m\n\u001b[0;32m--> 135\u001b[0;31m     \u001b[0;32mreturn\u001b[0m \u001b[0mf\u001b[0m\u001b[0;34m(\u001b[0m\u001b[0mclip\u001b[0m\u001b[0;34m,\u001b[0m \u001b[0;34m*\u001b[0m\u001b[0mnew_a\u001b[0m\u001b[0;34m,\u001b[0m \u001b[0;34m**\u001b[0m\u001b[0mnew_kw\u001b[0m\u001b[0;34m)\u001b[0m\u001b[0;34m\u001b[0m\u001b[0;34m\u001b[0m\u001b[0m\n\u001b[0m",
            "\u001b[0;32m<decorator-gen-170>\u001b[0m in \u001b[0;36mwrite_videofile\u001b[0;34m(self, filename, fps, codec, bitrate, audio, audio_fps, preset, audio_nbytes, audio_codec, audio_bitrate, audio_bufsize, temp_audiofile, rewrite_audio, remove_temp, write_logfile, verbose, threads, ffmpeg_params, logger)\u001b[0m\n",
            "\u001b[0;32m/usr/local/lib/python3.10/dist-packages/moviepy/decorators.py\u001b[0m in \u001b[0;36mconvert_masks_to_RGB\u001b[0;34m(f, clip, *a, **k)\u001b[0m\n\u001b[1;32m     20\u001b[0m     \u001b[0;32mif\u001b[0m \u001b[0mclip\u001b[0m\u001b[0;34m.\u001b[0m\u001b[0mismask\u001b[0m\u001b[0;34m:\u001b[0m\u001b[0;34m\u001b[0m\u001b[0;34m\u001b[0m\u001b[0m\n\u001b[1;32m     21\u001b[0m         \u001b[0mclip\u001b[0m \u001b[0;34m=\u001b[0m \u001b[0mclip\u001b[0m\u001b[0;34m.\u001b[0m\u001b[0mto_RGB\u001b[0m\u001b[0;34m(\u001b[0m\u001b[0;34m)\u001b[0m\u001b[0;34m\u001b[0m\u001b[0;34m\u001b[0m\u001b[0m\n\u001b[0;32m---> 22\u001b[0;31m     \u001b[0;32mreturn\u001b[0m \u001b[0mf\u001b[0m\u001b[0;34m(\u001b[0m\u001b[0mclip\u001b[0m\u001b[0;34m,\u001b[0m \u001b[0;34m*\u001b[0m\u001b[0ma\u001b[0m\u001b[0;34m,\u001b[0m \u001b[0;34m**\u001b[0m\u001b[0mk\u001b[0m\u001b[0;34m)\u001b[0m\u001b[0;34m\u001b[0m\u001b[0;34m\u001b[0m\u001b[0m\n\u001b[0m\u001b[1;32m     23\u001b[0m \u001b[0;34m\u001b[0m\u001b[0m\n\u001b[1;32m     24\u001b[0m \u001b[0;34m@\u001b[0m\u001b[0mdecorator\u001b[0m\u001b[0;34m.\u001b[0m\u001b[0mdecorator\u001b[0m\u001b[0;34m\u001b[0m\u001b[0;34m\u001b[0m\u001b[0m\n",
            "\u001b[0;32m/usr/local/lib/python3.10/dist-packages/moviepy/video/VideoClip.py\u001b[0m in \u001b[0;36mwrite_videofile\u001b[0;34m(self, filename, fps, codec, bitrate, audio, audio_fps, preset, audio_nbytes, audio_codec, audio_bitrate, audio_bufsize, temp_audiofile, rewrite_audio, remove_temp, write_logfile, verbose, threads, ffmpeg_params, logger)\u001b[0m\n\u001b[1;32m    298\u001b[0m                                        logger=logger)\n\u001b[1;32m    299\u001b[0m \u001b[0;34m\u001b[0m\u001b[0m\n\u001b[0;32m--> 300\u001b[0;31m         ffmpeg_write_video(self, filename, fps, codec,\n\u001b[0m\u001b[1;32m    301\u001b[0m                            \u001b[0mbitrate\u001b[0m\u001b[0;34m=\u001b[0m\u001b[0mbitrate\u001b[0m\u001b[0;34m,\u001b[0m\u001b[0;34m\u001b[0m\u001b[0;34m\u001b[0m\u001b[0m\n\u001b[1;32m    302\u001b[0m                            \u001b[0mpreset\u001b[0m\u001b[0;34m=\u001b[0m\u001b[0mpreset\u001b[0m\u001b[0;34m,\u001b[0m\u001b[0;34m\u001b[0m\u001b[0;34m\u001b[0m\u001b[0m\n",
            "\u001b[0;32m/usr/local/lib/python3.10/dist-packages/moviepy/video/io/ffmpeg_writer.py\u001b[0m in \u001b[0;36mffmpeg_write_video\u001b[0;34m(clip, filename, fps, codec, bitrate, preset, withmask, write_logfile, audiofile, verbose, threads, ffmpeg_params, logger)\u001b[0m\n\u001b[1;32m    226\u001b[0m                 \u001b[0mframe\u001b[0m \u001b[0;34m=\u001b[0m \u001b[0mnp\u001b[0m\u001b[0;34m.\u001b[0m\u001b[0mdstack\u001b[0m\u001b[0;34m(\u001b[0m\u001b[0;34m[\u001b[0m\u001b[0mframe\u001b[0m\u001b[0;34m,\u001b[0m\u001b[0mmask\u001b[0m\u001b[0;34m]\u001b[0m\u001b[0;34m)\u001b[0m\u001b[0;34m\u001b[0m\u001b[0;34m\u001b[0m\u001b[0m\n\u001b[1;32m    227\u001b[0m \u001b[0;34m\u001b[0m\u001b[0m\n\u001b[0;32m--> 228\u001b[0;31m             \u001b[0mwriter\u001b[0m\u001b[0;34m.\u001b[0m\u001b[0mwrite_frame\u001b[0m\u001b[0;34m(\u001b[0m\u001b[0mframe\u001b[0m\u001b[0;34m)\u001b[0m\u001b[0;34m\u001b[0m\u001b[0;34m\u001b[0m\u001b[0m\n\u001b[0m\u001b[1;32m    229\u001b[0m \u001b[0;34m\u001b[0m\u001b[0m\n\u001b[1;32m    230\u001b[0m     \u001b[0;32mif\u001b[0m \u001b[0mwrite_logfile\u001b[0m\u001b[0;34m:\u001b[0m\u001b[0;34m\u001b[0m\u001b[0;34m\u001b[0m\u001b[0m\n",
            "\u001b[0;32m/usr/local/lib/python3.10/dist-packages/moviepy/video/io/ffmpeg_writer.py\u001b[0m in \u001b[0;36mwrite_frame\u001b[0;34m(self, img_array)\u001b[0m\n\u001b[1;32m    134\u001b[0m         \u001b[0;32mtry\u001b[0m\u001b[0;34m:\u001b[0m\u001b[0;34m\u001b[0m\u001b[0;34m\u001b[0m\u001b[0m\n\u001b[1;32m    135\u001b[0m             \u001b[0;32mif\u001b[0m \u001b[0mPY3\u001b[0m\u001b[0;34m:\u001b[0m\u001b[0;34m\u001b[0m\u001b[0;34m\u001b[0m\u001b[0m\n\u001b[0;32m--> 136\u001b[0;31m                \u001b[0mself\u001b[0m\u001b[0;34m.\u001b[0m\u001b[0mproc\u001b[0m\u001b[0;34m.\u001b[0m\u001b[0mstdin\u001b[0m\u001b[0;34m.\u001b[0m\u001b[0mwrite\u001b[0m\u001b[0;34m(\u001b[0m\u001b[0mimg_array\u001b[0m\u001b[0;34m.\u001b[0m\u001b[0mtobytes\u001b[0m\u001b[0;34m(\u001b[0m\u001b[0;34m)\u001b[0m\u001b[0;34m)\u001b[0m\u001b[0;34m\u001b[0m\u001b[0;34m\u001b[0m\u001b[0m\n\u001b[0m\u001b[1;32m    137\u001b[0m             \u001b[0;32melse\u001b[0m\u001b[0;34m:\u001b[0m\u001b[0;34m\u001b[0m\u001b[0;34m\u001b[0m\u001b[0m\n\u001b[1;32m    138\u001b[0m                \u001b[0mself\u001b[0m\u001b[0;34m.\u001b[0m\u001b[0mproc\u001b[0m\u001b[0;34m.\u001b[0m\u001b[0mstdin\u001b[0m\u001b[0;34m.\u001b[0m\u001b[0mwrite\u001b[0m\u001b[0;34m(\u001b[0m\u001b[0mimg_array\u001b[0m\u001b[0;34m.\u001b[0m\u001b[0mtostring\u001b[0m\u001b[0;34m(\u001b[0m\u001b[0;34m)\u001b[0m\u001b[0;34m)\u001b[0m\u001b[0;34m\u001b[0m\u001b[0;34m\u001b[0m\u001b[0m\n",
            "\u001b[0;31mKeyboardInterrupt\u001b[0m: "
          ]
        }
      ]
    },
    {
      "cell_type": "code",
      "source": [],
      "metadata": {
        "id": "3HA4OejQpV3L"
      },
      "execution_count": null,
      "outputs": []
    }
  ]
}